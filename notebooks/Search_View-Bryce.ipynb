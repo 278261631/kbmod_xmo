{
 "cells": [
  {
   "cell_type": "code",
   "execution_count": 78,
   "metadata": {
    "collapsed": false
   },
   "outputs": [
    {
     "name": "stdout",
     "output_type": "stream",
     "text": [
      "The autoreload extension is already loaded. To reload it, use:\n",
      "  %reload_ext autoreload\n"
     ]
    }
   ],
   "source": [
    "from astropy.io import fits\n",
    "import math\n",
    "import numpy as np\n",
    "import matplotlib.pyplot as plt\n",
    "import matplotlib.gridspec as gridspec\n",
    "import os\n",
    "import subprocess\n",
    "import pandas as pd\n",
    "from sklearn.cluster import DBSCAN\n",
    "from analyzeImage import analyzeImage\n",
    "import keras\n",
    "from keras.models import load_model\n",
    "from __future__ import print_function\n",
    "%matplotlib inline\n",
    "%load_ext autoreload\n",
    "%autoreload 2"
   ]
  },
  {
   "cell_type": "code",
   "execution_count": 22,
   "metadata": {
    "collapsed": true
   },
   "outputs": [],
   "source": [
    "gpu_code_path = \"../code/gpu/\"\n",
    "real_image_name = \"chip_7\"\n",
    "real_image_path = \"../../HITS/trimmed_chip_03/Blind15A_02/search_nights/\" #gpu_code_path+\"images/\"+real_image_name\n",
    "psi_image_path = gpu_code_path+\"output-images/psi\"\n",
    "phi_image_path = gpu_code_path+\"output-images/phi\""
   ]
  },
  {
   "cell_type": "code",
   "execution_count": 3,
   "metadata": {
    "collapsed": true
   },
   "outputs": [],
   "source": [
    "def execute(cmd):\n",
    "    popen = subprocess.Popen(cmd, stdout=subprocess.PIPE, universal_newlines=True)\n",
    "    for stdout_line in iter(popen.stdout.readline, \"\"):\n",
    "        yield stdout_line \n",
    "    popen.stdout.close()\n",
    "    return_code = popen.wait()\n",
    "    if return_code:\n",
    "        raise subprocess.CalledProcessError(return_code, cmd)"
   ]
  },
  {
   "cell_type": "code",
   "execution_count": 38,
   "metadata": {
    "collapsed": false
   },
   "outputs": [],
   "source": [
    "paramsFile = open('../code/gpu/debug/parameters.config', 'w')\n",
    "paramsFile.write(\n",
    "\"\"\"Debug ................ : 1\n",
    "Image Count .......... : 5\n",
    "Generate Images ...... : 0\n",
    "Image Width .......... : 500\n",
    "Image Height ......... : 500\n",
    "PSF Sigma ............ : 1.0\n",
    "Object Brightness .... : 360.0\n",
    "Object Initial x ..... : 320.0\n",
    "Object Initial y ..... : 180.0\n",
    "Velocity x ........... : -1.3\n",
    "Velocity y ........... : -0.2\n",
    "Background Level ..... : 1024.0\n",
    "Background Sigma ..... : 32.0\n",
    "Mask Threshold ....... : 40.0\n",
    "Mask Penalty ......... : 15.0\n",
    "Angles to Search ..... : 80\n",
    "Velocities to Search . : 20\n",
    "Minimum Velocity ..... : 300\n",
    "Maximum Velocity ..... : 450\n",
    "Write to file ........ : 1\n",
    "Source Images Path ... : ../../{source}/\n",
    "Psi Images Path ...... : ../../{psi}/\n",
    "Phi Images Path....... : ../../{phi}/\n",
    "\"\"\".format( source=real_image_path, psi=psi_image_path, phi=phi_image_path ))\n",
    "paramsFile.close()"
   ]
  },
  {
   "cell_type": "code",
   "execution_count": 5,
   "metadata": {
    "collapsed": false
   },
   "outputs": [
    {
     "name": "stdout",
     "output_type": "stream",
     "text": [
      "\n"
     ]
    }
   ],
   "source": [
    "#popen = subprocess.Popen( \"./clearImages.sh\", stdout=subprocess.PIPE, \n",
    "#                         stderr=subprocess.PIPE)\n",
    "#popen.wait()\n",
    "#output = popen.stderr.read()\n",
    "#output += popen.stdout.read()\n",
    "#print( output)"
   ]
  },
  {
   "cell_type": "code",
   "execution_count": 40,
   "metadata": {
    "collapsed": false
   },
   "outputs": [],
   "source": [
    "#for path in execute(\"./search.sh\"):\n",
    "#    print(path, end=\"\")"
   ]
  },
  {
   "cell_type": "code",
   "execution_count": 53,
   "metadata": {
    "collapsed": false
   },
   "outputs": [],
   "source": [
    "raw_results = np.genfromtxt('../data/results/HITS1.txt', names=True)"
   ]
  },
  {
   "cell_type": "code",
   "execution_count": 54,
   "metadata": {
    "collapsed": false
   },
   "outputs": [],
   "source": [
    "image_mjd = []\n",
    "\n",
    "for filename in sorted(os.listdir(real_image_path)):\n",
    "    hdulist = fits.open(os.path.join(real_image_path, filename))\n",
    "    image_mjd.append(hdulist[0].header['MJD'])\n",
    "\n",
    "image_mjd = np.array(image_mjd)\n",
    "image_times = image_mjd - image_mjd[0]\n",
    "#image_times*=24."
   ]
  },
  {
   "cell_type": "markdown",
   "metadata": {},
   "source": [
    "Load Psi Images"
   ]
  },
  {
   "cell_type": "code",
   "execution_count": 55,
   "metadata": {
    "collapsed": false
   },
   "outputs": [],
   "source": [
    "hdulist = fits.open(os.path.join(psi_image_path, os.listdir(psi_image_path)[0]))\n",
    "num_images = len(os.listdir(psi_image_path))\n",
    "image_shape = np.shape(hdulist[0].data)\n",
    "im_psi_array = np.zeros((num_images, image_shape[0], image_shape[1]))\n",
    "\n",
    "for idx, filename in list(enumerate(sorted(os.listdir(psi_image_path)))):\n",
    "\n",
    "    #print (str('Loaded ' + filename))\n",
    "\n",
    "    image_file = os.path.join(psi_image_path, filename)\n",
    "    hdulist = fits.open(image_file)\n",
    "    im_psi_array[idx] = hdulist[0].data#*mask\n"
   ]
  },
  {
   "cell_type": "markdown",
   "metadata": {},
   "source": [
    "Load Phi Images (for potentially making psi/phi stamps)"
   ]
  },
  {
   "cell_type": "code",
   "execution_count": 56,
   "metadata": {
    "collapsed": false
   },
   "outputs": [],
   "source": [
    "hdulist = fits.open(os.path.join(phi_image_path, os.listdir(phi_image_path)[0]))\n",
    "num_images = len(os.listdir(phi_image_path))\n",
    "image_shape = np.shape(hdulist[0].data)\n",
    "im_phi_array = np.zeros((num_images, image_shape[0], image_shape[1]))\n",
    "\n",
    "for idx, filename in list(enumerate(sorted(os.listdir(phi_image_path)))):\n",
    "\n",
    "   # print (str('Loaded ' + filename))\n",
    "\n",
    "    image_file = os.path.join(phi_image_path, filename)\n",
    "    hdulist = fits.open(image_file)\n",
    "    im_phi_array[idx] = hdulist[0].data#*mask\n"
   ]
  },
  {
   "cell_type": "code",
   "execution_count": 57,
   "metadata": {
    "collapsed": false
   },
   "outputs": [],
   "source": [
    "hdulist = fits.open(os.path.join(real_image_path, os.listdir(real_image_path)[0]))\n",
    "num_images = len(os.listdir(real_image_path))\n",
    "image_shape = np.shape(hdulist[1].data)\n",
    "im_array = np.zeros((num_images, image_shape[0], image_shape[1]))\n",
    "\n",
    "\n",
    "for idx, filename in list(enumerate(sorted(os.listdir(real_image_path)))):\n",
    "\n",
    "   # print( str('Loaded ' + filename))\n",
    "\n",
    "    image_file = os.path.join(real_image_path, filename)\n",
    "    hdulist = fits.open(image_file)\n",
    "    im_array[idx] = hdulist[1].data#*mask\n"
   ]
  },
  {
   "cell_type": "code",
   "execution_count": 58,
   "metadata": {
    "collapsed": false
   },
   "outputs": [],
   "source": [
    "ai = analyzeImage()"
   ]
  },
  {
   "cell_type": "code",
   "execution_count": 59,
   "metadata": {
    "collapsed": true
   },
   "outputs": [],
   "source": [
    "model = load_model('../data/kbmod_model.h5')"
   ]
  },
  {
   "cell_type": "code",
   "execution_count": 60,
   "metadata": {
    "collapsed": false
   },
   "outputs": [
    {
     "name": "stdout",
     "output_type": "stream",
     "text": [
      "(979582,)\n",
      "(73964,)\n",
      "[(102.0, 2713.0, 0.0, 0.0, -242.455, 196.366, 35.315, 7068.809)\n",
      " (102.0, 2718.0, 0.0, 0.0, -242.045, 175.883, 34.227, 6647.873)\n",
      " (102.0, 2722.0, 0.0, 0.0, -240.183, 156.003, 34.146, 6617.49) ...,\n",
      " (97.0, 3034.0, 0.0, 0.0, 183.904, -49.312, 5.0, 289.564)\n",
      " (1725.0, 2800.0, 0.0, 0.0, -564.532, 183.48, 5.0, 236.759)\n",
      " (1724.0, 2859.0, 0.0, 0.0, -504.124, -79.795, 5.0, 219.783)]\n"
     ]
    }
   ],
   "source": [
    "print(np.shape(raw_results))\n",
    "results = raw_results[np.where(raw_results['likelihood'] >= 5.0)]\n",
    "print(np.shape(results))\n",
    "print(results)"
   ]
  },
  {
   "cell_type": "code",
   "execution_count": 61,
   "metadata": {
    "collapsed": false
   },
   "outputs": [
    {
     "data": {
      "text/plain": [
       "(array([  0.00000000e+00,   4.24647000e+05,   3.53117000e+05,\n",
       "          8.90010000e+04,   3.88530000e+04,   2.26620000e+04,\n",
       "          1.60760000e+04,   1.38070000e+04,   1.05850000e+04,\n",
       "          5.68300000e+03,   2.11100000e+03,   1.49800000e+03,\n",
       "          5.59000000e+02,   4.23000000e+02,   1.54000000e+02,\n",
       "          1.17000000e+02,   7.60000000e+01,   5.30000000e+01,\n",
       "          3.70000000e+01]),\n",
       " array([ 0,  1,  2,  3,  4,  5,  6,  7,  8,  9, 10, 11, 12, 13, 14, 15, 16,\n",
       "        17, 18, 19]),\n",
       " <a list of 19 Patch objects>)"
      ]
     },
     "execution_count": 61,
     "metadata": {},
     "output_type": "execute_result"
    },
    {
     "data": {
      "image/png": "[encoded data removed]",
      "text/plain": [
       "<matplotlib.figure.Figure at 0x7f7c80523c50>"
      ]
     },
     "metadata": {},
     "output_type": "display_data"
    }
   ],
   "source": [
    "plt.hist(raw_results['likelihood'], bins=np.arange(20))"
   ]
  },
  {
   "cell_type": "code",
   "execution_count": 62,
   "metadata": {
    "collapsed": false
   },
   "outputs": [
    {
     "name": "stdout",
     "output_type": "stream",
     "text": [
      "Finished chunk 1 of 15\n",
      "Finished chunk 2 of 15\n",
      "Finished chunk 3 of 15\n",
      "Finished chunk 4 of 15\n",
      "Finished chunk 5 of 15\n",
      "Finished chunk 6 of 15\n",
      "Finished chunk 7 of 15\n",
      "Finished chunk 8 of 15\n",
      "Finished chunk 9 of 15\n",
      "Finished chunk 10 of 15\n",
      "Finished chunk 11 of 15\n",
      "Finished chunk 12 of 15\n",
      "Finished chunk 13 of 15\n",
      "Finished chunk 14 of 15\n",
      "Finished chunk 15 of 15\n"
     ]
    }
   ],
   "source": [
    "filtered_results = ai.filter_results(im_array, results, image_times, model, chunk_size=5000)"
   ]
  },
  {
   "cell_type": "code",
   "execution_count": 63,
   "metadata": {
    "collapsed": false
   },
   "outputs": [
    {
     "name": "stdout",
     "output_type": "stream",
     "text": [
      "30801\n"
     ]
    },
    {
     "data": {
      "text/plain": [
       "array([(102.0, 2713.0, 0.0, 0.0, -242.455, 196.366, 35.315, 7068.809),\n",
       "       (102.0, 2718.0, 0.0, 0.0, -242.045, 175.883, 34.227, 6647.873),\n",
       "       (102.0, 2722.0, 0.0, 0.0, -240.183, 156.003, 34.146, 6617.49), ...,\n",
       "       (147.0, 3032.0, 0.0, 0.0, -146.825, -39.326, 5.0, 288.21),\n",
       "       (37.0, 3012.0, 0.0, 0.0, 579.971, 91.856, 5.0, 245.46),\n",
       "       (97.0, 3034.0, 0.0, 0.0, 183.904, -49.312, 5.0, 289.564)], \n",
       "      dtype=[('t0_x', '<f8'), ('t0_y', '<f8'), ('theta_par', '<f8'), ('theta_perp', '<f8'), ('v_x', '<f8'), ('v_y', '<f8'), ('likelihood', '<f8'), ('est_flux', '<f8')])"
      ]
     },
     "execution_count": 63,
     "metadata": {},
     "output_type": "execute_result"
    }
   ],
   "source": [
    "print( len(filtered_results) )\n",
    "filtered_results"
   ]
  },
  {
   "cell_type": "code",
   "execution_count": 64,
   "metadata": {
    "collapsed": false
   },
   "outputs": [],
   "source": [
    "results_to_cluster = filtered_results\n",
    "arg = dict(eps=0.03, min_samples=1, n_jobs=-1)\n",
    "clustered_results = ai.clusterResults(results_to_cluster, dbscan_args=arg)#, im_array, image_times)\n",
    "clustered_results =  results_to_cluster[np.array(clustered_results[1], dtype=np.int)]\n",
    "#best_targets = range(stamp_count)\n",
    "#best_targets"
   ]
  },
  {
   "cell_type": "code",
   "execution_count": 65,
   "metadata": {
    "collapsed": false
   },
   "outputs": [
    {
     "name": "stdout",
     "output_type": "stream",
     "text": [
      "5\n"
     ]
    },
    {
     "data": {
      "text/plain": [
       "array([(102.0, 2713.0, 0.0, 0.0, -242.455, 196.366, 35.315, 7068.809),\n",
       "       (1642.0, 2846.0, 0.0, 0.0, -13.074, -20.126, 9.939, 482.025),\n",
       "       (128.0, 3099.0, 0.0, 0.0, -25.103, -477.741, 6.704, 496.191),\n",
       "       (1528.0, 3494.0, 0.0, 0.0, -391.717, -317.133, 5.69, 352.084),\n",
       "       (1511.0, 3459.0, 0.0, 0.0, -142.028, 218.734, 5.572, 347.106)], \n",
       "      dtype=[('t0_x', '<f8'), ('t0_y', '<f8'), ('theta_par', '<f8'), ('theta_perp', '<f8'), ('v_x', '<f8'), ('v_y', '<f8'), ('likelihood', '<f8'), ('est_flux', '<f8')])"
      ]
     },
     "execution_count": 65,
     "metadata": {},
     "output_type": "execute_result"
    }
   ],
   "source": [
    "print( len(clustered_results) )\n",
    "clustered_results"
   ]
  },
  {
   "cell_type": "code",
   "execution_count": 118,
   "metadata": {
    "collapsed": true
   },
   "outputs": [],
   "source": [
    "test = [[1,2], [3,4], [5,6]]\n",
    "blank = []"
   ]
  },
  {
   "cell_type": "code",
   "execution_count": 121,
   "metadata": {
    "collapsed": false
   },
   "outputs": [],
   "source": [
    "for x in test:\n",
    "    blank.append(x)"
   ]
  },
  {
   "cell_type": "code",
   "execution_count": 122,
   "metadata": {
    "collapsed": false
   },
   "outputs": [
    {
     "data": {
      "text/plain": [
       "[[1, 2], [3, 4], [5, 6], [1, 2], [3, 4], [5, 6]]"
      ]
     },
     "execution_count": 122,
     "metadata": {},
     "output_type": "execute_result"
    }
   ],
   "source": [
    "blank"
   ]
  },
  {
   "cell_type": "code",
   "execution_count": 89,
   "metadata": {
    "collapsed": false
   },
   "outputs": [],
   "source": [
    "df = pd.DataFrame(columns=['t0_x', 't0_y', 'theta_par', 'theta_perp', 'v_x', 'v_y', 'likelihood', 'est_flux', 'chip_num'])"
   ]
  },
  {
   "cell_type": "code",
   "execution_count": 91,
   "metadata": {
    "collapsed": true
   },
   "outputs": [],
   "source": [
    "new_df = pd.DataFrame.from_records(clustered_results)"
   ]
  },
  {
   "cell_type": "code",
   "execution_count": 92,
   "metadata": {
    "collapsed": false
   },
   "outputs": [],
   "source": [
    "new_df['chip_num'] = 3"
   ]
  },
  {
   "cell_type": "code",
   "execution_count": 93,
   "metadata": {
    "collapsed": false
   },
   "outputs": [
    {
     "data": {
      "text/html": [
       "<div>\n",
       "<table border=\"1\" class=\"dataframe\">\n",
       "  <thead>\n",
       "    <tr style=\"text-align: right;\">\n",
       "      <th></th>\n",
       "      <th>t0_x</th>\n",
       "      <th>t0_y</th>\n",
       "      <th>theta_par</th>\n",
       "      <th>theta_perp</th>\n",
       "      <th>v_x</th>\n",
       "      <th>v_y</th>\n",
       "      <th>likelihood</th>\n",
       "      <th>est_flux</th>\n",
       "      <th>chip_num</th>\n",
       "    </tr>\n",
       "  </thead>\n",
       "  <tbody>\n",
       "    <tr>\n",
       "      <th>0</th>\n",
       "      <td>102.0</td>\n",
       "      <td>2713.0</td>\n",
       "      <td>0.0</td>\n",
       "      <td>0.0</td>\n",
       "      <td>-242.455</td>\n",
       "      <td>196.366</td>\n",
       "      <td>35.315</td>\n",
       "      <td>7068.809</td>\n",
       "      <td>3.0</td>\n",
       "    </tr>\n",
       "    <tr>\n",
       "      <th>1</th>\n",
       "      <td>1642.0</td>\n",
       "      <td>2846.0</td>\n",
       "      <td>0.0</td>\n",
       "      <td>0.0</td>\n",
       "      <td>-13.074</td>\n",
       "      <td>-20.126</td>\n",
       "      <td>9.939</td>\n",
       "      <td>482.025</td>\n",
       "      <td>3.0</td>\n",
       "    </tr>\n",
       "    <tr>\n",
       "      <th>2</th>\n",
       "      <td>128.0</td>\n",
       "      <td>3099.0</td>\n",
       "      <td>0.0</td>\n",
       "      <td>0.0</td>\n",
       "      <td>-25.103</td>\n",
       "      <td>-477.741</td>\n",
       "      <td>6.704</td>\n",
       "      <td>496.191</td>\n",
       "      <td>3.0</td>\n",
       "    </tr>\n",
       "    <tr>\n",
       "      <th>3</th>\n",
       "      <td>1528.0</td>\n",
       "      <td>3494.0</td>\n",
       "      <td>0.0</td>\n",
       "      <td>0.0</td>\n",
       "      <td>-391.717</td>\n",
       "      <td>-317.133</td>\n",
       "      <td>5.690</td>\n",
       "      <td>352.084</td>\n",
       "      <td>3.0</td>\n",
       "    </tr>\n",
       "    <tr>\n",
       "      <th>4</th>\n",
       "      <td>1511.0</td>\n",
       "      <td>3459.0</td>\n",
       "      <td>0.0</td>\n",
       "      <td>0.0</td>\n",
       "      <td>-142.028</td>\n",
       "      <td>218.734</td>\n",
       "      <td>5.572</td>\n",
       "      <td>347.106</td>\n",
       "      <td>3.0</td>\n",
       "    </tr>\n",
       "  </tbody>\n",
       "</table>\n",
       "</div>"
      ],
      "text/plain": [
       "     t0_x    t0_y  theta_par  theta_perp      v_x      v_y  likelihood  \\\n",
       "0   102.0  2713.0        0.0         0.0 -242.455  196.366      35.315   \n",
       "1  1642.0  2846.0        0.0         0.0  -13.074  -20.126       9.939   \n",
       "2   128.0  3099.0        0.0         0.0  -25.103 -477.741       6.704   \n",
       "3  1528.0  3494.0        0.0         0.0 -391.717 -317.133       5.690   \n",
       "4  1511.0  3459.0        0.0         0.0 -142.028  218.734       5.572   \n",
       "\n",
       "   est_flux  chip_num  \n",
       "0  7068.809       3.0  \n",
       "1   482.025       3.0  \n",
       "2   496.191       3.0  \n",
       "3   352.084       3.0  \n",
       "4   347.106       3.0  "
      ]
     },
     "execution_count": 93,
     "metadata": {},
     "output_type": "execute_result"
    }
   ],
   "source": [
    "df.append(new_df, ignore_index=True)"
   ]
  },
  {
   "cell_type": "code",
   "execution_count": 98,
   "metadata": {
    "collapsed": false
   },
   "outputs": [],
   "source": [
    "df = df.append(new_df, ignore_index=True)"
   ]
  },
  {
   "cell_type": "code",
   "execution_count": 99,
   "metadata": {
    "collapsed": false
   },
   "outputs": [
    {
     "data": {
      "text/html": [
       "<div>\n",
       "<table border=\"1\" class=\"dataframe\">\n",
       "  <thead>\n",
       "    <tr style=\"text-align: right;\">\n",
       "      <th></th>\n",
       "      <th>t0_x</th>\n",
       "      <th>t0_y</th>\n",
       "      <th>theta_par</th>\n",
       "      <th>theta_perp</th>\n",
       "      <th>v_x</th>\n",
       "      <th>v_y</th>\n",
       "      <th>likelihood</th>\n",
       "      <th>est_flux</th>\n",
       "      <th>chip_num</th>\n",
       "    </tr>\n",
       "  </thead>\n",
       "  <tbody>\n",
       "    <tr>\n",
       "      <th>0</th>\n",
       "      <td>102.0</td>\n",
       "      <td>2713.0</td>\n",
       "      <td>0.0</td>\n",
       "      <td>0.0</td>\n",
       "      <td>-242.455</td>\n",
       "      <td>196.366</td>\n",
       "      <td>35.315</td>\n",
       "      <td>7068.809</td>\n",
       "      <td>3.0</td>\n",
       "    </tr>\n",
       "    <tr>\n",
       "      <th>1</th>\n",
       "      <td>1642.0</td>\n",
       "      <td>2846.0</td>\n",
       "      <td>0.0</td>\n",
       "      <td>0.0</td>\n",
       "      <td>-13.074</td>\n",
       "      <td>-20.126</td>\n",
       "      <td>9.939</td>\n",
       "      <td>482.025</td>\n",
       "      <td>3.0</td>\n",
       "    </tr>\n",
       "    <tr>\n",
       "      <th>2</th>\n",
       "      <td>128.0</td>\n",
       "      <td>3099.0</td>\n",
       "      <td>0.0</td>\n",
       "      <td>0.0</td>\n",
       "      <td>-25.103</td>\n",
       "      <td>-477.741</td>\n",
       "      <td>6.704</td>\n",
       "      <td>496.191</td>\n",
       "      <td>3.0</td>\n",
       "    </tr>\n",
       "    <tr>\n",
       "      <th>3</th>\n",
       "      <td>1528.0</td>\n",
       "      <td>3494.0</td>\n",
       "      <td>0.0</td>\n",
       "      <td>0.0</td>\n",
       "      <td>-391.717</td>\n",
       "      <td>-317.133</td>\n",
       "      <td>5.690</td>\n",
       "      <td>352.084</td>\n",
       "      <td>3.0</td>\n",
       "    </tr>\n",
       "    <tr>\n",
       "      <th>4</th>\n",
       "      <td>1511.0</td>\n",
       "      <td>3459.0</td>\n",
       "      <td>0.0</td>\n",
       "      <td>0.0</td>\n",
       "      <td>-142.028</td>\n",
       "      <td>218.734</td>\n",
       "      <td>5.572</td>\n",
       "      <td>347.106</td>\n",
       "      <td>3.0</td>\n",
       "    </tr>\n",
       "    <tr>\n",
       "      <th>5</th>\n",
       "      <td>102.0</td>\n",
       "      <td>2713.0</td>\n",
       "      <td>0.0</td>\n",
       "      <td>0.0</td>\n",
       "      <td>-242.455</td>\n",
       "      <td>196.366</td>\n",
       "      <td>35.315</td>\n",
       "      <td>7068.809</td>\n",
       "      <td>3.0</td>\n",
       "    </tr>\n",
       "    <tr>\n",
       "      <th>6</th>\n",
       "      <td>1642.0</td>\n",
       "      <td>2846.0</td>\n",
       "      <td>0.0</td>\n",
       "      <td>0.0</td>\n",
       "      <td>-13.074</td>\n",
       "      <td>-20.126</td>\n",
       "      <td>9.939</td>\n",
       "      <td>482.025</td>\n",
       "      <td>3.0</td>\n",
       "    </tr>\n",
       "    <tr>\n",
       "      <th>7</th>\n",
       "      <td>128.0</td>\n",
       "      <td>3099.0</td>\n",
       "      <td>0.0</td>\n",
       "      <td>0.0</td>\n",
       "      <td>-25.103</td>\n",
       "      <td>-477.741</td>\n",
       "      <td>6.704</td>\n",
       "      <td>496.191</td>\n",
       "      <td>3.0</td>\n",
       "    </tr>\n",
       "    <tr>\n",
       "      <th>8</th>\n",
       "      <td>1528.0</td>\n",
       "      <td>3494.0</td>\n",
       "      <td>0.0</td>\n",
       "      <td>0.0</td>\n",
       "      <td>-391.717</td>\n",
       "      <td>-317.133</td>\n",
       "      <td>5.690</td>\n",
       "      <td>352.084</td>\n",
       "      <td>3.0</td>\n",
       "    </tr>\n",
       "    <tr>\n",
       "      <th>9</th>\n",
       "      <td>1511.0</td>\n",
       "      <td>3459.0</td>\n",
       "      <td>0.0</td>\n",
       "      <td>0.0</td>\n",
       "      <td>-142.028</td>\n",
       "      <td>218.734</td>\n",
       "      <td>5.572</td>\n",
       "      <td>347.106</td>\n",
       "      <td>3.0</td>\n",
       "    </tr>\n",
       "  </tbody>\n",
       "</table>\n",
       "</div>"
      ],
      "text/plain": [
       "     t0_x    t0_y  theta_par  theta_perp      v_x      v_y  likelihood  \\\n",
       "0   102.0  2713.0        0.0         0.0 -242.455  196.366      35.315   \n",
       "1  1642.0  2846.0        0.0         0.0  -13.074  -20.126       9.939   \n",
       "2   128.0  3099.0        0.0         0.0  -25.103 -477.741       6.704   \n",
       "3  1528.0  3494.0        0.0         0.0 -391.717 -317.133       5.690   \n",
       "4  1511.0  3459.0        0.0         0.0 -142.028  218.734       5.572   \n",
       "5   102.0  2713.0        0.0         0.0 -242.455  196.366      35.315   \n",
       "6  1642.0  2846.0        0.0         0.0  -13.074  -20.126       9.939   \n",
       "7   128.0  3099.0        0.0         0.0  -25.103 -477.741       6.704   \n",
       "8  1528.0  3494.0        0.0         0.0 -391.717 -317.133       5.690   \n",
       "9  1511.0  3459.0        0.0         0.0 -142.028  218.734       5.572   \n",
       "\n",
       "   est_flux  chip_num  \n",
       "0  7068.809       3.0  \n",
       "1   482.025       3.0  \n",
       "2   496.191       3.0  \n",
       "3   352.084       3.0  \n",
       "4   347.106       3.0  \n",
       "5  7068.809       3.0  \n",
       "6   482.025       3.0  \n",
       "7   496.191       3.0  \n",
       "8   352.084       3.0  \n",
       "9   347.106       3.0  "
      ]
     },
     "execution_count": 99,
     "metadata": {},
     "output_type": "execute_result"
    }
   ],
   "source": [
    "df"
   ]
  },
  {
   "cell_type": "code",
   "execution_count": 73,
   "metadata": {
    "collapsed": false,
    "scrolled": false
   },
   "outputs": [
    {
     "data": {
      "image/png": "[encoded data removed]",
      "text/plain": [
       "<matplotlib.figure.Figure at 0x7f7c6754f810>"
      ]
     },
     "metadata": {},
     "output_type": "display_data"
    },
    {
     "data": {
      "image/png": "[encoded data removed]",
      "text/plain": [
       "<matplotlib.figure.Figure at 0x7f7c67614c50>"
      ]
     },
     "metadata": {},
     "output_type": "display_data"
    },
    {
     "data": {
      "image/png": "[encoded data removed]",
      "text/plain": [
       "<matplotlib.figure.Figure at 0x7f7c6777bf50>"
      ]
     },
     "metadata": {},
     "output_type": "display_data"
    },
    {
     "data": {
      "image/png": "[encoded data removed]",
      "text/plain": [
       "<matplotlib.figure.Figure at 0x7f7c676bd6d0>"
      ]
     },
     "metadata": {},
     "output_type": "display_data"
    },
    {
     "data": {
      "image/png": "[encoded data removed]",
      "text/plain": [
       "<matplotlib.figure.Figure at 0x7f7c6740ef50>"
      ]
     },
     "metadata": {},
     "output_type": "display_data"
    }
   ],
   "source": [
    "f_results = clustered_results#filtered_results\n",
    "rejected = 0\n",
    "for imNum in range(min(len(f_results),40)):\n",
    "    current = imNum#best_targets[imNum]\n",
    "    fig = plt.figure(figsize=(8,3))\n",
    "    fig.add_subplot(121)\n",
    "    plt.imshow(ai.createPostageStamp(im_array,\n",
    "                                         list(f_results[['t0_x', 't0_y']][current]),\n",
    "                                         np.array(list(f_results[['v_x', 'v_y']][current])),\n",
    "                                         image_times, \n",
    "                                         [25., 25.])[0],\n",
    "                    origin='lower',\n",
    "               #cmap=plt.cm.Greys_r,\n",
    "               interpolation='None')\n",
    "    plt.title(str('#' + str(imNum+1) + ' [x,y] = ' + str(np.round(list(f_results[['t0_x', 't0_y']][current]), 2))\n",
    "                  + ' v = ' + str(np.round(list(f_results[['v_x', 'v_y']][current]),2)) + ' ' +\n",
    "                  str(f_results['likelihood'][current])))\n",
    "    fig.add_subplot(122)\n",
    "    ai.plotLightCurves(im_array, f_results[current], image_times)\n",
    "    plt.tight_layout()\n",
    "    traj_coords = ai.calc_traj_coords(f_results[current], image_times)\n",
    "    light_curve = [im_array[x, traj_coords[x,1], traj_coords[x,0]] for x in range(len(im_array))]\n",
    "    if np.max(light_curve) > 20*np.median(light_curve):\n",
    "        rejected+=1\n",
    "    elif np.median(light_curve) < 0.:\n",
    "        rejected+=1\n",
    " #   plt.savefig(\"stamps/stamp\"+str(imNum+1)+\".png\")\n",
    "    plt.show()\n"
   ]
  },
  {
   "cell_type": "code",
   "execution_count": 74,
   "metadata": {
    "collapsed": false
   },
   "outputs": [
    {
     "data": {
      "text/plain": [
       "array([ 0.       ,  0.0680697,  0.153044 ,  0.2217088])"
      ]
     },
     "execution_count": 74,
     "metadata": {},
     "output_type": "execute_result"
    }
   ],
   "source": [
    "image_times"
   ]
  },
  {
   "cell_type": "code",
   "execution_count": 75,
   "metadata": {
    "collapsed": false
   },
   "outputs": [
    {
     "data": {
      "text/plain": [
       "4"
      ]
     },
     "execution_count": 75,
     "metadata": {},
     "output_type": "execute_result"
    }
   ],
   "source": [
    "rejected"
   ]
  },
  {
   "cell_type": "code",
   "execution_count": 77,
   "metadata": {
    "collapsed": false
   },
   "outputs": [
    {
     "data": {
      "text/plain": [
       "array([(128.0, 3099.0, 0.0, 0.0, -25.103, -477.741, 6.704, 496.191),\n",
       "       (1511.0, 3459.0, 0.0, 0.0, -142.028, 218.734, 5.572, 347.106)], \n",
       "      dtype=[('t0_x', '<f8'), ('t0_y', '<f8'), ('theta_par', '<f8'), ('theta_perp', '<f8'), ('v_x', '<f8'), ('v_y', '<f8'), ('likelihood', '<f8'), ('est_flux', '<f8')])"
      ]
     },
     "execution_count": 77,
     "metadata": {},
     "output_type": "execute_result"
    }
   ],
   "source": [
    "f_results[[2,4]]"
   ]
  },
  {
   "cell_type": "code",
   "execution_count": null,
   "metadata": {
    "collapsed": true
   },
   "outputs": [],
   "source": []
  }
 ],
 "metadata": {
  "kernelspec": {
   "display_name": "Python 2",
   "language": "python",
   "name": "python2"
  },
  "language_info": {
   "codemirror_mode": {
    "name": "ipython",
    "version": 2
   },
   "file_extension": ".py",
   "mimetype": "text/x-python",
   "name": "python",
   "nbconvert_exporter": "python",
   "pygments_lexer": "ipython2",
   "version": "2.7.13"
  }
 },
 "nbformat": 4,
 "nbformat_minor": 2
}
