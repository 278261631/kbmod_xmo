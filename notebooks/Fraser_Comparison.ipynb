{
 "cells": [
  {
   "cell_type": "code",
   "execution_count": 1,
   "metadata": {
    "collapsed": false
   },
   "outputs": [],
   "source": [
    "from kbmodpy import kbmod as kb\n",
    "from trajectoryFiltering import *\n",
    "import numpy as np\n",
    "import random as rd\n",
    "import math\n",
    "import matplotlib.pyplot as plt\n",
    "import os\n",
    "%matplotlib inline"
   ]
  },
  {
   "cell_type": "code",
   "execution_count": 2,
   "metadata": {
    "collapsed": true
   },
   "outputs": [],
   "source": [
    "path = '../../fraser/chip_7/'"
   ]
  },
  {
   "cell_type": "code",
   "execution_count": 3,
   "metadata": {
    "collapsed": false
   },
   "outputs": [],
   "source": [
    "files = os.listdir(path)"
   ]
  },
  {
   "cell_type": "code",
   "execution_count": 4,
   "metadata": {
    "collapsed": true
   },
   "outputs": [],
   "source": [
    "max_imgs = 5"
   ]
  },
  {
   "cell_type": "code",
   "execution_count": 5,
   "metadata": {
    "collapsed": false
   },
   "outputs": [
    {
     "data": {
      "text/plain": [
       "['../../fraser/chip_7/CORR40535777.fits',\n",
       " '../../fraser/chip_7/CORR40535787.fits',\n",
       " '../../fraser/chip_7/CORR40535797.fits',\n",
       " '../../fraser/chip_7/CORR40535807.fits',\n",
       " '../../fraser/chip_7/CORR40535817.fits']"
      ]
     },
     "execution_count": 5,
     "metadata": {},
     "output_type": "execute_result"
    }
   ],
   "source": [
    "files.sort()\n",
    "files = [path+f for f in files]\n",
    "files = files[:max_imgs]\n",
    "files"
   ]
  },
  {
   "cell_type": "code",
   "execution_count": 6,
   "metadata": {
    "collapsed": true
   },
   "outputs": [],
   "source": [
    "images = [kb.layered_image(f) for f in files]"
   ]
  },
  {
   "cell_type": "markdown",
   "metadata": {
    "collapsed": true
   },
   "source": [
    "Object Generation Parameters"
   ]
  },
  {
   "cell_type": "code",
   "execution_count": 7,
   "metadata": {
    "collapsed": false
   },
   "outputs": [],
   "source": [
    "p = kb.psf(1.5)\n",
    "object_count = 10\n",
    "x_range = (5,1750)\n",
    "y_range = (5, 3650)\n",
    "angle_range = (0.1, 0.5)\n",
    "velocity_range = (200, 300)\n",
    "flux_range = (800, 1500)"
   ]
  },
  {
   "cell_type": "markdown",
   "metadata": {
    "collapsed": false
   },
   "source": [
    "Search Parameters"
   ]
  },
  {
   "cell_type": "code",
   "execution_count": 8,
   "metadata": {
    "collapsed": true
   },
   "outputs": [],
   "source": [
    "min_observations = 25\n",
    "angle_steps = 120\n",
    "velocity_steps = 100\n",
    "search_margin = 1.2"
   ]
  },
  {
   "cell_type": "code",
   "execution_count": 9,
   "metadata": {
    "collapsed": false
   },
   "outputs": [
    {
     "name": "stdout",
     "output_type": "stream",
     "text": [
      "0.4\n",
      "100\n"
     ]
    }
   ],
   "source": [
    "print(angle_range[1]-angle_range[0])\n",
    "print(velocity_range[1]-velocity_range[0])"
   ]
  },
  {
   "cell_type": "markdown",
   "metadata": {},
   "source": [
    "Generate Random trajectories within bounds"
   ]
  },
  {
   "cell_type": "code",
   "execution_count": 10,
   "metadata": {
    "collapsed": false
   },
   "outputs": [],
   "source": [
    "results_key = []\n",
    "for _ in range(object_count):\n",
    "    traj = kb.trajectory()\n",
    "    traj.x = int(rd.uniform(*x_range))\n",
    "    traj.y = int(rd.uniform(*y_range))\n",
    "    ang = rd.uniform(*angle_range)\n",
    "    vel = rd.uniform(*velocity_range)\n",
    "    traj.x_v = vel*math.cos(ang)\n",
    "    traj.y_v = vel*math.sin(ang)\n",
    "    traj.flux = rd.uniform(*flux_range)\n",
    "    results_key.append(traj)"
   ]
  },
  {
   "cell_type": "markdown",
   "metadata": {},
   "source": [
    "Add a real object to the list of trajectories"
   ]
  },
  {
   "cell_type": "code",
   "execution_count": 11,
   "metadata": {
    "collapsed": false
   },
   "outputs": [
    {
     "data": {
      "text/plain": [
       "[lh: 0.000000 flux: 854.115479 x: 988 y: 1462 x_v: 225.638824 y_v: 35.730892 obs_count: 0,\n",
       " lh: 0.000000 flux: 1278.079834 x: 1087 y: 101 x_v: 260.487457 y_v: 134.848862 obs_count: 0,\n",
       " lh: 0.000000 flux: 1054.644897 x: 836 y: 744 x_v: 229.876434 y_v: 62.267994 obs_count: 0,\n",
       " lh: 0.000000 flux: 1462.721436 x: 476 y: 1025 x_v: 209.402924 y_v: 90.854378 obs_count: 0,\n",
       " lh: 0.000000 flux: 961.958740 x: 1566 y: 2891 x_v: 217.067871 y_v: 35.844292 obs_count: 0,\n",
       " lh: 0.000000 flux: 866.133911 x: 1687 y: 1239 x_v: 204.448212 y_v: 58.760395 obs_count: 0,\n",
       " lh: 0.000000 flux: 1489.992432 x: 32 y: 2531 x_v: 264.729034 y_v: 132.300629 obs_count: 0,\n",
       " lh: 0.000000 flux: 1181.978394 x: 656 y: 279 x_v: 191.929962 y_v: 85.476501 obs_count: 0,\n",
       " lh: 0.000000 flux: 978.802429 x: 1030 y: 186 x_v: 268.776642 y_v: 89.378326 obs_count: 0,\n",
       " lh: 0.000000 flux: 1311.843384 x: 1634 y: 332 x_v: 255.883377 y_v: 68.896866 obs_count: 0]"
      ]
     },
     "execution_count": 11,
     "metadata": {},
     "output_type": "execute_result"
    }
   ],
   "source": [
    "if path == '../../HITS/test_35/4,6tempExp/new_header/':\n",
    "    real_result = kb.trajectory()\n",
    "    real_result.flux = 5300\n",
    "    real_result.x = 3123\n",
    "    real_result.y = 3043\n",
    "    real_result.x_v = 2425\n",
    "    real_result.y_v = 1050\n",
    "    results_key.append(real_result)\n",
    "results_key"
   ]
  },
  {
   "cell_type": "markdown",
   "metadata": {},
   "source": [
    "Test that clustering is not able to collapse together too many unique trajectories"
   ]
  },
  {
   "cell_type": "code",
   "execution_count": 12,
   "metadata": {
    "collapsed": false
   },
   "outputs": [
    {
     "data": {
      "text/plain": [
       "10"
      ]
     },
     "execution_count": 12,
     "metadata": {},
     "output_type": "execute_result"
    }
   ],
   "source": [
    "len(cluster_trajectories(results_key, dbscan_args=dict(eps=0.007, min_samples=1))[1])"
   ]
  },
  {
   "cell_type": "markdown",
   "metadata": {},
   "source": [
    "Use the generated trajectories to add objects into the images"
   ]
  },
  {
   "cell_type": "code",
   "execution_count": 13,
   "metadata": {
    "collapsed": false
   },
   "outputs": [],
   "source": [
    "for t in results_key:\n",
    "    add_trajectory(images, t, p)"
   ]
  },
  {
   "cell_type": "markdown",
   "metadata": {},
   "source": [
    "Sanity check"
   ]
  },
  {
   "cell_type": "code",
   "execution_count": 14,
   "metadata": {
    "collapsed": false
   },
   "outputs": [
    {
     "data": {
      "text/plain": [
       "10"
      ]
     },
     "execution_count": 14,
     "metadata": {},
     "output_type": "execute_result"
    }
   ],
   "source": [
    "len(match_trajectories(results_key, results_key, 0.01, 1)[0])"
   ]
  },
  {
   "cell_type": "code",
   "execution_count": 15,
   "metadata": {
    "collapsed": false
   },
   "outputs": [],
   "source": [
    "stack = kb.image_stack(images)"
   ]
  },
  {
   "cell_type": "markdown",
   "metadata": {},
   "source": [
    "Mask out stars and bad pixels"
   ]
  },
  {
   "cell_type": "code",
   "execution_count": 16,
   "metadata": {
    "collapsed": true
   },
   "outputs": [],
   "source": [
    "flags = ~0 # mask pixels with any flags\n",
    "flag_exceptions = [32,39] # unless it has one of these special combinations of flags\n",
    "master_flags = int('100111', 2) # mask any pixels which have any of \n",
    "# these flags in more than two images"
   ]
  },
  {
   "cell_type": "code",
   "execution_count": 17,
   "metadata": {
    "collapsed": false
   },
   "outputs": [],
   "source": [
    "stack.apply_mask_flags(flags, flag_exceptions)"
   ]
  },
  {
   "cell_type": "code",
   "execution_count": 18,
   "metadata": {
    "collapsed": false
   },
   "outputs": [],
   "source": [
    "stack.apply_master_mask(master_flags, 2)"
   ]
  },
  {
   "cell_type": "code",
   "execution_count": 19,
   "metadata": {
    "collapsed": true
   },
   "outputs": [],
   "source": [
    "images = [i.science() for i in stack.get_images()]"
   ]
  },
  {
   "cell_type": "markdown",
   "metadata": {},
   "source": [
    "Calculate masked percentage of an image to estimate probablilty of placing an object under a mask"
   ]
  },
  {
   "cell_type": "code",
   "execution_count": 20,
   "metadata": {
    "collapsed": false
   },
   "outputs": [
    {
     "data": {
      "text/plain": [
       "0.0935521125793457"
      ]
     },
     "execution_count": 20,
     "metadata": {},
     "output_type": "execute_result"
    }
   ],
   "source": [
    "img = images[1]\n",
    "percent_masked = img[np.where(img==-9999.99)].size/img.size\n",
    "percent_masked"
   ]
  },
  {
   "cell_type": "code",
   "execution_count": 21,
   "metadata": {
    "collapsed": false
   },
   "outputs": [
    {
     "data": {
      "text/plain": [
       "(4096, 2048)"
      ]
     },
     "execution_count": 21,
     "metadata": {},
     "output_type": "execute_result"
    }
   ],
   "source": [
    "np.shape(images[1])"
   ]
  },
  {
   "cell_type": "code",
   "execution_count": null,
   "metadata": {
    "collapsed": false
   },
   "outputs": [],
   "source": [
    "fig = plt.figure(figsize=(12,12))\n",
    "plt.imshow(images[0] , origin='lower',  vmin=-50, vmax=200)#cmap=plt.cm.Greys_r,\n",
    "plt.xlabel('X Pixels')\n",
    "plt.ylabel('Y Pixels')\n",
    "plt.colorbar()"
   ]
  },
  {
   "cell_type": "code",
   "execution_count": null,
   "metadata": {
    "collapsed": true
   },
   "outputs": [],
   "source": [
    "search = kb.stack_search(stack, p)\n",
    "search.set_debug(True)"
   ]
  },
  {
   "cell_type": "code",
   "execution_count": null,
   "metadata": {
    "collapsed": false
   },
   "outputs": [],
   "source": [
    "search_ang_r = (angle_range[0]/search_margin,\n",
    "                angle_range[1]*search_margin)\n",
    "search_vel_r = (velocity_range[0]/search_margin,\n",
    "                velocity_range[1]*search_margin)\n",
    "#search.gpu(angle_steps,velocity_steps, *angle_range, *velocity_range, min_observations)"
   ]
  },
  {
   "cell_type": "code",
   "execution_count": null,
   "metadata": {
    "collapsed": false
   },
   "outputs": [],
   "source": [
    "#search.get_results(0,20)"
   ]
  },
  {
   "cell_type": "code",
   "execution_count": null,
   "metadata": {
    "collapsed": false
   },
   "outputs": [],
   "source": [
    "#search.region_search(2400, 1040, 50, 255, 3)\n",
    "res = search.region_search(2000, 1000, 800, 60, 3)\n",
    "res"
   ]
  },
  {
   "cell_type": "code",
   "execution_count": null,
   "metadata": {
    "collapsed": false
   },
   "outputs": [],
   "source": [
    "matched = []\n",
    "for r in res:\n",
    "    if any(abs(r.ix-t.x)<=1 and abs(r.iy-t.y)<=1 for t in results_key ):\n",
    "        matched.append(r)\n",
    "len(matched)"
   ]
  },
  {
   "cell_type": "code",
   "execution_count": null,
   "metadata": {
    "collapsed": false
   },
   "outputs": [],
   "source": [
    "matched"
   ]
  },
  {
   "cell_type": "code",
   "execution_count": null,
   "metadata": {
    "collapsed": false
   },
   "outputs": [],
   "source": [
    "pooled = search.get_psi_pooled()"
   ]
  },
  {
   "cell_type": "code",
   "execution_count": null,
   "metadata": {
    "collapsed": false
   },
   "outputs": [],
   "source": [
    "pooled_imgs = [np.array(im, copy=False) for im in pooled[1]]"
   ]
  },
  {
   "cell_type": "code",
   "execution_count": null,
   "metadata": {
    "collapsed": false
   },
   "outputs": [],
   "source": [
    "fig = plt.figure(figsize=(12,12))\n",
    "plt.imshow(pooled_imgs[0] [2700:3600,2900:3800], origin='lower',  vmin=-1, vmax=1)#cmap=plt.cm.Greys_r,\n",
    "plt.xlabel('X Pixels')\n",
    "plt.ylabel('Y Pixels')\n",
    "plt.colorbar()"
   ]
  },
  {
   "cell_type": "code",
   "execution_count": null,
   "metadata": {
    "collapsed": false
   },
   "outputs": [],
   "source": [
    "fig = plt.figure(figsize=(12,12))\n",
    "plt.imshow(pooled_imgs[1] [1350:1800,1450:1900], origin='lower',  vmin=-1, vmax=1)#cmap=plt.cm.Greys_r,\n",
    "plt.xlabel('X Pixels')\n",
    "plt.ylabel('Y Pixels')\n",
    "plt.colorbar()"
   ]
  },
  {
   "cell_type": "code",
   "execution_count": null,
   "metadata": {
    "collapsed": false
   },
   "outputs": [],
   "source": [
    "fig = plt.figure(figsize=(12,12))\n",
    "plt.imshow(pooled_imgs[3] [300:500,300:500], origin='lower',  vmin=-1, vmax=1)#cmap=plt.cm.Greys_r,\n",
    "plt.xlabel('X Pixels')\n",
    "plt.ylabel('Y Pixels')\n",
    "plt.colorbar()"
   ]
  },
  {
   "cell_type": "code",
   "execution_count": null,
   "metadata": {
    "collapsed": true
   },
   "outputs": [],
   "source": []
  }
 ],
 "metadata": {
  "kernelspec": {
   "display_name": "Python 3",
   "language": "python",
   "name": "python3"
  },
  "language_info": {
   "codemirror_mode": {
    "name": "ipython",
    "version": 3
   },
   "file_extension": ".py",
   "mimetype": "text/x-python",
   "name": "python",
   "nbconvert_exporter": "python",
   "pygments_lexer": "ipython3",
   "version": "3.5.2"
  }
 },
 "nbformat": 4,
 "nbformat_minor": 2
}
