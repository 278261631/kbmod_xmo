{
 "cells": [
  {
   "cell_type": "code",
   "execution_count": 1,
   "metadata": {
    "collapsed": true
   },
   "outputs": [],
   "source": [
    "results_name = \"chip_1_difference\"#\"Blind15A_02_night_1_SUPERSEARCH\"\n",
    "gpu_code_path = \"../code/gpu/\"\n",
    "real_image_path = \"gpu/images/chip_1\"#\"../../HITS/trimmed_chip_03/Blind15A_02/night_1\" #gpu_code_path+\"images/\"+real_image_name #\n",
    "psi_image_path = gpu_code_path+\"output-images/psi\"\n",
    "phi_image_path = gpu_code_path+\"output-images/phi\""
   ]
  },
  {
   "cell_type": "code",
   "execution_count": 5,
   "metadata": {
    "collapsed": false
   },
   "outputs": [],
   "source": [
    "paramsFile = open('../code/gpu/debug/parameters.config', 'w')\n",
    "paramsFile.write(\n",
    "\"\"\"Debug ................ : 1\n",
    "PSF Sigma ............ : 1.0\n",
    "Mask Threshold ....... : 0.55\n",
    "Mask Penalty ......... : -0.05\n",
    "Slope Reject Threshold : 1000.0\n",
    "Angles to Search ..... : 120\n",
    "Minimum Angle ........ : 0.0\n",
    "Maximum Angle ........ : 1.0\n",
    "Velocities to Search . : 25\n",
    "Minimum Velocity ..... : 250\n",
    "Maximum Velocity ..... : 400\n",
    "Psi/Phi to file ...... : 1\n",
    "Source Images Path ... : ../../{source}/\n",
    "Psi Images Path ...... : ../../{psi}/\n",
    "Phi Images Path....... : ../../{phi}/\n",
    "Results Path ......... : ../../../data/results/{name}.txt\n",
    "\"\"\".format( source=real_image_path, psi=psi_image_path, phi=phi_image_path, name=results_name ))\n",
    "paramsFile.close()"
   ]
  },
  {
   "cell_type": "code",
   "execution_count": 6,
   "metadata": {
    "collapsed": false
   },
   "outputs": [],
   "source": [
    "!cd ~/cuda-workspace/kbmod/code/gpu/debug/; ./clearImages.sh"
   ]
  },
  {
   "cell_type": "code",
   "execution_count": 8,
   "metadata": {
    "collapsed": false,
    "scrolled": true
   },
   "outputs": [
    {
     "name": "stdout",
     "output_type": "stream",
     "text": [
      "PSF Sigma ............  : 1.0\n",
      "Mask Threshold .......  : 0.55\n",
      "Mask Penalty .........  : -0.05\n",
      "Slope Reject Threshold  : 1000.0\n",
      "Angles to Search .....  : 120\n",
      "Minimum Angle ........  : 0.0\n",
      "Maximum Angle ........  : 1.0\n",
      "Velocities to Search .  : 25\n",
      "Minimum Velocity .....  : 250\n",
      "Maximum Velocity .....  : 400\n",
      "Psi/Phi to file ......  : 1\n",
      "Source Images Path ...  : ../../gpu/images/chip_1/\n",
      "Psi Images Path ......  : ../../../code/gpu/output-images/psi/\n",
      "Phi Images Path.......  : ../../../code/gpu/output-images/phi/\n",
      "Results Path .........  : ../../../data/results/chip_1_difference.txt\n",
      "Using Kernel Size 5X5\n",
      "| 0.004 | 0.015 | 0.023 | 0.015 | 0.004 | \n",
      " ---------------------------------------\n",
      "| 0.015 | 0.058 | 0.093 | 0.058 | 0.015 | \n",
      " ---------------------------------------\n",
      "| 0.023 | 0.093 | 0.147 | 0.093 | 0.023 | \n",
      " ---------------------------------------\n",
      "| 0.015 | 0.058 | 0.093 | 0.058 | 0.015 | \n",
      " ---------------------------------------\n",
      "| 0.004 | 0.015 | 0.023 | 0.015 | 0.004 | \n",
      " ---------------------------------------\n",
      "97.532% of PSF contained within kernel\n",
      "Reading 55 images from ../../gpu/images/chip_1/\n",
      "\n",
      "Image times: 0.000 0.003 0.006 0.009 0.012 0.015 0.018 0.021 0.024 0.027 0.030 0.033 0.036 0.040 0.043 0.046 0.049 0.052 0.055 0.058 0.061 0.064 0.067 0.070 0.073 0.076 0.079 0.082 0.085 0.088 0.091 0.094 0.097 0.100 0.103 0.106 0.109 0.112 0.115 0.118 0.122 0.125 0.128 0.131 0.134 0.137 0.140 0.143 0.146 0.149 0.152 0.155 0.158 0.161 0.164 \n",
      "Masking images ... Done.\n",
      "Creating Psi and Phi ... Done. Took 73.866 ms per image\n",
      "Creating interleaved psi/phi buffer ... Done.\n",
      "Searching 3000 possible trajectories starting from 8388608 pixels... \n",
      "^C\n"
     ]
    }
   ],
   "source": [
    "!cd ~/cuda-workspace/kbmod/code/gpu/debug/; ./CudaTracker"
   ]
  },
  {
   "cell_type": "code",
   "execution_count": 13,
   "metadata": {
    "collapsed": false
   },
   "outputs": [],
   "source": [
    "#subprocess.check_output(['ls','-a']) #all that is technically needed...\n",
    "#print subprocess.check_output(['~/cuda-workspace/kbmod/code/gpu/debug/clearImages.sh;'])"
   ]
  },
  {
   "cell_type": "code",
   "execution_count": null,
   "metadata": {
    "collapsed": true
   },
   "outputs": [],
   "source": []
  }
 ],
 "metadata": {
  "kernelspec": {
   "display_name": "Python 2",
   "language": "python",
   "name": "python2"
  },
  "language_info": {
   "codemirror_mode": {
    "name": "ipython",
    "version": 2
   },
   "file_extension": ".py",
   "mimetype": "text/x-python",
   "name": "python",
   "nbconvert_exporter": "python",
   "pygments_lexer": "ipython2",
   "version": "2.7.13"
  }
 },
 "nbformat": 4,
 "nbformat_minor": 2
}
