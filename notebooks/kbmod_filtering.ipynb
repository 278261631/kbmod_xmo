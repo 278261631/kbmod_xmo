{
 "cells": [
  {
   "cell_type": "markdown",
   "metadata": {},
   "source": [
    "# KBMOD Filtering  \n",
    "  \n",
    "This notebook demonstrates the basic functionality for loading and filtering results. KBMOD provides the ability to load results into a ``ResultList`` data structure and then apply a sequence of filters to those results. New filters can be defined by inheriting from the ``Filter`` class."
   ]
  },
  {
   "cell_type": "markdown",
   "metadata": {},
   "source": [
    "# Setup\n",
    "Before importing, make sure you have installed kbmod using `pip install .` in the root directory.  Also be sure you are running with python3 and using the correct notebook kernel."
   ]
  },
  {
   "cell_type": "code",
   "execution_count": 1,
   "metadata": {},
   "outputs": [],
   "source": [
    "# everything we will need for this demo\n",
    "from kbmod.filters.stamp_filters import StampPeakFilter\n",
    "from kbmod.filters.stats_filters import LHFilter\n",
    "from kbmod.result_list import load_result_list_from_files, ResultList\n",
    "import matplotlib.pyplot as plt\n",
    "import numpy as np"
   ]
  },
  {
   "cell_type": "markdown",
   "metadata": {},
   "source": [
    "# Load the results\n",
    "\n",
    "We use the fake result data provided in ``data/fake_results_noisy`` which is generated from 256 x 256 images with multiple fake objects inserted. KBMOD is run with wider than normal filter parameters so as to produce a noisy set of results."
   ]
  },
  {
   "cell_type": "code",
   "execution_count": 2,
   "metadata": {},
   "outputs": [
    {
     "name": "stdout",
     "output_type": "stream",
     "text": [
      "Loaded 63 results.\n",
      "lh: 101.154358 flux: 324.326111 x: 137 y: 223 x_v: 5.912628 y_v: -2.541327 obs_count: 10\n",
      "lh: 100.192001 flux: 338.617279 x: 65 y: 35 x_v: 33.117329 y_v: 8.368979 obs_count: 9\n",
      "lh: 99.942947 flux: 320.442017 x: 172 y: 90 x_v: 9.832990 y_v: 9.769869 obs_count: 10\n",
      "lh: 98.004997 flux: 314.228455 x: 28 y: 18 x_v: 27.417599 y_v: 4.102125 obs_count: 10\n",
      "lh: 97.840546 flux: 313.701202 x: 209 y: 45 x_v: 4.724518 y_v: 5.728925 obs_count: 10\n"
     ]
    }
   ],
   "source": [
    "results = load_result_list_from_files(\"../data/fake_results_noisy/\", \"DEMO\")\n",
    "print(f\"Loaded {results.num_results()} results.\")\n",
    "\n",
    "# Turn on filtered result tracking.\n",
    "results.track_filtered = True\n",
    "\n",
    "# Show the first five results.\n",
    "for i in range(5):\n",
    "    print(results.results[i].trajectory)"
   ]
  },
  {
   "cell_type": "markdown",
   "metadata": {},
   "source": [
    "# Try some filtering\n",
    "\n",
    "First we create a filter based on the observations' likelihood and apply it to the result set."
   ]
  },
  {
   "cell_type": "code",
   "execution_count": 3,
   "metadata": {},
   "outputs": [
    {
     "name": "stdout",
     "output_type": "stream",
     "text": [
      "Applying LH_Filter_40.0_to_None\n",
      "45 results remaining.\n"
     ]
    }
   ],
   "source": [
    "# Filter out all results that have a likelihood < 40.0.\n",
    "filter1 = LHFilter(40.0, None)\n",
    "print(f\"Applying {filter1.get_filter_name()}\")\n",
    "results.apply_filter(filter1)\n",
    "print(f\"{results.num_results()} results remaining.\")"
   ]
  },
  {
   "cell_type": "markdown",
   "metadata": {},
   "source": [
    "We can look at the rows that passed the filter. These are stored in the ``ResultList``'s ``results`` list. "
   ]
  },
  {
   "cell_type": "code",
   "execution_count": 4,
   "metadata": {},
   "outputs": [
    {
     "name": "stdout",
     "output_type": "stream",
     "text": [
      "lh: 101.154358 flux: 324.326111 x: 137 y: 223 x_v: 5.912628 y_v: -2.541327 obs_count: 10\n",
      "lh: 100.192001 flux: 338.617279 x: 65 y: 35 x_v: 33.117329 y_v: 8.368979 obs_count: 9\n",
      "lh: 99.942947 flux: 320.442017 x: 172 y: 90 x_v: 9.832990 y_v: 9.769869 obs_count: 10\n",
      "lh: 98.004997 flux: 314.228455 x: 28 y: 18 x_v: 27.417599 y_v: 4.102125 obs_count: 10\n",
      "lh: 97.840546 flux: 313.701202 x: 209 y: 45 x_v: 4.724518 y_v: 5.728925 obs_count: 10\n"
     ]
    }
   ],
   "source": [
    "for i in range(5):\n",
    "    print(results.results[i].trajectory)"
   ]
  },
  {
   "cell_type": "markdown",
   "metadata": {},
   "source": [
    "Because we set ``results.track_filtered = True`` above, the ``ResultList`` also keeps each row that was rejected by one of the filters. These rows are indexed by the filter name, allowing the user to determine which rows were removed during which filtering stage. \n",
    "\n",
    "We can use the ``get_filtered`` function to retrieve all the filtered rows for a given filter name:"
   ]
  },
  {
   "cell_type": "code",
   "execution_count": 5,
   "metadata": {},
   "outputs": [
    {
     "name": "stdout",
     "output_type": "stream",
     "text": [
      "lh: 38.255047 flux: 146.601028 x: 225 y: 121 x_v: 15.193045 y_v: 4.486331 obs_count: 7\n",
      "lh: 37.409382 flux: 143.360275 x: 29 y: 44 x_v: 26.815691 y_v: -22.723045 obs_count: 7\n",
      "lh: 36.794891 flux: 141.005432 x: 113 y: 186 x_v: 29.667107 y_v: 34.556755 obs_count: 7\n",
      "lh: 36.716217 flux: 140.703934 x: 242 y: 86 x_v: 6.719458 y_v: -1.698054 obs_count: 7\n",
      "lh: 36.522682 flux: 139.962265 x: 234 y: 105 x_v: 10.740549 y_v: 10.257057 obs_count: 7\n"
     ]
    }
   ],
   "source": [
    "# Extract the rows that did not pass filter1.\n",
    "filtered_list = results.get_filtered(filter1.get_filter_name())\n",
    "for i in range(5):\n",
    "    print(filtered_list[i].trajectory)"
   ]
  },
  {
   "cell_type": "markdown",
   "metadata": {},
   "source": [
    "We can apply multiple filters to the ``ResultList`` to progressively rule out more and more candidate trajectories. We can even apply the same filter with different parameters.\n",
    "\n",
    "Next we apply the ``StampPeakFilter``:"
   ]
  },
  {
   "cell_type": "code",
   "execution_count": 6,
   "metadata": {},
   "outputs": [
    {
     "name": "stdout",
     "output_type": "stream",
     "text": [
      "Applying StampPeakFilter_0.1_0.1\n",
      "8 results remaining.\n"
     ]
    }
   ],
   "source": [
    "# Filter out all results where the peak location in the stamp is great than or equal to\n",
    "# 1.5 pixels from the center.\n",
    "filter2 = StampPeakFilter(10, 0.1, 0.1)\n",
    "print(f\"Applying {filter2.get_filter_name()}\")\n",
    "results.apply_filter(filter2)\n",
    "print(f\"{results.num_results()} results remaining.\")"
   ]
  },
  {
   "cell_type": "markdown",
   "metadata": {},
   "source": [
    "To visualize the effect of this filter, we can plot one of the unfiltered stamps and one of the filtered stamps. Note that we retrieve the rows filtered by the ``StampPeakFilter`` using the ``get_filtered`` with the filter’s name."
   ]
  },
  {
   "cell_type": "code",
   "execution_count": 7,
   "metadata": {},
   "outputs": [
    {
     "data": {
      "text/plain": [
       "Text(0.5, 1.0, 'Filtered Stamp')"
      ]
     },
     "execution_count": 7,
     "metadata": {},
     "output_type": "execute_result"
    },
    {
     "data": {
      "image/png": "[encoded data removed]",
      "text/plain": [
       "<Figure size 640x480 with 2 Axes>"
      ]
     },
     "metadata": {},
     "output_type": "display_data"
    }
   ],
   "source": [
    "fig, axs = plt.subplots(1, 2)\n",
    "\n",
    "unfiltered_stamp = np.array(results.results[0].stamp).reshape([21, 21])\n",
    "axs[0].imshow(unfiltered_stamp, cmap=\"gray\")\n",
    "axs[0].set_title(\"Unfiltered Stamp\")\n",
    "\n",
    "filtered_list2 = results.get_filtered(filter2.get_filter_name())\n",
    "filtered_stamp = np.array(filtered_list2[0].stamp).reshape([21, 21])\n",
    "axs[1].imshow(filtered_stamp, cmap=\"gray\")\n",
    "axs[1].set_title(\"Filtered Stamp\")"
   ]
  },
  {
   "cell_type": "code",
   "execution_count": null,
   "metadata": {},
   "outputs": [],
   "source": []
  }
 ],
 "metadata": {
  "kernelspec": {
   "display_name": "Python (.conda-kbmod)",
   "language": "python",
   "name": "conda-env-.conda-kbmod-py"
  },
  "language_info": {
   "codemirror_mode": {
    "name": "ipython",
    "version": 3
   },
   "file_extension": ".py",
   "mimetype": "text/x-python",
   "name": "python",
   "nbconvert_exporter": "python",
   "pygments_lexer": "ipython3",
   "version": "3.9.16"
  }
 },
 "nbformat": 4,
 "nbformat_minor": 2
}
