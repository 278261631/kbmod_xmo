{
 "cells": [
  {
   "cell_type": "markdown",
   "metadata": {},
   "source": [
    "# KBMod Orbit Fitting\n",
    "\n",
    "This notebook shows how to get orbit elements from results output by a **KBMOD** search.\n",
    "\n",
    "## Requirements\n",
    "\n",
    "* Requires cloning [dirac-institute/pyOrbfit](https://github.com/dirac-institute/pyOrbfit) (our branch of David Gerdes' python wrapper for the Bernstein and Khushalani (2000) orbit fitting code.\n",
    "\n",
    "* Add the location for the `pyOrbfit` directory to the **KBMOD** `setup.bash` file as `$PYORBFIT_HOME`.\n",
    "\n",
    "* Source the `setup.bash` file and you're good to go!"
   ]
  },
  {
   "cell_type": "markdown",
   "metadata": {},
   "source": [
    "## Imports\n",
    "\n",
    "Here we import tools for getting the data we need from the images and relevant data files. The actual code we use for orbit calculating is found in the `ephem_utils` class in the **KBMOD** codebase."
   ]
  },
  {
   "cell_type": "code",
   "execution_count": 1,
   "metadata": {},
   "outputs": [],
   "source": [
    "import numpy as np\n",
    "import pandas as pd\n",
    "import matplotlib.pyplot as plt\n",
    "import os\n",
    "from ephem_utils import ephem_utils\n",
    "%matplotlib inline\n",
    "%load_ext autoreload\n",
    "%autoreload 2"
   ]
  },
  {
   "cell_type": "markdown",
   "metadata": {},
   "source": [
    "## Get relevant data\n",
    "\n",
    "### Data required\n",
    "\n",
    "* List of visit numbers and visit times in MJD.\n",
    "\n",
    "* One of the processed images used in the **KBMOD** search so that we can grab the WCS\n",
    "\n",
    "* List of visits in the search\n",
    "\n",
    "* **KBMOD** results file"
   ]
  },
  {
   "cell_type": "code",
   "execution_count": 2,
   "metadata": {},
   "outputs": [],
   "source": [
    "# List of Visit Numbers and Visit Times\n",
    "visit_df = pd.read_csv('/epyc/users/smotherh/DECAM_Data_Reduction/loriallen_times.dat', delimiter=' ',\n",
    "                       skiprows=1, names=['visit_num', 'visit_mjd'])\n",
    "\n",
    "# Image File\n",
    "image_file = str('/epyc/users/smotherh/DECAM_Data_Reduction/pointing_groups_hyak/'+\n",
    "                 'Pointing_Group_300/processed_data/rerun/rerun_processed_data/0433932/'+\n",
    "                 'calexp/calexp-0433932_22.fits')\n",
    "\n",
    "# List of visits searched\n",
    "results_visit_list = [433932, 433936, 433940, 433945, 433949,\n",
    "                      434610, 434614, 434622, 434626, 435498,\n",
    "                      435502, 435506, 435510, 435514]\n",
    "\n",
    "# KBMOD results output\n",
    "results_file = '/epyc/users/smotherh/DECAM_Data_Reduction/kbmod_results/300/22/results_full_lc.txt'"
   ]
  },
  {
   "cell_type": "markdown",
   "metadata": {},
   "source": [
    "## Load into `ephem_utils`\n",
    "\n",
    "Take the data and data locations specified above and give them to `ephem_utils`. Also need to specify the observatory code where the data was taken."
   ]
  },
  {
   "cell_type": "code",
   "execution_count": 3,
   "metadata": {},
   "outputs": [],
   "source": [
    "# Observatory ID\n",
    "cerro_tololo_id = 807\n",
    "\n",
    "ep = ephem_utils(results_file, image_file,\n",
    "                 visit_df['visit_num'].values, \n",
    "                 visit_df['visit_mjd'].values, \n",
    "                 results_visit_list, cerro_tololo_id)"
   ]
  },
  {
   "cell_type": "markdown",
   "metadata": {},
   "source": [
    "The class loads the results file into a pandas dataframe called `results_df`."
   ]
  },
  {
   "cell_type": "code",
   "execution_count": 4,
   "metadata": {},
   "outputs": [
    {
     "data": {
      "text/html": [
       "<div>\n",
       "<style scoped>\n",
       "    .dataframe tbody tr th:only-of-type {\n",
       "        vertical-align: middle;\n",
       "    }\n",
       "\n",
       "    .dataframe tbody tr th {\n",
       "        vertical-align: top;\n",
       "    }\n",
       "\n",
       "    .dataframe thead th {\n",
       "        text-align: right;\n",
       "    }\n",
       "</style>\n",
       "<table border=\"1\" class=\"dataframe\">\n",
       "  <thead>\n",
       "    <tr style=\"text-align: right;\">\n",
       "      <th></th>\n",
       "      <th>lh</th>\n",
       "      <th>flux</th>\n",
       "      <th>x0</th>\n",
       "      <th>y0</th>\n",
       "      <th>x_v</th>\n",
       "      <th>y_v</th>\n",
       "      <th>obs_count</th>\n",
       "    </tr>\n",
       "  </thead>\n",
       "  <tbody>\n",
       "    <tr>\n",
       "      <th>0</th>\n",
       "      <td>51.338379</td>\n",
       "      <td>1167.514038</td>\n",
       "      <td>89.0</td>\n",
       "      <td>4021.0</td>\n",
       "      <td>-58.496994</td>\n",
       "      <td>-207.676514</td>\n",
       "      <td>10.0</td>\n",
       "    </tr>\n",
       "    <tr>\n",
       "      <th>1</th>\n",
       "      <td>52.504288</td>\n",
       "      <td>1115.429565</td>\n",
       "      <td>129.0</td>\n",
       "      <td>2667.0</td>\n",
       "      <td>-96.969185</td>\n",
       "      <td>-188.935974</td>\n",
       "      <td>10.0</td>\n",
       "    </tr>\n",
       "    <tr>\n",
       "      <th>2</th>\n",
       "      <td>49.810539</td>\n",
       "      <td>1063.618896</td>\n",
       "      <td>76.0</td>\n",
       "      <td>2698.0</td>\n",
       "      <td>-43.673504</td>\n",
       "      <td>-219.940170</td>\n",
       "      <td>10.0</td>\n",
       "    </tr>\n",
       "    <tr>\n",
       "      <th>3</th>\n",
       "      <td>49.793983</td>\n",
       "      <td>1077.010132</td>\n",
       "      <td>181.0</td>\n",
       "      <td>2743.0</td>\n",
       "      <td>-148.411545</td>\n",
       "      <td>-265.212677</td>\n",
       "      <td>10.0</td>\n",
       "    </tr>\n",
       "    <tr>\n",
       "      <th>4</th>\n",
       "      <td>57.040955</td>\n",
       "      <td>1245.665527</td>\n",
       "      <td>63.0</td>\n",
       "      <td>2597.0</td>\n",
       "      <td>-30.895140</td>\n",
       "      <td>-118.556183</td>\n",
       "      <td>10.0</td>\n",
       "    </tr>\n",
       "  </tbody>\n",
       "</table>\n",
       "</div>"
      ],
      "text/plain": [
       "          lh         flux     x0      y0         x_v         y_v  obs_count\n",
       "0  51.338379  1167.514038   89.0  4021.0  -58.496994 -207.676514       10.0\n",
       "1  52.504288  1115.429565  129.0  2667.0  -96.969185 -188.935974       10.0\n",
       "2  49.810539  1063.618896   76.0  2698.0  -43.673504 -219.940170       10.0\n",
       "3  49.793983  1077.010132  181.0  2743.0 -148.411545 -265.212677       10.0\n",
       "4  57.040955  1245.665527   63.0  2597.0  -30.895140 -118.556183       10.0"
      ]
     },
     "execution_count": 4,
     "metadata": {},
     "output_type": "execute_result"
    }
   ],
   "source": [
    "ep.results_df.head()"
   ]
  },
  {
   "cell_type": "markdown",
   "metadata": {},
   "source": [
    "## Format observations of result\n",
    "\n",
    "Here we pick the first object in the results file and calculate the (ra, dec) of the observations in the search. We then convert this to output in MPC format that we can use to fit the orbit.\n",
    "\n",
    "First, `get_searched_radec` takes one of the results from the file and converts the information to (ra, dec) stored in `ep.coords`. Then `format_results_mpc` will take these coordinates and output them into MPC format. By default this will save it to a file called `kbmod_mpc.dat` but another filename can be specified."
   ]
  },
  {
   "cell_type": "code",
   "execution_count": 5,
   "metadata": {},
   "outputs": [],
   "source": [
    "results_idx = 0\n",
    "ep.get_searched_radec(results_idx)"
   ]
  },
  {
   "cell_type": "code",
   "execution_count": 6,
   "metadata": {},
   "outputs": [
    {
     "name": "stdout",
     "output_type": "stream",
     "text": [
      "<SkyCoord (ICRS): (ra, dec) in deg\n",
      "    [(200.91787216, -8.04905938), (200.91782246, -8.0490454 ),\n",
      "     (200.91777294, -8.04903146), (200.9176511 , -8.04899718),\n",
      "     (200.91760216, -8.04898341), (200.90265766, -8.04477839),\n",
      "     (200.9026079 , -8.04476439), (200.90250855, -8.04473644),\n",
      "     (200.9024589 , -8.04472247), (200.87194965, -8.03613891),\n",
      "     (200.87189798, -8.03612437), (200.87184859, -8.03611048),\n",
      "     (200.87179874, -8.03609646), (200.87174928, -8.03608254)]>\n"
     ]
    }
   ],
   "source": [
    "print(ep.coords)"
   ]
  },
  {
   "cell_type": "code",
   "execution_count": 7,
   "metadata": {},
   "outputs": [
    {
     "name": "stdout",
     "output_type": "stream",
     "text": [
      "     c111112  c2015 04 18.27432 13 23 40.289-08 02 56.61                     807\n",
      "     c111112  c2015 04 18.27756 13 23 40.277-08 02 56.56                     807\n",
      "     c111112  c2015 04 18.28079 13 23 40.266-08 02 56.51                     807\n",
      "     c111112  c2015 04 18.28873 13 23 40.236-08 02 56.39                     807\n",
      "     c111112  c2015 04 18.29192 13 23 40.225-08 02 56.34                     807\n",
      "     c111112  c2015 04 19.26576 13 23 36.638-08 02 41.20                     807\n",
      "     c111112  c2015 04 19.26900 13 23 36.626-08 02 41.15                     807\n",
      "     c111112  c2015 04 19.27548 13 23 36.602-08 02 41.05                     807\n",
      "     c111112  c2015 04 19.27871 13 23 36.590-08 02 41.00                     807\n",
      "     c111112  c2015 04 21.26671 13 23 29.268-08 02 10.10                     807\n",
      "     c111112  c2015 04 21.27008 13 23 29.256-08 02 10.05                     807\n",
      "     c111112  c2015 04 21.27329 13 23 29.244-08 02 10.00                     807\n",
      "     c111112  c2015 04 21.27654 13 23 29.232-08 02 09.95                     807\n",
      "     c111112  c2015 04 21.27976 13 23 29.220-08 02 09.90                     807\n"
     ]
    }
   ],
   "source": [
    "ep.format_results_mpc(file_out=None)"
   ]
  },
  {
   "cell_type": "markdown",
   "metadata": {},
   "source": [
    "## Predict Orbital Elements\n",
    "\n",
    "Take in the file with the MPC-formatted observations and use the wrapped Bernstein and Khushalani code to get the orbital elements. If no file is specified it will look for the default `kbmod_mpc.dat` filename."
   ]
  },
  {
   "cell_type": "code",
   "execution_count": 8,
   "metadata": {},
   "outputs": [],
   "source": [
    "el, err = ep.predict_elements(file_in=None)"
   ]
  },
  {
   "cell_type": "code",
   "execution_count": 9,
   "metadata": {},
   "outputs": [
    {
     "data": {
      "text/plain": [
       "({'a': 57.70900956548056,\n",
       "  'aop': 171.73073956796844,\n",
       "  'e': 0.01093420530612745,\n",
       "  'i': 43.70358203289912,\n",
       "  'lan': 23.14934213602355,\n",
       "  'top': 2453964.822886323},\n",
       " {'a': 29.632266287657632,\n",
       "  'aop': 3066.2735919868664,\n",
       "  'e': 0.579830965340102,\n",
       "  'i': 21.807547871385676,\n",
       "  'lan': 0.5514461271059155,\n",
       "  'top': 1333338.918906526})"
      ]
     },
     "execution_count": 9,
     "metadata": {},
     "output_type": "execute_result"
    }
   ],
   "source": [
    "el, err"
   ]
  },
  {
   "cell_type": "markdown",
   "metadata": {},
   "source": [
    "## Predict location at other times\n",
    "\n",
    "### Get coordinates of predictions\n",
    "\n",
    "Now we can use the code to predict the location of the object at other times. Here we set a date range of 50 days before and after the initial observation in our **KBMOD** search. Then we predict the (ra, dec) for these times before storing them in a pandas dataframe with the time of each predicted location."
   ]
  },
  {
   "cell_type": "code",
   "execution_count": 10,
   "metadata": {},
   "outputs": [
    {
     "data": {
      "text/html": [
       "<div>\n",
       "<style scoped>\n",
       "    .dataframe tbody tr th:only-of-type {\n",
       "        vertical-align: middle;\n",
       "    }\n",
       "\n",
       "    .dataframe tbody tr th {\n",
       "        vertical-align: top;\n",
       "    }\n",
       "\n",
       "    .dataframe thead th {\n",
       "        text-align: right;\n",
       "    }\n",
       "</style>\n",
       "<table border=\"1\" class=\"dataframe\">\n",
       "  <thead>\n",
       "    <tr style=\"text-align: right;\">\n",
       "      <th></th>\n",
       "      <th>mjd</th>\n",
       "      <th>pred_ra</th>\n",
       "      <th>pred_dec</th>\n",
       "    </tr>\n",
       "  </thead>\n",
       "  <tbody>\n",
       "    <tr>\n",
       "      <th>0</th>\n",
       "      <td>57080.274322</td>\n",
       "      <td>201.615442</td>\n",
       "      <td>-8.241979</td>\n",
       "    </tr>\n",
       "    <tr>\n",
       "      <th>1</th>\n",
       "      <td>57080.774322</td>\n",
       "      <td>201.610128</td>\n",
       "      <td>-8.240658</td>\n",
       "    </tr>\n",
       "    <tr>\n",
       "      <th>2</th>\n",
       "      <td>57081.274322</td>\n",
       "      <td>201.604805</td>\n",
       "      <td>-8.239339</td>\n",
       "    </tr>\n",
       "    <tr>\n",
       "      <th>3</th>\n",
       "      <td>57081.774322</td>\n",
       "      <td>201.599390</td>\n",
       "      <td>-8.237980</td>\n",
       "    </tr>\n",
       "    <tr>\n",
       "      <th>4</th>\n",
       "      <td>57082.274322</td>\n",
       "      <td>201.593965</td>\n",
       "      <td>-8.236623</td>\n",
       "    </tr>\n",
       "  </tbody>\n",
       "</table>\n",
       "</div>"
      ],
      "text/plain": [
       "            mjd     pred_ra  pred_dec\n",
       "0  57080.274322  201.615442 -8.241979\n",
       "1  57080.774322  201.610128 -8.240658\n",
       "2  57081.274322  201.604805 -8.239339\n",
       "3  57081.774322  201.599390 -8.237980\n",
       "4  57082.274322  201.593965 -8.236623"
      ]
     },
     "execution_count": 10,
     "metadata": {},
     "output_type": "execute_result"
    }
   ],
   "source": [
    "date_range = np.arange(ep.mjd_0-50., ep.mjd_0+50., 0.5)\n",
    "pred_ra, pred_dec = ep.predict_ephemeris(date_range, file_in=None)\n",
    "\n",
    "# Take this data and turn into a pandas dataframe of predicted observational locations and times\n",
    "ephem_df = pd.DataFrame(np.array([date_range, pred_ra, pred_dec]).T, columns=['mjd', 'pred_ra', 'pred_dec'])\n",
    "ephem_df.head()"
   ]
  },
  {
   "cell_type": "markdown",
   "metadata": {},
   "source": [
    "### Plot predicted locations\n",
    "\n",
    "We can also take this data range and plot it with the observations from our search highlighted on the orbit."
   ]
  },
  {
   "cell_type": "code",
   "execution_count": 11,
   "metadata": {},
   "outputs": [
    {
     "data": {
      "image/png": "[encoded data removed]",
      "text/plain": [
       "<Figure size 432x288 with 2 Axes>"
      ]
     },
     "metadata": {},
     "output_type": "display_data"
    }
   ],
   "source": [
    "fig = ep.plot_predictions(date_range)"
   ]
  },
  {
   "cell_type": "markdown",
   "metadata": {},
   "source": [
    "### Get predicted pixel locations in a new image\n",
    "\n",
    "Take a new image and calculate the predicted pixel locations at given times for the object. Even though we use a single WCS it is useful to get an idea of where an object might be in a sequence of images taken of the same field."
   ]
  },
  {
   "cell_type": "code",
   "execution_count": 12,
   "metadata": {},
   "outputs": [
    {
     "data": {
      "text/html": [
       "<div>\n",
       "<style scoped>\n",
       "    .dataframe tbody tr th:only-of-type {\n",
       "        vertical-align: middle;\n",
       "    }\n",
       "\n",
       "    .dataframe tbody tr th {\n",
       "        vertical-align: top;\n",
       "    }\n",
       "\n",
       "    .dataframe thead th {\n",
       "        text-align: right;\n",
       "    }\n",
       "</style>\n",
       "<table border=\"1\" class=\"dataframe\">\n",
       "  <thead>\n",
       "    <tr style=\"text-align: right;\">\n",
       "      <th></th>\n",
       "      <th>mjd</th>\n",
       "      <th>pred_x_loc</th>\n",
       "      <th>pred_y_loc</th>\n",
       "    </tr>\n",
       "  </thead>\n",
       "  <tbody>\n",
       "    <tr>\n",
       "      <th>0</th>\n",
       "      <td>57131.274322</td>\n",
       "      <td>33.725132</td>\n",
       "      <td>3798.938113</td>\n",
       "    </tr>\n",
       "    <tr>\n",
       "      <th>1</th>\n",
       "      <td>57131.374322</td>\n",
       "      <td>27.826228</td>\n",
       "      <td>3777.955707</td>\n",
       "    </tr>\n",
       "    <tr>\n",
       "      <th>2</th>\n",
       "      <td>57131.474322</td>\n",
       "      <td>21.919779</td>\n",
       "      <td>3757.163791</td>\n",
       "    </tr>\n",
       "    <tr>\n",
       "      <th>3</th>\n",
       "      <td>57131.574322</td>\n",
       "      <td>16.022953</td>\n",
       "      <td>3736.566189</td>\n",
       "    </tr>\n",
       "    <tr>\n",
       "      <th>4</th>\n",
       "      <td>57131.674322</td>\n",
       "      <td>10.150093</td>\n",
       "      <td>3716.093801</td>\n",
       "    </tr>\n",
       "  </tbody>\n",
       "</table>\n",
       "</div>"
      ],
      "text/plain": [
       "            mjd  pred_x_loc   pred_y_loc\n",
       "0  57131.274322   33.725132  3798.938113\n",
       "1  57131.374322   27.826228  3777.955707\n",
       "2  57131.474322   21.919779  3757.163791\n",
       "3  57131.574322   16.022953  3736.566189\n",
       "4  57131.674322   10.150093  3716.093801"
      ]
     },
     "execution_count": 12,
     "metadata": {},
     "output_type": "execute_result"
    }
   ],
   "source": [
    "new_image = str('/epyc/users/smotherh/DECAM_Data_Reduction/pointing_groups_hyak/'+\n",
    "                'Pointing_Group_300/processed_data/rerun/rerun_processed_data/0434610/'+\n",
    "                'calexp/calexp-0434610_22.fits')\n",
    "\n",
    "new_times = np.arange(ep.mjd_0+1, ep.mjd_0+1.5, 0.1)\n",
    "\n",
    "x_pix, y_pix = ep.predict_pixels(new_image, new_times)\n",
    "\n",
    "# Create a pandas dataframe with the predicted x, y locations\n",
    "pixel_df = pd.DataFrame(np.array([new_times, x_pix, y_pix]).T, columns=['mjd', 'pred_x_loc', 'pred_y_loc'])\n",
    "pixel_df.head()"
   ]
  },
  {
   "cell_type": "code",
   "execution_count": null,
   "metadata": {},
   "outputs": [],
   "source": []
  }
 ],
 "metadata": {
  "kernelspec": {
   "display_name": "kbmod",
   "language": "python",
   "name": "kbmod"
  },
  "language_info": {
   "codemirror_mode": {
    "name": "ipython",
    "version": 3
   },
   "file_extension": ".py",
   "mimetype": "text/x-python",
   "name": "python",
   "nbconvert_exporter": "python",
   "pygments_lexer": "ipython3",
   "version": "3.6.8"
  }
 },
 "nbformat": 4,
 "nbformat_minor": 2
}
