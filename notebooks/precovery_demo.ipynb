{
 "cells": [
  {
   "cell_type": "markdown",
   "metadata": {},
   "source": [
    "# Gather precovery imaging\n",
    "\n",
    "This notebook shows how to get precovery imaging for objects found with KBMOD. Once we have an object\n",
    "identified we can record the observations we used in MPC format and use the following tools to search\n",
    "other telescope data for possible images where the object may be present to help orbit determination.\n",
    "\n",
    "## Precovery Classes\n",
    "\n",
    "Here we describe the methods we have for identifying precovery images:\n",
    "\n",
    "### Solar System Object Imaging Search (SSOIS)\n",
    "\n",
    "Currently our `precovery_utils` only has a class to use the [SSOIS service](https://www.cadc-ccda.hia-iha.nrc-cnrc.gc.ca/en/ssois/index.html)\n",
    "from the Canadian Astronomy Data Centre and described in [Gwyn, Hill and Kavelaars (2012)](http://adsabs.harvard.edu/abs/2012PASP..124..579G)."
   ]
  },
  {
   "cell_type": "code",
   "execution_count": 1,
   "metadata": {},
   "outputs": [],
   "source": [
    "from precovery_utils import ssoisPrecovery"
   ]
  },
  {
   "cell_type": "markdown",
   "metadata": {},
   "source": [
    "#### Create Query URL from MPC formatted file\n",
    "\n",
    "In the notebook `orbit_fitting_demo.ipynb` we show how to use the `ephem_utils.py` code in KBMOD to create a file with the observations for an identified object in KBMOD and turn it into an MPC formatted file. The file created in that demo is saved here as `kbmod_mpc.dat`. We will use that file to show how the precovery interface works."
   ]
  },
  {
   "cell_type": "code",
   "execution_count": 2,
   "metadata": {},
   "outputs": [],
   "source": [
    "ssois_query = ssoisPrecovery()"
   ]
  },
  {
   "cell_type": "code",
   "execution_count": 3,
   "metadata": {},
   "outputs": [],
   "source": [
    "query_url = ssois_query.format_search_by_arc_url('kbmod_mpc.dat')"
   ]
  },
  {
   "cell_type": "code",
   "execution_count": 4,
   "metadata": {},
   "outputs": [
    {
     "name": "stdout",
     "output_type": "stream",
     "text": [
      "http://www.cadc-ccda.hia-iha.nrc-cnrc.gc.ca/cadcbin/ssos/ssosclf.pl?lang=en;obs=+++++c111112++c2015+02+17.05409+09+25+59.794-04+06+40.88+++++++++++++++++++++807%0D%0A+++++c111112++c2015+02+17.12194+09+25+59.081-04+06+35.83+++++++++++++++++++++807%0D%0A+++++c111112++c2015+02+17.20722+09+25+58.185-04+06+29.49+++++++++++++++++++++807%0D%0A+++++c111112++c2015+02+17.27585+09+25+57.463-04+06+24.38+++++++++++++++++++++807%0D%0A+++++c111112++c2015+02+18.05075+09+25+49.317-04+05+26.73+++++++++++++++++++++807%0D%0A+++++c111112++c2015+02+18.11851+09+25+48.604-04+05+21.69+++++++++++++++++++++807%0D%0A+++++c111112++c2015+02+18.18617+09+25+47.893-04+05+16.65+++++++++++++++++++++807%0D%0A+++++c111112++c2015+02+18.25467+09+25+47.173-04+05+11.56+++++++++++++++++++++807%0D%0A+++++c111112++c2015+02+18.32507+09+25+46.433-04+05+06.32+++++++++++++++++++++807%0D%0A+++++c111112++c2015+02+19.04743+09+25+38.839-04+04+12.57+++++++++++++++++++++807%0D%0A+++++c111112++c2015+02+19.18419+09+25+37.401-04+04+02.39+++++++++++++++++++++807%0D%0A+++++c111112++c2015+02+19.25293+09+25+36.679-04+03+57.28+++++++++++++++++++++807%0D%0A+++++c111112++c2015+02+19.32206+09+25+35.952-04+03+52.13+++++++++++++++++++++807%0D%0A+++++c111112++c2015+02+20.04487+09+25+28.354-04+02+58.34+++++++++++++++++++++807%0D%0A+++++c111112++c2015+02+21.04265+09+25+17.866-04+01+44.08+++++++++++++++++++++807%0D%0A+++++c111112++c2015+02+21.30826+09+25+15.074-04+01+24.31+++++++++++++++++++++807%0D%0A+++++c111112++c2015+02+22.04005+09+25+07.383-04+00+29.84+++++++++++++++++++++807%0D%0A+++++c111112++c2015+02+22.10764+09+25+06.672-04+00+24.81+++++++++++++++++++++807%0D%0A+++++c111112++c2015+02+22.17516+09+25+05.963-04+00+19.79+++++++++++++++++++++807%0D%0A+++++c111112++c2015+02+22.24395+09+25+05.240-04+00+14.67+++++++++++++++++++++807%0D%0A+++++c111112++c2015+02+22.31254+09+25+04.519-04+00+09.56+++++++++++++++++++++807%0D%0A;search=bern;epoch1=1990+01+01;epoch2=2020+08+01;eunits=bern;extres=no;xyres=no;format=tsv\n"
     ]
    }
   ],
   "source": [
    "print(query_url)"
   ]
  },
  {
   "cell_type": "markdown",
   "metadata": {},
   "source": [
    "#### Query service via URL\n",
    "\n",
    "The formatted URL above will work in a browser to return results. But we have the `query_ssois` function that will pull down the results and provide them in a pandas dataframe all in one go."
   ]
  },
  {
   "cell_type": "code",
   "execution_count": 5,
   "metadata": {},
   "outputs": [],
   "source": [
    "results_df = ssois_query.query_ssois(query_url)"
   ]
  },
  {
   "cell_type": "code",
   "execution_count": 6,
   "metadata": {},
   "outputs": [
    {
     "data": {
      "text/html": [
       "<div>\n",
       "<style scoped>\n",
       "    .dataframe tbody tr th:only-of-type {\n",
       "        vertical-align: middle;\n",
       "    }\n",
       "\n",
       "    .dataframe tbody tr th {\n",
       "        vertical-align: top;\n",
       "    }\n",
       "\n",
       "    .dataframe thead th {\n",
       "        text-align: right;\n",
       "    }\n",
       "</style>\n",
       "<table border=\"1\" class=\"dataframe\">\n",
       "  <thead>\n",
       "    <tr style=\"text-align: right;\">\n",
       "      <th></th>\n",
       "      <th>Image</th>\n",
       "      <th>MJD</th>\n",
       "      <th>Filter</th>\n",
       "      <th>Exptime</th>\n",
       "      <th>Object_RA</th>\n",
       "      <th>Object_Dec</th>\n",
       "      <th>Image_target</th>\n",
       "      <th>Telescope_or_Instrument</th>\n",
       "      <th>MetaData</th>\n",
       "      <th>Datalink</th>\n",
       "    </tr>\n",
       "  </thead>\n",
       "  <tbody>\n",
       "    <tr>\n",
       "      <th>0</th>\n",
       "      <td>WFI.2002-04-27T02:13:38.236</td>\n",
       "      <td>52391.092977</td>\n",
       "      <td>R</td>\n",
       "      <td>30</td>\n",
       "      <td>181.307766</td>\n",
       "      <td>-30.756013</td>\n",
       "      <td>56S371</td>\n",
       "      <td>ESO-LaSilla_2.2m/WFI</td>\n",
       "      <td>http://archive.eso.org/datalink/links?ID=ivo:/...</td>\n",
       "      <td>NaN</td>\n",
       "    </tr>\n",
       "    <tr>\n",
       "      <th>1</th>\n",
       "      <td>WFI.2002-05-02T02:34:43.464</td>\n",
       "      <td>52396.107621</td>\n",
       "      <td>B</td>\n",
       "      <td>30</td>\n",
       "      <td>181.148279</td>\n",
       "      <td>-30.657449</td>\n",
       "      <td>56S371</td>\n",
       "      <td>ESO-LaSilla_2.2m/WFI</td>\n",
       "      <td>http://archive.eso.org/datalink/links?ID=ivo:/...</td>\n",
       "      <td>NaN</td>\n",
       "    </tr>\n",
       "    <tr>\n",
       "      <th>2</th>\n",
       "      <td>WFI.2002-05-06T02:37:02.510</td>\n",
       "      <td>52400.109404</td>\n",
       "      <td>U</td>\n",
       "      <td>60</td>\n",
       "      <td>181.027235</td>\n",
       "      <td>-30.577294</td>\n",
       "      <td>56S371</td>\n",
       "      <td>ESO-LaSilla_2.2m/WFI</td>\n",
       "      <td>http://archive.eso.org/datalink/links?ID=ivo:/...</td>\n",
       "      <td>NaN</td>\n",
       "    </tr>\n",
       "    <tr>\n",
       "      <th>3</th>\n",
       "      <td>WFI.2002-05-06T02:39:02.693</td>\n",
       "      <td>52400.110795</td>\n",
       "      <td>U</td>\n",
       "      <td>60</td>\n",
       "      <td>181.027195</td>\n",
       "      <td>-30.577266</td>\n",
       "      <td>56S371</td>\n",
       "      <td>ESO-LaSilla_2.2m/WFI</td>\n",
       "      <td>http://archive.eso.org/datalink/links?ID=ivo:/...</td>\n",
       "      <td>NaN</td>\n",
       "    </tr>\n",
       "    <tr>\n",
       "      <th>4</th>\n",
       "      <td>rings.v3.skycell.0918.055.wrp.z.55236_54476</td>\n",
       "      <td>55236.545381</td>\n",
       "      <td>z</td>\n",
       "      <td>38</td>\n",
       "      <td>159.017335</td>\n",
       "      <td>-17.602158</td>\n",
       "      <td>0918.055</td>\n",
       "      <td>Pan-STARRS1</td>\n",
       "      <td>NaN</td>\n",
       "      <td>NaN</td>\n",
       "    </tr>\n",
       "  </tbody>\n",
       "</table>\n",
       "</div>"
      ],
      "text/plain": [
       "                                         Image           MJD Filter  Exptime  \\\n",
       "0                  WFI.2002-04-27T02:13:38.236  52391.092977      R       30   \n",
       "1                  WFI.2002-05-02T02:34:43.464  52396.107621      B       30   \n",
       "2                  WFI.2002-05-06T02:37:02.510  52400.109404      U       60   \n",
       "3                  WFI.2002-05-06T02:39:02.693  52400.110795      U       60   \n",
       "4  rings.v3.skycell.0918.055.wrp.z.55236_54476  55236.545381      z       38   \n",
       "\n",
       "    Object_RA  Object_Dec Image_target Telescope_or_Instrument  \\\n",
       "0  181.307766  -30.756013       56S371    ESO-LaSilla_2.2m/WFI   \n",
       "1  181.148279  -30.657449       56S371    ESO-LaSilla_2.2m/WFI   \n",
       "2  181.027235  -30.577294       56S371    ESO-LaSilla_2.2m/WFI   \n",
       "3  181.027195  -30.577266       56S371    ESO-LaSilla_2.2m/WFI   \n",
       "4  159.017335  -17.602158     0918.055             Pan-STARRS1   \n",
       "\n",
       "                                            MetaData  Datalink  \n",
       "0  http://archive.eso.org/datalink/links?ID=ivo:/...       NaN  \n",
       "1  http://archive.eso.org/datalink/links?ID=ivo:/...       NaN  \n",
       "2  http://archive.eso.org/datalink/links?ID=ivo:/...       NaN  \n",
       "3  http://archive.eso.org/datalink/links?ID=ivo:/...       NaN  \n",
       "4                                                NaN       NaN  "
      ]
     },
     "execution_count": 6,
     "metadata": {},
     "output_type": "execute_result"
    }
   ],
   "source": [
    "results_df.head()"
   ]
  },
  {
   "cell_type": "markdown",
   "metadata": {},
   "source": [
    "#### Create direct data download link\n",
    "It's possible to take the URLs for the data provided in `results_df['MetaData']` and turn them directly into a download link clickable from here in the notebook."
   ]
  },
  {
   "cell_type": "code",
   "execution_count": 7,
   "metadata": {},
   "outputs": [
    {
     "data": {
      "text/html": [
       "<a href=\"http://archive.eso.org/datalink/links?ID=ivo://eso.org/ID?WFI.2002-04-27T02:13:38.236&amp;eso_download=file\">http://archive.eso.org/datalink/links?ID=ivo://eso.org/ID?WFI.2002-04-27T02:13:38.236&amp;eso_download=file</a>"
      ],
      "text/plain": [
       "<IPython.core.display.HTML object>"
      ]
     },
     "execution_count": 7,
     "metadata": {},
     "output_type": "execute_result"
    }
   ],
   "source": [
    "from IPython.display import HTML\n",
    "image_data_link = results_df[\"MetaData\"].iloc[0]\n",
    "HTML('<a href=\"{}\">{}</a>'.format(image_data_link, image_data_link))"
   ]
  },
  {
   "cell_type": "code",
   "execution_count": null,
   "metadata": {},
   "outputs": [],
   "source": []
  }
 ],
 "metadata": {
  "kernelspec": {
   "display_name": "kbmod-lsst",
   "language": "python",
   "name": "kbmod-lsst"
  },
  "language_info": {
   "codemirror_mode": {
    "name": "ipython",
    "version": 3
   },
   "file_extension": ".py",
   "mimetype": "text/x-python",
   "name": "python",
   "nbconvert_exporter": "python",
   "pygments_lexer": "ipython3",
   "version": "3.6.6"
  }
 },
 "nbformat": 4,
 "nbformat_minor": 2
}
