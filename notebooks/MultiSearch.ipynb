{
 "cells": [
  {
   "cell_type": "code",
   "execution_count": 21,
   "metadata": {
    "collapsed": true
   },
   "outputs": [],
   "source": [
    "import subprocess"
   ]
  },
  {
   "cell_type": "code",
   "execution_count": 7,
   "metadata": {
    "collapsed": true
   },
   "outputs": [],
   "source": [
    "results_name = \"bryce_images\"\n",
    "gpu_code_path = \"../code/gpu/\"\n",
    "real_image_path = \"../../bryce_samples\" #gpu_code_path+\"images/\"+real_image_name #\n",
    "psi_image_path = gpu_code_path+\"output-images/psi\"\n",
    "phi_image_path = gpu_code_path+\"output-images/phi\""
   ]
  },
  {
   "cell_type": "code",
   "execution_count": 11,
   "metadata": {
    "collapsed": false
   },
   "outputs": [],
   "source": [
    "paramsFile = open('../code/gpu/debug/parameters.config', 'w')\n",
    "paramsFile.write(\n",
    "\"\"\"Debug ................ : 1\n",
    "PSF Sigma ............ : 1.0\n",
    "Mask Threshold ....... : 0.75\n",
    "Mask Penalty ......... : -0.05\n",
    "Angles to Search ..... : 120\n",
    "Minimum Angle ........ : 0.0\n",
    "Maximum Angle ........ : 6.283\n",
    "Velocities to Search . : 45\n",
    "Minimum Velocity ..... : 0.4\n",
    "Maximum Velocity ..... : 6.0\n",
    "Psi/Phi to file ...... : 1\n",
    "Source Images Path ... : ../../{source}/\n",
    "Psi Images Path ...... : ../../{psi}/\n",
    "Phi Images Path....... : ../../{phi}/\n",
    "Results Path ......... : ../../../data/results/{name}.txt\n",
    "\"\"\".format( source=real_image_path, psi=psi_image_path, phi=phi_image_path, name=results_name ))\n",
    "paramsFile.close()"
   ]
  },
  {
   "cell_type": "code",
   "execution_count": 12,
   "metadata": {
    "collapsed": false
   },
   "outputs": [
    {
     "name": "stdout",
     "output_type": "stream",
     "text": [
      "rm: cannot remove '../output-images/psi/*.fits': No such file or directory\r\n",
      "rm: cannot remove '../output-images/phi/*.fits': No such file or directory\r\n"
     ]
    }
   ],
   "source": [
    "!cd ~/cuda-workspace/kbmod/code/gpu/debug/; ./clearImages.sh"
   ]
  },
  {
   "cell_type": "code",
   "execution_count": 13,
   "metadata": {
    "collapsed": false
   },
   "outputs": [
    {
     "name": "stdout",
     "output_type": "stream",
     "text": [
      "PSF Sigma ............  : 1.0\n",
      "Mask Threshold .......  : 0.75\n",
      "Mask Penalty .........  : -0.05\n",
      "Angles to Search .....  : 120\n",
      "Minimum Angle ........  : 0.0\n",
      "Maximum Angle ........  : 6.283\n",
      "Velocities to Search .  : 45\n",
      "Minimum Velocity .....  : 0.4\n",
      "Maximum Velocity .....  : 6.0\n",
      "Psi/Phi to file ......  : 1\n",
      "Source Images Path ...  : ../../../../bryce_samples/\n",
      "Psi Images Path ......  : ../../../code/gpu/output-images/psi/\n",
      "Phi Images Path.......  : ../../../code/gpu/output-images/phi/\n",
      "Results Path .........  : ../../../data/results/bryce_images.txt\n",
      "Using Kernel Size 5X5\n",
      "| 0.004 | 0.015 | 0.023 | 0.015 | 0.004 | \n",
      " ---------------------------------------\n",
      "| 0.015 | 0.058 | 0.093 | 0.058 | 0.015 | \n",
      " ---------------------------------------\n",
      "| 0.023 | 0.093 | 0.147 | 0.093 | 0.023 | \n",
      " ---------------------------------------\n",
      "| 0.015 | 0.058 | 0.093 | 0.058 | 0.015 | \n",
      " ---------------------------------------\n",
      "| 0.004 | 0.015 | 0.023 | 0.015 | 0.004 | \n",
      " ---------------------------------------\n",
      "97.532% of PSF contained within kernel\n",
      "Reading 15 images from ../../../../bryce_samples/\n",
      "\n",
      "Image times: 0.000 1.000 2.000 3.000 4.000 5.000 6.000 7.000 8.000 9.000 10.000 11.000 12.000 13.000 14.000 \n",
      "Masking images ... Done.\n",
      "Creating Psi and Phi ... Done. Took 24.805 ms per image\n",
      "Creating interleaved psi/phi buffer ... Done.\n",
      "Searching 5400 possible trajectories starting from 40000 pixels... \n",
      " 1. Likelihood: 91.024 at x: 20, y: 20  and velocity x: 4.015, y: 2.046 Est. Flux: 1282.251\n",
      " 2. Likelihood: 84.722 at x: 21, y: 21  and velocity x: 3.905, y: 1.989 Est. Flux: 1193.474\n",
      " 3. Likelihood: 77.813 at x: 22, y: 21  and velocity x: 3.794, y: 1.933 Est. Flux: 1096.141\n",
      " 4. Likelihood: 76.898 at x: 19, y: 20  and velocity x: 4.126, y: 2.102 Est. Flux: 1083.265\n",
      " 5. Likelihood: 76.143 at x: 20, y: 22  and velocity x: 4.003, y: 1.782 Est. Flux: 1072.618\n",
      " 6. Likelihood: 74.863 at x: 21, y: 20  and velocity x: 4.015, y: 2.046 Est. Flux: 1054.594\n",
      " 7. Likelihood: 74.835 at x: 20, y: 19  and velocity x: 4.015, y: 2.046 Est. Flux: 1054.201\n",
      " 8. Likelihood: 74.625 at x: 20, y: 21  and velocity x: 4.015, y: 2.046 Est. Flux: 1051.238\n",
      " 9. Likelihood: 73.339 at x: 19, y: 19  and velocity x: 4.126, y: 2.102 Est. Flux: 1033.118\n",
      "10. Likelihood: 71.555 at x: 19, y: 22  and velocity x: 4.117, y: 1.833 Est. Flux: 1007.995\n",
      "11. Likelihood: 71.402 at x: 19, y: 21  and velocity x: 4.231, y: 1.884 Est. Flux: 1005.832\n",
      "12. Likelihood: 69.911 at x: 22, y: 19  and velocity x: 3.795, y: 2.191 Est. Flux: 984.835\n",
      "13. Likelihood: 69.810 at x: 21, y: 19  and velocity x: 3.903, y: 2.253 Est. Flux: 983.414\n",
      "14. Likelihood: 68.716 at x: 21, y: 22  and velocity x: 3.905, y: 1.989 Est. Flux: 968.000\n",
      "15. Likelihood: 68.415 at x: 23, y: 21  and velocity x: 3.794, y: 1.933 Est. Flux: 963.754\n",
      "Took 0.749 seconds to complete search.\n",
      "Writing images to file... Done.\n"
     ]
    }
   ],
   "source": [
    "!cd ~/cuda-workspace/kbmod/code/gpu/debug/; ./CudaTracker"
   ]
  },
  {
   "cell_type": "code",
   "execution_count": 38,
   "metadata": {
    "collapsed": false
   },
   "outputs": [],
   "source": [
    "\n",
    "#subprocess.check_output(['ls','-a']) #all that is technically needed...\n",
    "#print subprocess.check_output(['~/cuda-workspace/kbmod/code/gpu/debug/clearImages.sh;'])"
   ]
  },
  {
   "cell_type": "code",
   "execution_count": null,
   "metadata": {
    "collapsed": true
   },
   "outputs": [],
   "source": []
  }
 ],
 "metadata": {
  "kernelspec": {
   "display_name": "Python 2",
   "language": "python",
   "name": "python2"
  },
  "language_info": {
   "codemirror_mode": {
    "name": "ipython",
    "version": 2
   },
   "file_extension": ".py",
   "mimetype": "text/x-python",
   "name": "python",
   "nbconvert_exporter": "python",
   "pygments_lexer": "ipython2",
   "version": "2.7.13"
  }
 },
 "nbformat": 4,
 "nbformat_minor": 2
}
