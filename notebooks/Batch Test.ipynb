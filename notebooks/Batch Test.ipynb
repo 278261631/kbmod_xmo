{
 "cells": [
  {
   "cell_type": "code",
<<<<<<< HEAD
<<<<<<< HEAD
   "execution_count": 1,
   "metadata": {
    "collapsed": false
   },
   "outputs": [
    {
     "ename": "ImportError",
     "evalue": "No module named 'fullSearch'",
     "output_type": "error",
     "traceback": [
      "\u001b[0;31m---------------------------------------------------------------------------\u001b[0m",
      "\u001b[0;31mImportError\u001b[0m                               Traceback (most recent call last)",
      "\u001b[0;32m<ipython-input-1-57a815032d64>\u001b[0m in \u001b[0;36m<module>\u001b[0;34m()\u001b[0m\n\u001b[1;32m      1\u001b[0m \u001b[0;32mfrom\u001b[0m \u001b[0mkbmodpy\u001b[0m \u001b[0;32mimport\u001b[0m \u001b[0mkbmod\u001b[0m \u001b[0;32mas\u001b[0m \u001b[0mkb\u001b[0m\u001b[0;34m\u001b[0m\u001b[0m\n\u001b[0;32m----> 2\u001b[0;31m \u001b[0;32mimport\u001b[0m \u001b[0mfullSearch\u001b[0m\u001b[0;34m\u001b[0m\u001b[0m\n\u001b[0m\u001b[1;32m      3\u001b[0m \u001b[0;32mimport\u001b[0m \u001b[0mmatplotlib\u001b[0m\u001b[0;34m.\u001b[0m\u001b[0mpyplot\u001b[0m \u001b[0;32mas\u001b[0m \u001b[0mplt\u001b[0m\u001b[0;34m\u001b[0m\u001b[0m\n\u001b[1;32m      4\u001b[0m \u001b[0mget_ipython\u001b[0m\u001b[0;34m(\u001b[0m\u001b[0;34m)\u001b[0m\u001b[0;34m.\u001b[0m\u001b[0mmagic\u001b[0m\u001b[0;34m(\u001b[0m\u001b[0;34m'matplotlib inline'\u001b[0m\u001b[0;34m)\u001b[0m\u001b[0;34m\u001b[0m\u001b[0m\n",
      "\u001b[0;31mImportError\u001b[0m: No module named 'fullSearch'"
     ]
    }
   ],
=======
=======
>>>>>>> ef1abe1ebf5640bbaa5cd56f1f0ec6c442008abe
   "execution_count": 17,
   "metadata": {
    "collapsed": false
   },
   "outputs": [],
<<<<<<< HEAD
>>>>>>> ef1abe1ebf5640bbaa5cd56f1f0ec6c442008abe
=======
>>>>>>> ef1abe1ebf5640bbaa5cd56f1f0ec6c442008abe
   "source": [
    "from kbmodpy import kbmod as kb\n",
    "import fullSearch\n",
    "import matplotlib.pyplot as plt\n",
    "%matplotlib inline"
   ]
  },
  {
   "cell_type": "code",
   "execution_count": 18,
   "metadata": {
    "collapsed": false
   },
   "outputs": [],
   "source": [
    "real_result = kb.trajectory()\n",
    "real_result.flux = 5300\n",
    "real_result.x = 3123\n",
    "real_result.y = 3043\n",
    "real_result.x_v = 2425\n",
    "real_result.y_v = 1050"
   ]
  },
  {
   "cell_type": "code",
   "execution_count": 19,
   "metadata": {
    "collapsed": false
   },
   "outputs": [],
   "source": [
    "parameters = {\n",
    "    \"path\": '../../HITS/test_35/4,6tempExp/new_header/',\n",
    "    \"max_images\": 5,\n",
    "    \"psf_width\": 1.5,\n",
    "    \"object_count\": 49,\n",
    "    \"x_range\": (5,3650),\n",
    "    \"y_range\":(5, 3650),\n",
    "    \"angle_range\": (0.1,0.5),\n",
    "    \"velocity_range\": (1900,2900),\n",
    "    \"flux_range\": (300, 2000),\n",
    "    \"min_observations\": 3,\n",
    "    \"angle_steps\": 180,\n",
    "    \"velocity_steps\": 100,\n",
    "    \"search_margin\": 1.12,\n",
    "    \"real_results\": [real_result],\n",
    "    \"flags\": ~0,\n",
    "    \"flag_exceptions\": [32,39],\n",
    "    \"master_flags\": int('100111', 2),\n",
    "    \"master_threshold\": 2,\n",
    "    \"results_count\": 120000,\n",
    "    \"cluster_eps\": 0.004,\n",
    "    \"match_v\": 0.02,\n",
    "    \"match_coord\": 1\n",
    "}"
   ]
  },
  {
   "cell_type": "code",
   "execution_count": 20,
   "metadata": {
    "collapsed": true
   },
   "outputs": [],
   "source": [
    "total_matched = []\n",
    "total_unmatched = []\n",
    "all_stamps = []"
   ]
  },
  {
   "cell_type": "code",
   "execution_count": 21,
   "metadata": {
    "collapsed": true
   },
   "outputs": [],
   "source": [
    "runs = 2"
   ]
  },
  {
   "cell_type": "code",
   "execution_count": 22,
   "metadata": {
    "collapsed": false
   },
   "outputs": [],
   "source": [
    "for _ in range(runs):\n",
    "    r_m, r_um, stmp = fullSearch.run_search(parameters)\n",
    "    total_matched.extend(r_m)\n",
    "    total_unmatched.extend(r_um)\n",
    "    all_stamps.extend(stmp)"
   ]
  },
  {
   "cell_type": "code",
   "execution_count": 23,
   "metadata": {
    "collapsed": true
   },
   "outputs": [],
   "source": [
    "#plot stuff"
   ]
  },
  {
   "cell_type": "code",
   "execution_count": 24,
   "metadata": {
    "collapsed": false
   },
   "outputs": [
    {
     "data": {
      "text/plain": [
       "[lh: 270.433838 flux: 9907.183594 x: 3124 y: 3044 x_v: 2424.693359 y_v: 1044.252075 obs_count: 3,\n",
       " lh: 94.270218 flux: 1861.614990 x: 1414 y: 2194 x_v: 2324.827393 y_v: 460.518372 obs_count: 5,\n",
       " lh: 88.293152 flux: 1660.572998 x: 1165 y: 1895 x_v: 2140.899902 y_v: 784.186279 obs_count: 5,\n",
       " lh: 82.399117 flux: 1710.092041 x: 3406 y: 1487 x_v: 2521.015381 y_v: 499.380676 obs_count: 4,\n",
       " lh: 81.096352 flux: 1535.696411 x: 543 y: 1496 x_v: 2114.991943 y_v: 1113.063110 obs_count: 5,\n",
       " lh: 75.890907 flux: 1441.419678 x: 1142 y: 1455 x_v: 2746.855469 y_v: 796.483276 obs_count: 5,\n",
       " lh: 75.461327 flux: 1417.838989 x: 1597 y: 1858 x_v: 2255.163086 y_v: 451.929108 obs_count: 5,\n",
       " lh: 69.788071 flux: 1459.042114 x: 1394 y: 2706 x_v: 1968.803467 y_v: 701.364929 obs_count: 4,\n",
       " lh: 67.908844 flux: 1293.583618 x: 440 y: 1922 x_v: 2669.324463 y_v: 522.596802 obs_count: 5,\n",
       " lh: 67.541267 flux: 1358.461670 x: 184 y: 3413 x_v: 2285.983154 y_v: 586.413696 obs_count: 5,\n",
       " lh: 65.627411 flux: 1477.979248 x: 2200 y: 3389 x_v: 2401.455322 y_v: 996.500305 obs_count: 4,\n",
       " lh: 64.656731 flux: 1452.153076 x: 2802 y: 3203 x_v: 2402.366211 y_v: 1210.262939 obs_count: 4,\n",
       " lh: 62.693275 flux: 1326.317139 x: 1146 y: 2529 x_v: 2448.279297 y_v: 553.198364 obs_count: 4,\n",
       " lh: 61.528206 flux: 1187.598389 x: 1277 y: 253 x_v: 2098.090088 y_v: 513.437683 obs_count: 5,\n",
       " lh: 59.939724 flux: 1445.399170 x: 2656 y: 1900 x_v: 2459.232910 y_v: 1039.746948 obs_count: 3,\n",
       " lh: 270.433838 flux: 9907.183594 x: 3124 y: 3044 x_v: 2424.693359 y_v: 1044.252075 obs_count: 3,\n",
       " lh: 82.796150 flux: 1876.089355 x: 2326 y: 3488 x_v: 2409.633789 y_v: 864.444946 obs_count: 4,\n",
       " lh: 81.067307 flux: 1519.283203 x: 492 y: 2030 x_v: 2551.449951 y_v: 752.132263 obs_count: 5,\n",
       " lh: 79.277519 flux: 1503.863037 x: 2354 y: 862 x_v: 1820.378662 y_v: 699.086060 obs_count: 5,\n",
       " lh: 77.842911 flux: 1631.550293 x: 944 y: 1956 x_v: 2335.256836 y_v: 1024.243652 obs_count: 4,\n",
       " lh: 76.016838 flux: 1404.840332 x: 384 y: 41 x_v: 1973.252563 y_v: 432.058105 obs_count: 5,\n",
       " lh: 75.466934 flux: 1427.739868 x: 1052 y: 441 x_v: 2284.732178 y_v: 989.999207 obs_count: 5,\n",
       " lh: 73.085312 flux: 1533.251465 x: 3056 y: 1913 x_v: 1930.748169 y_v: 746.399109 obs_count: 4,\n",
       " lh: 71.132332 flux: 1511.965332 x: 361 y: 2500 x_v: 2563.577148 y_v: 490.073608 obs_count: 4,\n",
       " lh: 70.627785 flux: 1348.217529 x: 2149 y: 307 x_v: 1806.185791 y_v: 589.654846 obs_count: 5,\n",
       " lh: 70.432243 flux: 1328.309204 x: 1673 y: 99 x_v: 2102.794189 y_v: 339.347778 obs_count: 5,\n",
       " lh: 66.484917 flux: 1423.242310 x: 3581 y: 719 x_v: 2448.774170 y_v: 451.226471 obs_count: 4,\n",
       " lh: 65.700577 flux: 1448.555054 x: 1115 y: 142 x_v: 2462.887451 y_v: 1106.429077 obs_count: 4,\n",
       " lh: 65.313713 flux: 1236.023926 x: 1602 y: 1289 x_v: 2363.111084 y_v: 419.172424 obs_count: 5,\n",
       " lh: 64.786850 flux: 1360.630737 x: 1278 y: 2081 x_v: 2358.808105 y_v: 942.138000 obs_count: 4,\n",
       " lh: 63.335224 flux: 1199.176514 x: 1330 y: 1735 x_v: 2364.509766 y_v: 981.169495 obs_count: 5,\n",
       " lh: 62.993027 flux: 1187.836914 x: 1811 y: 341 x_v: 1798.423828 y_v: 779.276489 obs_count: 5]"
      ]
     },
     "execution_count": 24,
     "metadata": {},
     "output_type": "execute_result"
    }
   ],
   "source": [
    "total_matched"
   ]
  },
  {
   "cell_type": "code",
   "execution_count": 25,
   "metadata": {
    "collapsed": false
   },
   "outputs": [
    {
     "data": {
      "text/plain": [
       "[lh: 0.000000 flux: 508.001251 x: 680 y: 2307 x_v: 2363.090820 y_v: 893.079895 obs_count: 0,\n",
       " lh: 0.000000 flux: 578.236023 x: 3593 y: 1420 x_v: 2191.297119 y_v: 663.202576 obs_count: 0,\n",
       " lh: 0.000000 flux: 609.892456 x: 863 y: 261 x_v: 2299.449951 y_v: 276.796143 obs_count: 0,\n",
       " lh: 0.000000 flux: 1385.364990 x: 3628 y: 3311 x_v: 2254.238525 y_v: 1195.543945 obs_count: 0,\n",
       " lh: 0.000000 flux: 571.903198 x: 3460 y: 918 x_v: 2881.933105 y_v: 314.455566 obs_count: 0,\n",
       " lh: 0.000000 flux: 1783.614502 x: 2110 y: 1751 x_v: 2456.434814 y_v: 1157.117310 obs_count: 0,\n",
       " lh: 0.000000 flux: 327.835236 x: 1564 y: 2269 x_v: 2835.539307 y_v: 404.275513 obs_count: 0,\n",
       " lh: 0.000000 flux: 1240.908447 x: 3144 y: 575 x_v: 2335.384033 y_v: 912.246460 obs_count: 0,\n",
       " lh: 0.000000 flux: 1156.408813 x: 251 y: 1895 x_v: 2639.920410 y_v: 1175.645630 obs_count: 0,\n",
       " lh: 0.000000 flux: 803.316101 x: 1967 y: 1806 x_v: 2335.114014 y_v: 363.198456 obs_count: 0,\n",
       " lh: 0.000000 flux: 1096.782715 x: 2109 y: 2393 x_v: 2325.081055 y_v: 836.903015 obs_count: 0,\n",
       " lh: 0.000000 flux: 1334.121338 x: 3209 y: 261 x_v: 2143.388672 y_v: 1084.326660 obs_count: 0,\n",
       " lh: 0.000000 flux: 386.235504 x: 192 y: 1025 x_v: 2292.973389 y_v: 1156.775269 obs_count: 0,\n",
       " lh: 0.000000 flux: 509.009033 x: 1547 y: 3558 x_v: 1982.745972 y_v: 630.940796 obs_count: 0,\n",
       " lh: 0.000000 flux: 560.426636 x: 1652 y: 2653 x_v: 2710.116455 y_v: 795.201599 obs_count: 0,\n",
       " lh: 0.000000 flux: 604.160767 x: 636 y: 2977 x_v: 2288.602051 y_v: 298.202026 obs_count: 0,\n",
       " lh: 0.000000 flux: 1229.058960 x: 2602 y: 2926 x_v: 2400.989502 y_v: 320.831268 obs_count: 0,\n",
       " lh: 0.000000 flux: 1652.168213 x: 2037 y: 2921 x_v: 1982.377075 y_v: 752.744324 obs_count: 0,\n",
       " lh: 0.000000 flux: 1049.031128 x: 2184 y: 399 x_v: 2492.794434 y_v: 1062.068359 obs_count: 0,\n",
       " lh: 0.000000 flux: 303.678223 x: 2452 y: 634 x_v: 1949.146362 y_v: 732.749756 obs_count: 0,\n",
       " lh: 0.000000 flux: 419.467316 x: 3054 y: 2225 x_v: 2142.071289 y_v: 1098.531738 obs_count: 0,\n",
       " lh: 0.000000 flux: 1425.874634 x: 3229 y: 1092 x_v: 2247.557129 y_v: 796.702881 obs_count: 0,\n",
       " lh: 0.000000 flux: 1294.386475 x: 2326 y: 1285 x_v: 1953.512451 y_v: 1045.633423 obs_count: 0,\n",
       " lh: 0.000000 flux: 850.847778 x: 1745 y: 3356 x_v: 2003.149414 y_v: 999.559570 obs_count: 0,\n",
       " lh: 0.000000 flux: 771.569275 x: 2605 y: 3259 x_v: 2211.209229 y_v: 1145.869263 obs_count: 0,\n",
       " lh: 0.000000 flux: 586.750366 x: 212 y: 2758 x_v: 2230.249512 y_v: 431.993530 obs_count: 0,\n",
       " lh: 0.000000 flux: 1009.837524 x: 34 y: 200 x_v: 2771.418213 y_v: 516.055420 obs_count: 0,\n",
       " lh: 0.000000 flux: 480.940765 x: 1061 y: 3364 x_v: 1998.621582 y_v: 494.617584 obs_count: 0,\n",
       " lh: 0.000000 flux: 841.287842 x: 748 y: 2425 x_v: 2542.085938 y_v: 975.198608 obs_count: 0,\n",
       " lh: 0.000000 flux: 398.453766 x: 3019 y: 3099 x_v: 1772.598755 y_v: 954.439331 obs_count: 0,\n",
       " lh: 0.000000 flux: 1073.796021 x: 2533 y: 3240 x_v: 1927.674194 y_v: 921.781250 obs_count: 0,\n",
       " lh: 0.000000 flux: 476.081573 x: 573 y: 2268 x_v: 2588.653564 y_v: 1012.004089 obs_count: 0,\n",
       " lh: 0.000000 flux: 1092.419800 x: 734 y: 2382 x_v: 2232.310547 y_v: 622.703125 obs_count: 0,\n",
       " lh: 0.000000 flux: 1028.220825 x: 2182 y: 3170 x_v: 2816.678955 y_v: 618.376465 obs_count: 0,\n",
       " lh: 0.000000 flux: 647.036377 x: 26 y: 3584 x_v: 2269.419189 y_v: 1237.617920 obs_count: 0,\n",
       " lh: 0.000000 flux: 1057.478394 x: 2676 y: 1757 x_v: 1827.684570 y_v: 891.421509 obs_count: 0,\n",
       " lh: 0.000000 flux: 784.363220 x: 231 y: 340 x_v: 2593.216064 y_v: 1062.673462 obs_count: 0,\n",
       " lh: 0.000000 flux: 443.068726 x: 864 y: 2301 x_v: 1889.278931 y_v: 393.411011 obs_count: 0,\n",
       " lh: 0.000000 flux: 634.060120 x: 3144 y: 1776 x_v: 1975.608521 y_v: 537.841248 obs_count: 0,\n",
       " lh: 0.000000 flux: 1402.865601 x: 1371 y: 1163 x_v: 2829.709229 y_v: 288.210571 obs_count: 0,\n",
       " lh: 0.000000 flux: 611.362000 x: 2777 y: 310 x_v: 2102.389404 y_v: 386.790955 obs_count: 0,\n",
       " lh: 0.000000 flux: 1263.030518 x: 1760 y: 2170 x_v: 2826.217529 y_v: 406.689514 obs_count: 0,\n",
       " lh: 0.000000 flux: 1638.166504 x: 1492 y: 1018 x_v: 2180.159424 y_v: 992.970825 obs_count: 0,\n",
       " lh: 0.000000 flux: 1304.224854 x: 3138 y: 571 x_v: 2358.520508 y_v: 517.554260 obs_count: 0,\n",
       " lh: 0.000000 flux: 584.492981 x: 1967 y: 1141 x_v: 2182.928467 y_v: 622.600586 obs_count: 0,\n",
       " lh: 0.000000 flux: 636.556274 x: 940 y: 3306 x_v: 2288.584473 y_v: 1148.253784 obs_count: 0,\n",
       " lh: 0.000000 flux: 520.121582 x: 23 y: 1166 x_v: 2693.943115 y_v: 736.842590 obs_count: 0,\n",
       " lh: 0.000000 flux: 1479.396240 x: 972 y: 3551 x_v: 1955.686035 y_v: 270.995239 obs_count: 0,\n",
       " lh: 0.000000 flux: 794.621582 x: 1453 y: 308 x_v: 2209.502686 y_v: 1149.852173 obs_count: 0,\n",
       " lh: 0.000000 flux: 1300.683594 x: 1359 y: 2348 x_v: 2274.989746 y_v: 935.957581 obs_count: 0,\n",
       " lh: 0.000000 flux: 1043.246704 x: 2906 y: 1807 x_v: 2236.312500 y_v: 1055.780884 obs_count: 0,\n",
       " lh: 0.000000 flux: 985.708984 x: 2268 y: 2243 x_v: 2598.941895 y_v: 928.242065 obs_count: 0,\n",
       " lh: 0.000000 flux: 526.026794 x: 2891 y: 2243 x_v: 2768.996826 y_v: 322.451355 obs_count: 0,\n",
       " lh: 0.000000 flux: 1112.157959 x: 53 y: 506 x_v: 2507.375977 y_v: 1258.117310 obs_count: 0,\n",
       " lh: 0.000000 flux: 1077.195557 x: 3369 y: 3345 x_v: 2424.622314 y_v: 454.959930 obs_count: 0,\n",
       " lh: 0.000000 flux: 1245.781616 x: 3519 y: 443 x_v: 1870.044556 y_v: 552.243652 obs_count: 0,\n",
       " lh: 0.000000 flux: 958.890076 x: 2129 y: 3541 x_v: 2584.233887 y_v: 1133.906860 obs_count: 0,\n",
       " lh: 0.000000 flux: 1935.555786 x: 3013 y: 918 x_v: 2496.603760 y_v: 1055.909424 obs_count: 0,\n",
       " lh: 0.000000 flux: 986.047241 x: 486 y: 1637 x_v: 1769.709839 y_v: 854.598450 obs_count: 0,\n",
       " lh: 0.000000 flux: 1643.935303 x: 1982 y: 1048 x_v: 2325.730225 y_v: 890.788208 obs_count: 0,\n",
       " lh: 0.000000 flux: 1189.962036 x: 1935 y: 1380 x_v: 1867.241699 y_v: 762.103699 obs_count: 0,\n",
       " lh: 0.000000 flux: 999.002686 x: 564 y: 2513 x_v: 2223.394287 y_v: 332.269684 obs_count: 0,\n",
       " lh: 0.000000 flux: 1237.404297 x: 3543 y: 3325 x_v: 2397.249268 y_v: 616.265259 obs_count: 0,\n",
       " lh: 0.000000 flux: 439.722870 x: 3073 y: 3636 x_v: 2258.332764 y_v: 719.292236 obs_count: 0,\n",
       " lh: 0.000000 flux: 1934.596558 x: 1011 y: 1024 x_v: 1981.453613 y_v: 915.731873 obs_count: 0,\n",
       " lh: 0.000000 flux: 1024.408081 x: 1015 y: 212 x_v: 2786.786133 y_v: 549.023865 obs_count: 0,\n",
       " lh: 0.000000 flux: 875.422668 x: 1653 y: 123 x_v: 2101.122803 y_v: 428.097534 obs_count: 0,\n",
       " lh: 0.000000 flux: 1188.449097 x: 1416 y: 2996 x_v: 2277.808594 y_v: 916.107117 obs_count: 0]"
      ]
     },
     "execution_count": 25,
     "metadata": {},
     "output_type": "execute_result"
    }
   ],
   "source": [
    "total_unmatched"
   ]
  },
  {
   "cell_type": "code",
   "execution_count": 14,
   "metadata": {
    "collapsed": false
   },
   "outputs": [],
   "source": [
    "text_results = open(\"test.txt\", \"w\")\n",
    "text_results.write(str(total_unmatched))\n",
    "text_results.close()"
   ]
  },
  {
   "cell_type": "code",
   "execution_count": 15,
   "metadata": {
    "collapsed": true
   },
   "outputs": [],
   "source": [
    "results_to_plot = total_unmatched"
   ]
  },
  {
   "cell_type": "code",
   "execution_count": 14,
   "metadata": {
    "collapsed": false
   },
   "outputs": [
    {
     "name": "stdout",
     "output_type": "stream",
     "text": [
      "Starting at 0\n"
     ]
    },
    {
     "data": {
      "image/png": "iVBORw0KGgoAAAANSUhEUgAAApIAAAEfCAYAAADyTib9AAAABHNCSVQICAgIfAhkiAAAAAlwSFlz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\nSJqZmZnZpDiQNDMzM7NJ+f8BtEKOlw8E8ukAAAAASUVORK5CYII=\n",
      "text/plain": [
       "<matplotlib.figure.Figure at 0x7f32b55bc080>"
      ]
     },
     "metadata": {},
     "output_type": "display_data"
    }
   ],
   "source": [
    "fig = plt.figure(figsize=(120, 120))\n",
    "set_on = 1\n",
    "plot_count = 1#min(100,len(stamps))\n",
    "print ('Starting at %i' % int((set_on - 1)*plot_count))\n",
    "for i in range((set_on-1)*plot_count,set_on*plot_count):\n",
    "    fig.add_subplot(25,4,i-(set_on-1)*plot_count+1)\n",
    "    plt.imshow(all_stamps[i], #cmap=plt.cm.Greys_r,\n",
    "               interpolation=None)\n",
    "    rplt=results_to_plot[i]\n",
    "    plt.title('x: {0}  y: {1} lh: {2:.3g} flux: {3:.4g}'.format(rplt.x, rplt.y,rplt.lh, rplt.flux) , fontsize=40)\n",
    "    plt.colorbar()"
   ]
  },
  {
   "cell_type": "code",
   "execution_count": null,
   "metadata": {
    "collapsed": true
   },
   "outputs": [],
   "source": []
  }
 ],
 "metadata": {
  "kernelspec": {
   "display_name": "Python 3",
   "language": "python",
   "name": "python3"
  },
  "language_info": {
   "codemirror_mode": {
    "name": "ipython",
    "version": 3
   },
   "file_extension": ".py",
   "mimetype": "text/x-python",
   "name": "python",
   "nbconvert_exporter": "python",
   "pygments_lexer": "ipython3",
   "version": "3.5.2"
  }
 },
 "nbformat": 4,
 "nbformat_minor": 2
}
