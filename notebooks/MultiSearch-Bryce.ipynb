{
 "cells": [
  {
   "cell_type": "code",
   "execution_count": 1,
   "metadata": {
    "collapsed": true
   },
   "outputs": [],
   "source": [
    "import subprocess"
   ]
  },
  {
   "cell_type": "code",
   "execution_count": 28,
   "metadata": {
    "collapsed": true
   },
   "outputs": [],
   "source": [
    "results_name = \"HITS1\"\n",
    "gpu_code_path = \"../code/gpu/\"\n",
    "real_image_path = \"../../HITS/trimmed_chip_03/Blind15A_02/search_nights/\" #gpu_code_path+\"images/\"+real_image_name #\n",
    "psi_image_path = gpu_code_path+\"output-images/psi\"\n",
    "phi_image_path = gpu_code_path+\"output-images/phi\""
   ]
  },
  {
   "cell_type": "code",
   "execution_count": 35,
   "metadata": {
    "collapsed": false
   },
   "outputs": [],
   "source": [
    "paramsFile = open('../code/gpu/debug/parameters.config', 'w')\n",
    "paramsFile.write(\n",
    "\"\"\"Debug ................ : 1\n",
    "PSF Sigma ............ : 1.0\n",
    "Mask Threshold ....... : 0.75\n",
    "Mask Penalty ......... : -0.05\n",
    "Angles to Search ..... : 120\n",
    "Minimum Angle ........ : 0.0\n",
    "Maximum Angle ........ : 6.283\n",
    "Velocities to Search . : 90\n",
    "Minimum Velocity ..... : 24.\n",
    "Maximum Velocity ..... : 600.\n",
    "Psi/Phi to file ...... : 1\n",
    "Source Images Path ... : ../../{source}/\n",
    "Psi Images Path ...... : ../../{psi}/\n",
    "Phi Images Path....... : ../../{phi}/\n",
    "Results Path ......... : ../../../data/results/{name}.txt\n",
    "\"\"\".format( source=real_image_path, psi=psi_image_path, phi=phi_image_path, name=results_name ))\n",
    "paramsFile.close()"
   ]
  },
  {
   "cell_type": "code",
   "execution_count": 36,
   "metadata": {
    "collapsed": false
   },
   "outputs": [
    {
     "name": "stdout",
     "output_type": "stream",
     "text": [
      "rm: cannot remove '../output-images/psi/*.fits': No such file or directory\r\n",
      "rm: cannot remove '../output-images/phi/*.fits': No such file or directory\r\n"
     ]
    }
   ],
   "source": [
    "!cd ~/cuda-workspace/kbmod/code/gpu/debug/; ./clearImages.sh"
   ]
  },
  {
   "cell_type": "code",
   "execution_count": 37,
   "metadata": {
    "collapsed": false,
    "scrolled": false
   },
   "outputs": [
    {
     "name": "stdout",
     "output_type": "stream",
     "text": [
      "PSF Sigma ............  : 1.0\n",
      "Mask Threshold .......  : 0.75\n",
      "Mask Penalty .........  : -0.05\n",
      "Angles to Search .....  : 120\n",
      "Minimum Angle ........  : 0.0\n",
      "Maximum Angle ........  : 6.283\n",
      "Velocities to Search .  : 90\n",
      "Minimum Velocity .....  : 24.\n",
      "Maximum Velocity .....  : 600.\n",
      "Psi/Phi to file ......  : 1\n",
      "Source Images Path ...  : ../../../../HITS/trimmed_chip_03/Blind15A_02/search_nights//\n",
      "Psi Images Path ......  : ../../../code/gpu/output-images/psi/\n",
      "Phi Images Path.......  : ../../../code/gpu/output-images/phi/\n",
      "Results Path .........  : ../../../data/results/HITS1.txt\n",
      "Using Kernel Size 5X5\n",
      "| 0.004 | 0.015 | 0.023 | 0.015 | 0.004 | \n",
      " ---------------------------------------\n",
      "| 0.015 | 0.058 | 0.093 | 0.058 | 0.015 | \n",
      " ---------------------------------------\n",
      "| 0.023 | 0.093 | 0.147 | 0.093 | 0.023 | \n",
      " ---------------------------------------\n",
      "| 0.015 | 0.058 | 0.093 | 0.058 | 0.015 | \n",
      " ---------------------------------------\n",
      "| 0.004 | 0.015 | 0.023 | 0.015 | 0.004 | \n",
      " ---------------------------------------\n",
      "97.532% of PSF contained within kernel\n",
      "Reading 4 images from ../../../../HITS/trimmed_chip_03/Blind15A_02/search_nights//\n",
      "\n",
      "Image times: 0.000 0.068 0.153 0.222 \n",
      "Masking images ... Done.\n",
      "Creating Psi and Phi ... Done. Took 146.374 ms per image\n",
      "Creating interleaved psi/phi buffer ... Done.\n",
      "Searching 10800 possible trajectories starting from 7836660 pixels... \n",
      " 1. Likelihood: 35.315 at x: 102, y: 2713  and velocity x: -242.455, y: 196.366 Est. Flux: 7068.809\n",
      " 2. Likelihood: 34.227 at x: 102, y: 2718  and velocity x: -242.045, y: 175.883 Est. Flux: 6647.873\n",
      " 3. Likelihood: 34.146 at x: 102, y: 2722  and velocity x: -240.183, y: 156.003 Est. Flux: 6617.490\n",
      " 4. Likelihood: 30.881 at x: 103, y: 2717  and velocity x: -247.222, y: 179.645 Est. Flux: 5374.923\n",
      " 5. Likelihood: 30.417 at x: 101, y: 2714  and velocity x: -237.482, y: 192.338 Est. Flux: 5276.734\n",
      " 6. Likelihood: 30.102 at x: 103, y: 2721  and velocity x: -245.551, y: 159.489 Est. Flux: 5150.433\n",
      " 7. Likelihood: 30.034 at x: 102, y: 2712  and velocity x: -247.429, y: 200.394 Est. Flux: 5936.115\n",
      " 8. Likelihood: 29.865 at x: 101, y: 2709  and velocity x: -236.602, y: 213.068 Est. Flux: 5081.178\n",
      " 9. Likelihood: 29.727 at x: 101, y: 2718  and velocity x: -236.867, y: 172.121 Est. Flux: 5034.704\n",
      "10. Likelihood: 29.063 at x: 103, y: 2712  and velocity x: -247.429, y: 200.394 Est. Flux: 4772.388\n",
      "11. Likelihood: 29.017 at x: 102, y: 2717  and velocity x: -247.222, y: 179.645 Est. Flux: 5568.885\n",
      "12. Likelihood: 28.433 at x: 103, y: 2725  and velocity x: -248.019, y: 143.219 Est. Flux: 4524.144\n",
      "13. Likelihood: 28.326 at x: 102, y: 2714  and velocity x: -242.455, y: 196.366 Est. Flux: 5043.941\n",
      "14. Likelihood: 27.448 at x: 102, y: 2708  and velocity x: -241.358, y: 217.351 Est. Flux: 4254.002\n",
      "15. Likelihood: 27.275 at x: 101, y: 2723  and velocity x: -234.816, y: 152.517 Est. Flux: 4238.092\n",
      "Took 80.166 seconds to complete search.\n",
      "Writing images to file... Done.\n"
     ]
    }
   ],
   "source": [
    "!cd ~/cuda-workspace/kbmod/code/gpu/debug/; ./CudaTracker"
   ]
  },
  {
   "cell_type": "code",
   "execution_count": 13,
   "metadata": {
    "collapsed": false
   },
   "outputs": [],
   "source": [
    "#subprocess.check_output(['ls','-a']) #all that is technically needed...\n",
    "#print subprocess.check_output(['~/cuda-workspace/kbmod/code/gpu/debug/clearImages.sh;'])"
   ]
  }
 ],
 "metadata": {
  "kernelspec": {
   "display_name": "Python 2",
   "language": "python",
   "name": "python2"
  },
  "language_info": {
   "codemirror_mode": {
    "name": "ipython",
    "version": 2
   },
   "file_extension": ".py",
   "mimetype": "text/x-python",
   "name": "python",
   "nbconvert_exporter": "python",
   "pygments_lexer": "ipython2",
   "version": "2.7.13"
  }
 },
 "nbformat": 4,
 "nbformat_minor": 2
}
