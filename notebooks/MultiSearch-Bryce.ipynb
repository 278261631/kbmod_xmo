{
 "cells": [
  {
   "cell_type": "code",
   "execution_count": 1,
   "metadata": {
    "collapsed": true
   },
   "outputs": [],
   "source": [
    "import subprocess"
   ]
  },
  {
   "cell_type": "code",
   "execution_count": 23,
   "metadata": {
    "collapsed": true
   },
   "outputs": [],
   "source": [
    "results_name = \"HITS1\"\n",
    "gpu_code_path = \"../code/gpu/\"\n",
    "real_image_path = \"../../HITS/trimmed_chip_03/Blind15A_02/night_1\" #gpu_code_path+\"images/\"+real_image_name #\n",
    "psi_image_path = gpu_code_path+\"output-images/psi\"\n",
    "phi_image_path = gpu_code_path+\"output-images/phi\""
   ]
  },
  {
   "cell_type": "code",
   "execution_count": 24,
   "metadata": {
    "collapsed": false
   },
   "outputs": [],
   "source": [
    "paramsFile = open('../code/gpu/debug/parameters.config', 'w')\n",
    "paramsFile.write(\n",
    "\"\"\"Debug ................ : 1\n",
    "PSF Sigma ............ : 1.0\n",
    "Mask Threshold ....... : 0.75\n",
    "Mask Penalty ......... : -0.05\n",
    "Angles to Search ..... : 120\n",
    "Minimum Angle ........ : 0.0\n",
    "Maximum Angle ........ : 6.283\n",
    "Velocities to Search . : 45\n",
    "Minimum Velocity ..... : 0.4\n",
    "Maximum Velocity ..... : 6.0\n",
    "Psi/Phi to file ...... : 1\n",
    "Source Images Path ... : ../../{source}/\n",
    "Psi Images Path ...... : ../../{psi}/\n",
    "Phi Images Path....... : ../../{phi}/\n",
    "Results Path ......... : ../../../data/results/{name}.txt\n",
    "\"\"\".format( source=real_image_path, psi=psi_image_path, phi=phi_image_path, name=results_name ))\n",
    "paramsFile.close()"
   ]
  },
  {
   "cell_type": "code",
   "execution_count": 25,
   "metadata": {
    "collapsed": false
   },
   "outputs": [],
   "source": [
    "!cd ~/cuda-workspace/kbmod/code/gpu/debug/; ./clearImages.sh"
   ]
  },
  {
   "cell_type": "code",
   "execution_count": 26,
   "metadata": {
    "collapsed": false,
    "scrolled": false
   },
   "outputs": [
    {
     "name": "stdout",
     "output_type": "stream",
     "text": [
      "PSF Sigma ............  : 1.0\n",
      "Mask Threshold .......  : 0.75\n",
      "Mask Penalty .........  : -0.05\n",
      "Angles to Search .....  : 120\n",
      "Minimum Angle ........  : 0.0\n",
      "Maximum Angle ........  : 6.283\n",
      "Velocities to Search .  : 45\n",
      "Minimum Velocity .....  : 0.4\n",
      "Maximum Velocity .....  : 6.0\n",
      "Psi/Phi to file ......  : 1\n",
      "Source Images Path ...  : ../../../../HITS/trimmed_chip_03/Blind15A_02/night_1/\n",
      "Psi Images Path ......  : ../../../code/gpu/output-images/psi/\n",
      "Phi Images Path.......  : ../../../code/gpu/output-images/phi/\n",
      "Results Path .........  : ../../../data/results/HITS1.txt\n",
      "Using Kernel Size 5X5\n",
      "| 0.004 | 0.015 | 0.023 | 0.015 | 0.004 | \n",
      " ---------------------------------------\n",
      "| 0.015 | 0.058 | 0.093 | 0.058 | 0.015 | \n",
      " ---------------------------------------\n",
      "| 0.023 | 0.093 | 0.147 | 0.093 | 0.023 | \n",
      " ---------------------------------------\n",
      "| 0.015 | 0.058 | 0.093 | 0.058 | 0.015 | \n",
      " ---------------------------------------\n",
      "| 0.004 | 0.015 | 0.023 | 0.015 | 0.004 | \n",
      " ---------------------------------------\n",
      "97.532% of PSF contained within kernel\n",
      "Reading 11 images from ../../../../HITS/trimmed_chip_03/Blind15A_02/night_1/\n",
      "\n",
      "Image times: 0.000 1.000 2.000 3.000 4.000 5.000 6.000 7.000 8.000 9.000 10.000 \n",
      "Masking images ... Done.\n",
      "Creating Psi and Phi ... Done. Took 154.925 ms per image\n",
      "Creating interleaved psi/phi buffer ... Done.\n",
      "Searching 5400 possible trajectories starting from 7836660 pixels... \n",
      " 1. Likelihood: 15.430 at x: 1565, y: 2823  and velocity x: 0.722, y: -0.277 Est. Flux: 416.453\n",
      " 2. Likelihood: 15.410 at x: 1572, y: 2822  and velocity x: -0.124, y: -0.380 Est. Flux: 445.565\n",
      " 3. Likelihood: 15.380 at x: 1565, y: 2824  and velocity x: 0.885, y: -0.511 Est. Flux: 429.147\n",
      " 4. Likelihood: 15.339 at x: 1564, y: 2823  and velocity x: 0.756, y: -0.161 Est. Flux: 410.694\n",
      " 5. Likelihood: 15.286 at x: 1566, y: 2824  and velocity x: 0.649, y: -0.421 Est. Flux: 413.989\n",
      " 6. Likelihood: 15.270 at x: 1564, y: 2824  and velocity x: 0.885, y: -0.511 Est. Flux: 414.044\n",
      " 7. Likelihood: 15.270 at x: 1572, y: 2820  and velocity x: 0.083, y: 0.391 Est. Flux: 442.500\n",
      " 8. Likelihood: 15.255 at x: 1572, y: 2823  and velocity x: -0.083, y: -0.391 Est. Flux: 443.185\n",
      " 9. Likelihood: 15.228 at x: 1572, y: 2819  and velocity x: 0.083, y: 0.391 Est. Flux: 447.355\n",
      "10. Likelihood: 15.225 at x: 1566, y: 2823  and velocity x: 0.365, y: -0.163 Est. Flux: 407.093\n",
      "11. Likelihood: 15.205 at x: 1564, y: 2822  and velocity x: 0.887, y: -0.141 Est. Flux: 410.083\n",
      "12. Likelihood: 15.190 at x: 1571, y: 2822  and velocity x: 0.182, y: -0.356 Est. Flux: 429.317\n",
      "13. Likelihood: 15.180 at x: 1574, y: 2802  and velocity x: -0.083, y: -0.391 Est. Flux: 435.575\n",
      "14. Likelihood: 15.167 at x: 1565, y: 2825  and velocity x: 0.726, y: -0.528 Est. Flux: 409.589\n",
      "15. Likelihood: 15.159 at x: 1563, y: 2823  and velocity x: 1.090, y: -0.355 Est. Flux: 416.857\n",
      "Took 78.285 seconds to complete search.\n",
      "Writing images to file... Done.\n"
     ]
    }
   ],
   "source": [
    "!cd ~/cuda-workspace/kbmod/code/gpu/debug/; ./CudaTracker"
   ]
  },
  {
   "cell_type": "code",
   "execution_count": 18,
   "metadata": {
    "collapsed": false
   },
   "outputs": [
    {
     "name": "stdout",
     "output_type": "stream",
     "text": [
      "here\n"
     ]
    }
   ],
   "source": [
    "print 'here'"
   ]
  },
  {
   "cell_type": "code",
   "execution_count": 13,
   "metadata": {
    "collapsed": false
   },
   "outputs": [],
   "source": [
    "#subprocess.check_output(['ls','-a']) #all that is technically needed...\n",
    "#print subprocess.check_output(['~/cuda-workspace/kbmod/code/gpu/debug/clearImages.sh;'])"
   ]
  }
 ],
 "metadata": {
  "kernelspec": {
   "display_name": "Python 2",
   "language": "python",
   "name": "python2"
  },
  "language_info": {
   "codemirror_mode": {
    "name": "ipython",
    "version": 2
   },
   "file_extension": ".py",
   "mimetype": "text/x-python",
   "name": "python",
   "nbconvert_exporter": "python",
   "pygments_lexer": "ipython2",
   "version": "2.7.13"
  }
 },
 "nbformat": 4,
 "nbformat_minor": 2
}
