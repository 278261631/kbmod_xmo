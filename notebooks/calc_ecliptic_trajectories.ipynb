{
 "cells": [
  {
   "cell_type": "code",
   "execution_count": 1,
   "metadata": {
    "collapsed": true
   },
   "outputs": [],
   "source": [
    "import numpy as np\n",
    "import astropy.coordinates as astroCoords\n",
    "import astropy.units as u\n",
    "from astropy.io import fits\n",
    "from astropy.wcs import WCS"
   ]
  },
  {
   "cell_type": "code",
   "execution_count": 2,
   "metadata": {
    "collapsed": true
   },
   "outputs": [],
   "source": [
    "angle = 0."
   ]
  },
  {
   "cell_type": "code",
   "execution_count": 3,
   "metadata": {
    "collapsed": false
   },
   "outputs": [],
   "source": [
    "vel_array = np.array([[6.*np.cos(angle), 6.*np.sin(angle)]])"
   ]
  },
  {
   "cell_type": "code",
   "execution_count": 4,
   "metadata": {
    "collapsed": false
   },
   "outputs": [
    {
     "data": {
      "text/plain": [
       "array([[ 6.,  0.]])"
      ]
     },
     "execution_count": 4,
     "metadata": {},
     "output_type": "execute_result"
    }
   ],
   "source": [
    "vel_array"
   ]
  },
  {
   "cell_type": "code",
   "execution_count": 26,
   "metadata": {
    "collapsed": true
   },
   "outputs": [],
   "source": [
    "test_fits = fits.open('../../HITS/trimmed_chip_03/Blind15A_01/search_nights/trimmed_calexp-0410840_03.fits')\n",
    "#time_array = np.genfromtxt('../../HITS/test/chip_05/field_times.dat')"
   ]
  },
  {
   "cell_type": "code",
   "execution_count": 27,
   "metadata": {
    "collapsed": true
   },
   "outputs": [],
   "source": [
    "#test_fits = fits.open('../../HITS/test/chip_05/calexp-0412680_05.fits')\n",
    "#time_array = np.genfromtxt('../../HITS/test/chip_05/field_times.dat')"
   ]
  },
  {
   "cell_type": "code",
   "execution_count": 28,
   "metadata": {
    "collapsed": false
   },
   "outputs": [],
   "source": [
    "test_wcs = WCS(test_fits[1].header)"
   ]
  },
  {
   "cell_type": "code",
   "execution_count": 29,
   "metadata": {
    "collapsed": false
   },
   "outputs": [],
   "source": [
    "time_array = [0.0, 1.0, 2.0]"
   ]
  },
  {
   "cell_type": "code",
   "execution_count": 30,
   "metadata": {
    "collapsed": false
   },
   "outputs": [
    {
     "name": "stdout",
     "output_type": "stream",
     "text": [
      "[2000, 4000]\n"
     ]
    }
   ],
   "source": [
    "wcs = [test_wcs]\n",
    "pixel_coords = [[],[]]\n",
    "pixel_start = [[2000, 4000]]\n",
    "\n",
    "vel_par_arr = vel_array[:, 0]\n",
    "vel_perp_arr = vel_array[:, 1]\n",
    "\n",
    "if type(vel_par_arr) is not np.ndarray:\n",
    "    vel_par_arr = [vel_par_arr]\n",
    "if type(vel_perp_arr) is not np.ndarray:\n",
    "    vel_perp_arr = [vel_perp_arr]\n",
    "for start_loc, vel_par, vel_perp in zip(pixel_start, vel_par_arr, vel_perp_arr):\n",
    "    \n",
    "    print start_loc\n",
    "    start_coord = astroCoords.SkyCoord.from_pixel(start_loc[0],\n",
    "                                                  start_loc[1],\n",
    "                                                  wcs[0])\n",
    "    eclip_coord = start_coord.geocentrictrueecliptic\n",
    "    eclip_l = []\n",
    "    eclip_b = []\n",
    "    for time_step in time_array:\n",
    "        eclip_l.append(eclip_coord.lon + vel_par*time_step*u.arcsec)\n",
    "        eclip_b.append(eclip_coord.lat + vel_perp*time_step*u.arcsec)\n",
    "    eclip_vector = astroCoords.SkyCoord(eclip_l, eclip_b,\n",
    "                                        frame='geocentrictrueecliptic')\n",
    "    pixel_coords_set = astroCoords.SkyCoord.to_pixel(eclip_vector, wcs[0])\n",
    "    pixel_coords[0].append(pixel_coords_set[0])\n",
    "    pixel_coords[1].append(pixel_coords_set[1])\n",
    "pixel_coords = np.array(pixel_coords)"
   ]
  },
  {
   "cell_type": "code",
   "execution_count": 31,
   "metadata": {
    "collapsed": false
   },
   "outputs": [
    {
     "data": {
      "text/plain": [
       "array([[[ 2000.        ,  2006.76629527,  2013.53267996]],\n",
       "\n",
       "       [[ 4000.00000025,  4020.25041785,  4040.50084292]]])"
      ]
     },
     "execution_count": 31,
     "metadata": {},
     "output_type": "execute_result"
    }
   ],
   "source": [
    "pixel_coords"
   ]
  },
  {
   "cell_type": "code",
   "execution_count": 32,
   "metadata": {
    "collapsed": false
   },
   "outputs": [],
   "source": [
    "x_dist = pixel_coords[0, 0, -1] - pixel_coords[0,0,0]\n",
    "y_dist = pixel_coords[1,0,-1] - pixel_coords[1,0,0]"
   ]
  },
  {
   "cell_type": "code",
   "execution_count": 33,
   "metadata": {
    "collapsed": false
   },
   "outputs": [
    {
     "data": {
      "text/plain": [
       "(13.53267996141085, 40.500842676173761)"
      ]
     },
     "execution_count": 33,
     "metadata": {},
     "output_type": "execute_result"
    }
   ],
   "source": [
    "x_dist, y_dist"
   ]
  },
  {
   "cell_type": "code",
   "execution_count": 35,
   "metadata": {
    "collapsed": false
   },
   "outputs": [
    {
     "data": {
      "text/plain": [
       "71.523810163542649"
      ]
     },
     "execution_count": 35,
     "metadata": {},
     "output_type": "execute_result"
    }
   ],
   "source": [
    "np.degrees(np.arctan(y_dist/x_dist))"
   ]
  },
  {
   "cell_type": "code",
   "execution_count": null,
   "metadata": {
    "collapsed": true
   },
   "outputs": [],
   "source": []
  }
 ],
 "metadata": {
  "kernelspec": {
   "display_name": "Python 2",
   "language": "python",
   "name": "python2"
  },
  "language_info": {
   "codemirror_mode": {
    "name": "ipython",
    "version": 2
   },
   "file_extension": ".py",
   "mimetype": "text/x-python",
   "name": "python",
   "nbconvert_exporter": "python",
   "pygments_lexer": "ipython2",
   "version": "2.7.13"
  }
 },
 "nbformat": 4,
 "nbformat_minor": 2
}
