{
 "cells": [
  {
   "cell_type": "code",
   "execution_count": 11,
   "metadata": {
    "collapsed": true
   },
   "outputs": [],
   "source": [
    "from kbmodpy import kbmod as kb\n",
    "import numpy as np\n",
    "import matplotlib.pyplot as plt\n",
    "import os\n",
    "%matplotlib inline"
   ]
  },
  {
   "cell_type": "code",
   "execution_count": 12,
   "metadata": {
    "collapsed": false
   },
   "outputs": [],
   "source": [
    "def run_search(file_list, psf, flags, flag_except, master_flags,\n",
    "               min_lh, min_obs, vel_x, vel_y, radius):\n",
    "    \n",
    "    stack = kb.image_stack([kb.layered_image(f) for f in file_list])\n",
    "    stack.apply_mask_flags(flags, flag_except)\n",
    "    stack.apply_master_mask(master_flags, 15)\n",
    "    search = kb.stack_search(stack, psf)\n",
    "    del(stack)\n",
    "    search.set_debug(True)\n",
    "    return search.region_search(vel_x, vel_y, radius, min_lh, min_obs)"
   ]
  },
  {
   "cell_type": "code",
   "execution_count": 13,
   "metadata": {
    "collapsed": true
   },
   "outputs": [],
   "source": [
    "def plot(img, lx, ux, ly, uy):\n",
    "    fig = plt.figure(figsize=(12,12))\n",
    "    plt.imshow(img[lx:ux,ly:uy], origin='lower',  vmin=-50, vmax=200)#cmap=plt.cm.Greys_r,\n",
    "    plt.xlabel('X Pixels')\n",
    "    plt.ylabel('Y Pixels')\n",
    "    plt.colorbar()"
   ]
  },
  {
   "cell_type": "code",
   "execution_count": 14,
   "metadata": {
    "collapsed": false
   },
   "outputs": [],
   "source": [
    "path = '../../fraser/'"
   ]
  },
  {
   "cell_type": "code",
   "execution_count": 15,
   "metadata": {
    "collapsed": true
   },
   "outputs": [],
   "source": [
    "max_imgs = 35"
   ]
  },
  {
   "cell_type": "code",
   "execution_count": 16,
   "metadata": {
    "collapsed": false
   },
   "outputs": [],
   "source": [
    "files = os.listdir(path)\n",
    "files = [f for f in files if 'chip' in f]\n",
    "files.sort()\n",
    "chip_list = []\n",
    "for chip in files:\n",
    "    current = []\n",
    "    current = [path+chip+'/'+img for img\n",
    "               in os.listdir(path+chip)][:max_imgs]\n",
    "    current.sort()\n",
    "    chip_list.append(current)"
   ]
  },
  {
   "cell_type": "code",
   "execution_count": 17,
   "metadata": {
    "collapsed": false
   },
   "outputs": [],
   "source": [
    "m_flags = ~0 # mask pixels with any flags\n",
    "flag_exceptions = [32] # unless it has one of these special combinations of flags\n",
    "mastr_flags = int('100111', 2)"
   ]
  },
  {
   "cell_type": "code",
   "execution_count": 18,
   "metadata": {
    "collapsed": false
   },
   "outputs": [],
   "source": [
    "x_v, y_v = 230, 90\n",
    "rad = 50\n",
    "minlh = 60.0\n",
    "minobs = 22"
   ]
  },
  {
   "cell_type": "code",
   "execution_count": 19,
   "metadata": {
    "collapsed": false,
    "scrolled": true
   },
   "outputs": [],
   "source": [
    "res = run_search(chip_list[5], kb.psf(1.2),\n",
    "    m_flags, flag_exceptions, mastr_flags, minlh, minobs,\n",
    "    x_v, y_v, rad)"
   ]
  },
  {
   "cell_type": "code",
   "execution_count": 20,
   "metadata": {
    "collapsed": false,
    "scrolled": true
   },
   "outputs": [
    {
     "data": {
      "text/plain": [
       "[ix: 123.000000 iy: 167.000000 fx: 122.000000 fy: 199.000000 depth: 0 obs_count: 23 lh: 88.671425 flux 3590.856934,\n",
       " ix: 135.000000 iy: 1980.000000 fx: 141.000000 fy: 1954.000000 depth: 0 obs_count: 22 lh: 68.053940 flux 2869.772461,\n",
       " ix: 109.000000 iy: 1951.000000 fx: 107.000000 fy: 1954.000000 depth: 0 obs_count: 35 lh: 65.078461 flux 2133.612549,\n",
       " ix: 76.000000 iy: 1918.000000 fx: 121.000000 fy: 1958.000000 depth: 0 obs_count: 22 lh: 65.248146 flux 2684.584473,\n",
       " ix: 67.000000 iy: 1903.000000 fx: 134.000000 fy: 1959.000000 depth: 0 obs_count: 22 lh: 65.116035 flux 2744.058105,\n",
       " ix: 182.000000 iy: 1952.000000 fx: 178.000000 fy: 1957.000000 depth: 0 obs_count: 35 lh: 63.749146 flux 2086.584961]"
      ]
     },
     "execution_count": 20,
     "metadata": {},
     "output_type": "execute_result"
    }
   ],
   "source": [
    "res"
   ]
  },
  {
   "cell_type": "code",
   "execution_count": null,
   "metadata": {
    "collapsed": true
   },
   "outputs": [],
   "source": []
  },
  {
   "cell_type": "code",
   "execution_count": null,
   "metadata": {
    "collapsed": true
   },
   "outputs": [],
   "source": []
  }
 ],
 "metadata": {
  "kernelspec": {
   "display_name": "Python 3",
   "language": "python",
   "name": "python3"
  },
  "language_info": {
   "codemirror_mode": {
    "name": "ipython",
    "version": 3
   },
   "file_extension": ".py",
   "mimetype": "text/x-python",
   "name": "python",
   "nbconvert_exporter": "python",
   "pygments_lexer": "ipython3",
   "version": "3.5.2"
  }
 },
 "nbformat": 4,
 "nbformat_minor": 2
}
