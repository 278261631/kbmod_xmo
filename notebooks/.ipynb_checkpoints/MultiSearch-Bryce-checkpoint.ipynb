{
 "cells": [
  {
   "cell_type": "code",
   "execution_count": 1,
   "metadata": {
    "collapsed": true
   },
   "outputs": [],
   "source": [
    "import subprocess"
   ]
  },
  {
   "cell_type": "code",
   "execution_count": 14,
   "metadata": {
    "collapsed": true
   },
   "outputs": [],
   "source": [
    "results_name = \"HITS1\"\n",
    "gpu_code_path = \"../code/gpu/\"\n",
    "real_image_path = \"../../HITS/trimmed_chip_03/Blind15A_01\" #gpu_code_path+\"images/\"+real_image_name #\n",
    "psi_image_path = gpu_code_path+\"output-images/psi\"\n",
    "phi_image_path = gpu_code_path+\"output-images/phi\""
   ]
  },
  {
   "cell_type": "code",
   "execution_count": 15,
   "metadata": {
    "collapsed": false
   },
   "outputs": [],
   "source": [
    "paramsFile = open('../code/gpu/debug/parameters.config', 'w')\n",
    "paramsFile.write(\n",
    "\"\"\"Debug ................ : 1\n",
    "PSF Sigma ............ : 1.0\n",
    "Mask Threshold ....... : 0.75\n",
    "Mask Penalty ......... : -0.05\n",
    "Angles to Search ..... : 120\n",
    "Minimum Angle ........ : 0.0\n",
    "Maximum Angle ........ : 6.283\n",
    "Velocities to Search . : 45\n",
    "Minimum Velocity ..... : 0.4\n",
    "Maximum Velocity ..... : 6.0\n",
    "Psi/Phi to file ...... : 1\n",
    "Source Images Path ... : ../../{source}/\n",
    "Psi Images Path ...... : ../../{psi}/\n",
    "Phi Images Path....... : ../../{phi}/\n",
    "Results Path ......... : ../../../data/results/{name}.txt\n",
    "\"\"\".format( source=real_image_path, psi=psi_image_path, phi=phi_image_path, name=results_name ))\n",
    "paramsFile.close()"
   ]
  },
  {
   "cell_type": "code",
   "execution_count": 16,
   "metadata": {
    "collapsed": false
   },
   "outputs": [],
   "source": [
    "!cd ~/cuda-workspace/kbmod/code/gpu/debug/; ./clearImages.sh"
   ]
  },
  {
   "cell_type": "code",
   "execution_count": null,
   "metadata": {
    "collapsed": false,
    "scrolled": false
   },
   "outputs": [
    {
     "name": "stdout",
     "output_type": "stream",
     "text": [
      "PSF Sigma ............  : 1.0\r\n",
      "Mask Threshold .......  : 0.75\r\n",
      "Mask Penalty .........  : -0.05\r\n",
      "Angles to Search .....  : 120\r\n",
      "Minimum Angle ........  : 0.0\r\n",
      "Maximum Angle ........  : 6.283\r\n",
      "Velocities to Search .  : 45\r\n",
      "Minimum Velocity .....  : 0.4\r\n",
      "Maximum Velocity .....  : 6.0\r\n",
      "Psi/Phi to file ......  : 1\r\n",
      "Source Images Path ...  : ../../../../HITS/trimmed_chip_03/Blind15A_01//\r\n",
      "Psi Images Path ......  : ../../../code/gpu/output-images/psi/\r\n",
      "Phi Images Path.......  : ../../../code/gpu/output-images/phi/\r\n",
      "Results Path .........  : ../../../data/results/HITS1.txt\r\n",
      "Using Kernel Size 5X5\r\n",
      "| 0.004 | 0.015 | 0.023 | 0.015 | 0.004 | \r\n",
      " ---------------------------------------\r\n",
      "| 0.015 | 0.058 | 0.093 | 0.058 | 0.015 | \r\n",
      " ---------------------------------------\r\n",
      "| 0.023 | 0.093 | 0.147 | 0.093 | 0.023 | \r\n",
      " ---------------------------------------\r\n",
      "| 0.015 | 0.058 | 0.093 | 0.058 | 0.015 | \r\n",
      " ---------------------------------------\r\n",
      "| 0.004 | 0.015 | 0.023 | 0.015 | 0.004 | \r\n",
      " ---------------------------------------\r\n",
      "97.532% of PSF contained within kernel\r\n",
      "Reading 35 images from ../../../../HITS/trimmed_chip_03/Blind15A_01//\r\n"
     ]
    }
   ],
   "source": [
    "!cd ~/cuda-workspace/kbmod/code/gpu/debug/; ./CudaTracker"
   ]
  },
  {
   "cell_type": "code",
   "execution_count": 13,
   "metadata": {
    "collapsed": false
   },
   "outputs": [],
   "source": [
    "#subprocess.check_output(['ls','-a']) #all that is technically needed...\n",
    "#print subprocess.check_output(['~/cuda-workspace/kbmod/code/gpu/debug/clearImages.sh;'])"
   ]
  }
 ],
 "metadata": {
  "kernelspec": {
   "display_name": "Python 2",
   "language": "python",
   "name": "python2"
  },
  "language_info": {
   "codemirror_mode": {
    "name": "ipython",
    "version": 2
   },
   "file_extension": ".py",
   "mimetype": "text/x-python",
   "name": "python",
   "nbconvert_exporter": "python",
   "pygments_lexer": "ipython2",
   "version": "2.7.13"
  }
 },
 "nbformat": 4,
 "nbformat_minor": 2
}
