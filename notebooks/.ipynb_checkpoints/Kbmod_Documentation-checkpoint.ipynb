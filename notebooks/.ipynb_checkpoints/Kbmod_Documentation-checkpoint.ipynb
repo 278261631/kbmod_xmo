{
 "cells": [
  {
   "cell_type": "markdown",
   "metadata": {},
   "source": [
    "# KBMOD Documentation\n",
    "This notebook demonstrates the basics of the kbmod image processing and searching python API"
   ]
  },
  {
   "cell_type": "markdown",
   "metadata": {},
   "source": [
    "Before importing, make sure to run  \n",
    "`source setup.bash`  \n",
    "in the root directory, and that you are using the python3 kernel.  \n",
    "Import everything with:"
   ]
  },
  {
   "cell_type": "code",
   "execution_count": 28,
   "metadata": {
    "collapsed": false
   },
   "outputs": [],
   "source": [
    "from kbmod import *\n",
    "path = \"../data/demo/\""
   ]
  },
  {
   "cell_type": "markdown",
   "metadata": {
    "collapsed": true
   },
   "source": [
    "# Object Types\n",
    "There are currently 5 classes exposed to the python interface    \n",
    "psf   \n",
    "layered_image  \n",
    "image_stack  \n",
    "stack_search  \n",
    "trajectory"
   ]
  },
  {
   "cell_type": "markdown",
   "metadata": {},
   "source": [
    "# psf\n",
    "A psf kernel, for convolution and adding artificial sources to images  \n",
    "Initializes to a gaussian given the width in pixels"
   ]
  },
  {
   "cell_type": "code",
   "execution_count": 2,
   "metadata": {
    "collapsed": false
   },
   "outputs": [],
   "source": [
    "p = psf(1.0)"
   ]
  },
  {
   "cell_type": "markdown",
   "metadata": {},
   "source": [
    "There are several methods that get information about its properties"
   ]
  },
  {
   "cell_type": "code",
   "execution_count": 3,
   "metadata": {
    "collapsed": false
   },
   "outputs": [
    {
     "data": {
      "text/plain": [
       "0.975315511226654"
      ]
     },
     "execution_count": 3,
     "metadata": {},
     "output_type": "execute_result"
    }
   ],
   "source": [
    "p.get_dim() # dimension of kernel width and height\n",
    "p.get_radius() # distance from center of kernel to edge\n",
    "p.get_size() # total number of pixels in the kernel\n",
    "p.get_sum() # total sum of all pixels in the kernel, should be close to 1.0"
   ]
  },
  {
   "cell_type": "markdown",
   "metadata": {},
   "source": [
    "The entire kernel can be printed out (note: prints to the console, not the notebook)"
   ]
  },
  {
   "cell_type": "code",
   "execution_count": 42,
   "metadata": {
    "collapsed": true
   },
   "outputs": [],
   "source": [
    "p.print_psf()"
   ]
  },
  {
   "cell_type": "markdown",
   "metadata": {},
   "source": [
    "# layered_image\n",
    "Stores the science, mask, and variance image for a single image. The \"layered\" means it contains all of them together.  \n",
    "It can be initialized 2 ways:  \n",
    "A. Generate a new image from scratch"
   ]
  },
  {
   "cell_type": "code",
   "execution_count": 5,
   "metadata": {
    "collapsed": true
   },
   "outputs": [],
   "source": [
    "im = layered_image(\"image1\", 100, 100, 20.0, 50.0, 0.0)\n",
    "# name, width, height, background_noise_sigma, variance, capture_time"
   ]
  },
  {
   "cell_type": "markdown",
   "metadata": {},
   "source": [
    "B. Load a file"
   ]
  },
  {
   "cell_type": "code",
   "execution_count": 29,
   "metadata": {
    "collapsed": false
   },
   "outputs": [],
   "source": [
    "im = layered_image(path+\"CORR40535777.fits\")"
   ]
  },
  {
   "cell_type": "markdown",
   "metadata": {},
   "source": [
    "Artificial objects can easily be added into a layered_image"
   ]
  },
  {
   "cell_type": "code",
   "execution_count": 7,
   "metadata": {
    "collapsed": true
   },
   "outputs": [],
   "source": [
    "im.add_object(20.0, 35.0, 250.0, p)\n",
    "# x, y, flux, psf"
   ]
  },
  {
   "cell_type": "markdown",
   "metadata": {},
   "source": [
    "The image can mask itself by providing a bitmask of flags (note: masked pixels are set to -9999.9 so they can be distinguished later from 0.0 pixles)"
   ]
  },
  {
   "cell_type": "code",
   "execution_count": 37,
   "metadata": {
    "collapsed": true
   },
   "outputs": [],
   "source": [
    "flags = int('11001', 2)\n",
    "# this selects pixels with the first, fourth, and fifth flags (bits read right to left)\n",
    "im.apply_mask_flags( flags ) "
   ]
  },
  {
   "cell_type": "markdown",
   "metadata": {},
   "source": [
    "The image can be convolved with a psf kernel"
   ]
  },
  {
   "cell_type": "code",
   "execution_count": 40,
   "metadata": {
    "collapsed": true
   },
   "outputs": [],
   "source": [
    "im.convolve(p)\n",
    "# note: This function is called interally by stack_search and doesn't need to be\n",
    "# used directy. It is only exposed because it happens to be a fast \n",
    "# implementation of a generally useful function"
   ]
  },
  {
   "cell_type": "markdown",
   "metadata": {},
   "source": [
    "The image at any point can be saved to a file"
   ]
  },
  {
   "cell_type": "code",
   "execution_count": 26,
   "metadata": {
    "collapsed": false
   },
   "outputs": [],
   "source": [
    "im.save_layers(path+\"/out/\") # file will use original name"
   ]
  },
  {
   "cell_type": "markdown",
   "metadata": {},
   "source": [
    "Get properties"
   ]
  },
  {
   "cell_type": "code",
   "execution_count": 11,
   "metadata": {
    "collapsed": false
   },
   "outputs": [
    {
     "data": {
      "text/plain": [
       "8388608"
      ]
     },
     "execution_count": 11,
     "metadata": {},
     "output_type": "execute_result"
    }
   ],
   "source": [
    "im.get_width()\n",
    "im.get_height()\n",
    "im.get_time()\n",
    "im.get_ppi() # pixels per image, width*height"
   ]
  },
  {
   "cell_type": "markdown",
   "metadata": {},
   "source": [
    "# image_stack\n",
    "A collection of layered_images. Used to apply operations to a group of images.  "
   ]
  },
  {
   "cell_type": "code",
   "execution_count": 17,
   "metadata": {
    "collapsed": false
   },
   "outputs": [],
   "source": [
    "count = 10\n",
    "imlist = [ layered_image(\"img\"+str(n), 50, 50, 10.0, 5.0, n/count) for n in range(count) ]\n",
    "stack = image_stack( imlist )\n",
    "# this creates a stack with 10 50x50 images, and times ranging from 0 to 1"
   ]
  },
  {
   "cell_type": "markdown",
   "metadata": {},
   "source": [
    "A shortcut is provided to initialize a stack automatically from a list of files"
   ]
  },
  {
   "cell_type": "code",
   "execution_count": 33,
   "metadata": {
    "collapsed": false
   },
   "outputs": [
    {
     "data": {
      "text/plain": [
       "['../data/demo/CORR40535777.fits',\n",
       " '../data/demo/CORR40535787.fits',\n",
       " '../data/demo/CORR40535797.fits',\n",
       " '../data/demo/CORR40535807.fits',\n",
       " '../data/demo/CORR40535817.fits']"
      ]
     },
     "execution_count": 33,
     "metadata": {},
     "output_type": "execute_result"
    }
   ],
   "source": [
    "import os\n",
    "files = os.listdir(path)\n",
    "files = [path+f for f in files if '.fits' in f]\n",
    "files.sort()\n",
    "files"
   ]
  },
  {
   "cell_type": "code",
   "execution_count": 34,
   "metadata": {
    "collapsed": true
   },
   "outputs": [],
   "source": [
    "stack = image_stack(files)"
   ]
  },
  {
   "cell_type": "markdown",
   "metadata": {},
   "source": [
    "A master mask can be generated and applied to the stack"
   ]
  },
  {
   "cell_type": "code",
   "execution_count": 18,
   "metadata": {
    "collapsed": true
   },
   "outputs": [],
   "source": [
    "stack.apply_master_mask( flags, 5) # flags, threshold"
   ]
  },
  {
   "cell_type": "markdown",
   "metadata": {},
   "source": [
    "Most features of the layered_image can be used on the whole stack"
   ]
  },
  {
   "cell_type": "code",
   "execution_count": 38,
   "metadata": {
    "collapsed": false
   },
   "outputs": [
    {
     "data": {
      "text/plain": [
       "[0.0,\n",
       " 0.0030539999715983868,\n",
       " 0.006087000016123056,\n",
       " 0.00913199968636036,\n",
       " 0.012175999581813812]"
      ]
     },
     "execution_count": 38,
     "metadata": {},
     "output_type": "execute_result"
    }
   ],
   "source": [
    "stack.apply_mask_flags(flags)\n",
    "stack.convolve(p)\n",
    "stack.get_width()\n",
    "stack.get_height()\n",
    "stack.get_ppi()\n",
    "stack.get_images() # retrieves list of layered_images back from the stack\n",
    "stack.get_times()"
   ]
  },
  {
   "cell_type": "markdown",
   "metadata": {},
   "source": [
    "# stack_search\n",
    "Searches a stack of images for a given psf"
   ]
  },
  {
   "cell_type": "code",
   "execution_count": 41,
   "metadata": {
    "collapsed": true
   },
   "outputs": [],
   "source": [
    "search = stack_search( stack, p )"
   ]
  },
  {
   "cell_type": "markdown",
   "metadata": {},
   "source": [
    "To save psi and images, a directory with \"psi\" and \"phi\" folders must be specified.  \n",
    "To search without saving images, simply skip this step"
   ]
  },
  {
   "cell_type": "code",
   "execution_count": 45,
   "metadata": {
    "collapsed": true
   },
   "outputs": [],
   "source": [
    "search.image_save_location(\"../search/output/\")\n",
    "search.image_save_location(\"\") # <- this will cancel saving"
   ]
  },
  {
   "cell_type": "markdown",
   "metadata": {},
   "source": [
    "Launch a search"
   ]
  },
  {
   "cell_type": "code",
   "execution_count": 47,
   "metadata": {
    "collapsed": true
   },
   "outputs": [],
   "source": [
    "search.gpu(10, 10, 0.0, 1.0, 20.0, 50.0)\n",
    "# angle_steps, velocity_steps, min_angle, max_angle, min_velocity, max_velocity"
   ]
  },
  {
   "cell_type": "markdown",
   "metadata": {},
   "source": [
    "Save the results to a files  \n",
    "note: format is {x, y, xv, yv, likelihood, flux}"
   ]
  },
  {
   "cell_type": "code",
   "execution_count": 50,
   "metadata": {
    "collapsed": true
   },
   "outputs": [],
   "source": [
    "search.save_results(path+\"results.txt\", 0.05) \n",
    "# path, fraction of total results to save in file"
   ]
  },
  {
   "cell_type": "markdown",
   "metadata": {},
   "source": [
    "Trajectories can be retrieved directly from search without writing and reading to file.  \n",
    "However, this is not recommended for a large number of trajectories, as it is not returned as a numpy array, but as a list of the trajectory objects described below"
   ]
  },
  {
   "cell_type": "code",
   "execution_count": 51,
   "metadata": {
    "collapsed": true
   },
   "outputs": [],
   "source": [
    "top_results = search.get_results(0, 100)\n",
    "# start, count"
   ]
  },
  {
   "cell_type": "markdown",
   "metadata": {},
   "source": [
    "# trajectory\n",
    "A simple container with properties representing an object and its path"
   ]
  },
  {
   "cell_type": "code",
   "execution_count": 52,
   "metadata": {
    "collapsed": true
   },
   "outputs": [],
   "source": [
    "best = top_results[0]"
   ]
  },
  {
   "cell_type": "code",
   "execution_count": 57,
   "metadata": {
    "collapsed": false
   },
   "outputs": [
    {
     "data": {
      "text/plain": [
       "2.8951690196990967"
      ]
     },
     "execution_count": 57,
     "metadata": {},
     "output_type": "execute_result"
    }
   ],
   "source": [
    "# these numbers are wild because mask flags and search parameters above were chosen randomly\n",
    "best.flux \n",
    "best.lh\n",
    "best.x\n",
    "best.y\n",
    "best.x_v\n",
    "best.y_v"
   ]
  },
  {
   "cell_type": "markdown",
   "metadata": {},
   "source": [
    "tests/test_search.py shows a simple example of how to generate a set of images, add an artificial source, and recover it with search"
   ]
  },
  {
   "cell_type": "code",
   "execution_count": null,
   "metadata": {
    "collapsed": true
   },
   "outputs": [],
   "source": []
  }
 ],
 "metadata": {
  "kernelspec": {
   "display_name": "Python 3",
   "language": "python",
   "name": "python3"
  },
  "language_info": {
   "codemirror_mode": {
    "name": "ipython",
    "version": 3
   },
   "file_extension": ".py",
   "mimetype": "text/x-python",
   "name": "python",
   "nbconvert_exporter": "python",
   "pygments_lexer": "ipython3",
   "version": "3.5.2"
  }
 },
 "nbformat": 4,
 "nbformat_minor": 2
}
