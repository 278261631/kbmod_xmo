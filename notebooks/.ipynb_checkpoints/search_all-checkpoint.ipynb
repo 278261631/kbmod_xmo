{
 "cells": [
  {
   "cell_type": "code",
   "execution_count": 45,
   "metadata": {
    "collapsed": false
   },
   "outputs": [],
   "source": [
    "import keras\n",
    "import numpy as np\n",
    "import matplotlib.pyplot as plt\n",
    "import pandas as pd\n",
    "import os\n",
    "from astropy.io import fits\n",
    "from sklearn.cluster import DBSCAN\n",
    "from analyzeImage import analyzeImage as ai\n",
    "from keras.models import load_model"
   ]
  },
  {
   "cell_type": "code",
   "execution_count": 46,
   "metadata": {
    "collapsed": true
   },
   "outputs": [],
   "source": [
    "def write_param_file():\n",
    "    paramsFile = open('../code/gpu/debug/parameters.config', 'w')\n",
    "    paramsFile.write(\n",
    "    \"\"\"Debug ................ : 1\n",
    "    PSF Sigma ............ : 1.0\n",
    "    Mask Threshold ....... : 0.75\n",
    "    Mask Penalty ......... : -0.05\n",
    "    Angles to Search ..... : 120\n",
    "    Minimum Angle ........ : 0.0\n",
    "    Maximum Angle ........ : 6.283\n",
    "    Velocities to Search . : 90\n",
    "    Minimum Velocity ..... : 24.\n",
    "    Maximum Velocity ..... : 600.\n",
    "    Psi/Phi to file ...... : 1\n",
    "    Source Images Path ... : ../../{source}/\n",
    "    Psi Images Path ...... : ../../{psi}/\n",
    "    Phi Images Path....... : ../../{phi}/\n",
    "    Results Path ......... : ../../../data/results/{name}.txt\n",
    "    \"\"\".format( source=real_image_path, psi=psi_image_path, phi=phi_image_path, name=results_name ))\n",
    "    paramsFile.close()"
   ]
  },
  {
   "cell_type": "code",
   "execution_count": 47,
   "metadata": {
    "collapsed": true
   },
   "outputs": [],
   "source": [
    "def trim_on_lc(clustered_results, im_array, image_times):\n",
    "    \n",
    "    f_results = clustered_results        \n",
    "    keep_results = []\n",
    "    light_curves = []\n",
    "    ai_2 = analyzeImage()\n",
    "    \n",
    "    for current in range(len(f_results)):\n",
    "        traj_coords = ai_2.calc_traj_coords(f_results[current], image_times)\n",
    "        light_curve = [im_array[x, traj_coords[x,1], traj_coords[x,0]] for x in range(len(im_array))]\n",
    "        if np.max(light_curve) < 10*np.median(light_curve):\n",
    "            keep_results.append(current)\n",
    "            light_curves.append(light_curve)\n",
    "        \n",
    "    return f_results[keep_results], light_curves"
   ]
  },
  {
   "cell_type": "code",
   "execution_count": 48,
   "metadata": {
    "collapsed": false
   },
   "outputs": [],
   "source": [
    "def create_stamps(im_array, kept_results, image_times):\n",
    "    \n",
    "    f_results = kept_results#filtered_results\n",
    "    postage_stamps = []\n",
    "    ai_2 = analyzeImage()\n",
    "    for imNum in range((len(f_results))):\n",
    "        current = imNum#best_targets[imNum]\n",
    "        ps = ai_2.createPostageStamp(im_array,\n",
    "                                  list(f_results[['t0_x', 't0_y']][current]),\n",
    "                                  np.array(list(f_results[['v_x', 'v_y']][current])), \n",
    "                                  image_times, [25., 25.])\n",
    "        postage_stamps.append(ps[0])\n",
    "                       \n",
    "    return postage_stamps"
   ]
  },
  {
   "cell_type": "code",
   "execution_count": 49,
   "metadata": {
    "collapsed": true
   },
   "outputs": [],
   "source": [
    "def process_results():\n",
    "    #Load results\n",
    "    raw_results = np.genfromtxt('../data/results/HITS1.txt', names=True)\n",
    "    \n",
    "    #Load times\n",
    "    image_mjd = []\n",
    "\n",
    "    for filename in sorted(os.listdir(real_image_path)):\n",
    "        hdulist = fits.open(os.path.join(real_image_path, filename))\n",
    "        image_mjd.append(hdulist[0].header['MJD'])\n",
    "\n",
    "    image_mjd = np.array(image_mjd)\n",
    "    image_times = image_mjd - image_mjd[0]\n",
    "    \n",
    "    #Load images\n",
    "    hdulist = fits.open(os.path.join(real_image_path, os.listdir(real_image_path)[0]))\n",
    "    num_images = len(os.listdir(real_image_path))\n",
    "    image_shape = np.shape(hdulist[1].data)\n",
    "    im_array = np.zeros((num_images, image_shape[0], image_shape[1]))\n",
    "\n",
    "\n",
    "    for idx, filename in list(enumerate(sorted(os.listdir(real_image_path)))):\n",
    "\n",
    "       # print( str('Loaded ' + filename))\n",
    "\n",
    "        image_file = os.path.join(real_image_path, filename)\n",
    "        hdulist = fits.open(image_file)\n",
    "        im_array[idx] = hdulist[1].data#*mask\n",
    "    \n",
    "    ai = analyzeImage()\n",
    "    \n",
    "    model = load_model('../data/kbmod_model.h5')\n",
    "    \n",
    "    results = raw_results[np.where(raw_results['likelihood'] >= 5.0)]\n",
    "    \n",
    "    filtered_results = ai.filter_results(im_array, results, image_times, model, chunk_size=5000)\n",
    "    \n",
    "    results_to_cluster = filtered_results\n",
    "    arg = dict(eps=0.03, min_samples=1, n_jobs=-1)\n",
    "    clustered_results = ai.clusterResults(results_to_cluster, dbscan_args=arg)#, im_array, image_times)\n",
    "    clustered_results =  results_to_cluster[np.array(clustered_results[1], dtype=np.int)]\n",
    "    \n",
    "    kept_results, light_curves = trim_on_lc(clustered_results, im_array, image_times)\n",
    "    stamps = create_stamps(im_array, kept_results, image_times)\n",
    "    return kept_results, light_curves, stamps, image_times"
   ]
  },
  {
   "cell_type": "code",
   "execution_count": 51,
   "metadata": {
    "collapsed": false
   },
   "outputs": [
    {
     "ename": "OSError",
     "evalue": "[Errno 12] Cannot allocate memory",
     "output_type": "error",
     "traceback": [
      "\u001b[0;31m---------------------------------------------------------------------------\u001b[0m",
      "\u001b[0;31mOSError\u001b[0m                                   Traceback (most recent call last)",
      "\u001b[0;32m<ipython-input-51-9cffa3e8e10e>\u001b[0m in \u001b[0;36m<module>\u001b[0;34m()\u001b[0m\n\u001b[1;32m     21\u001b[0m         \u001b[0mwrite_param_file\u001b[0m\u001b[0;34m(\u001b[0m\u001b[0;34m)\u001b[0m\u001b[0;34m\u001b[0m\u001b[0m\n\u001b[1;32m     22\u001b[0m \u001b[0;34m\u001b[0m\u001b[0m\n\u001b[0;32m---> 23\u001b[0;31m         \u001b[0mget_ipython\u001b[0m\u001b[0;34m(\u001b[0m\u001b[0;34m)\u001b[0m\u001b[0;34m.\u001b[0m\u001b[0msystem\u001b[0m\u001b[0;34m(\u001b[0m\u001b[0;34mu'cd ~/cuda-workspace/kbmod/code/gpu/debug/; ./clearImages.sh'\u001b[0m\u001b[0;34m)\u001b[0m\u001b[0;34m\u001b[0m\u001b[0m\n\u001b[0m\u001b[1;32m     24\u001b[0m         \u001b[0mget_ipython\u001b[0m\u001b[0;34m(\u001b[0m\u001b[0;34m)\u001b[0m\u001b[0;34m.\u001b[0m\u001b[0msystem\u001b[0m\u001b[0;34m(\u001b[0m\u001b[0;34mu'cd ~/cuda-workspace/kbmod/code/gpu/debug/; ./CudaTracker'\u001b[0m\u001b[0;34m)\u001b[0m\u001b[0;34m\u001b[0m\u001b[0m\n\u001b[1;32m     25\u001b[0m \u001b[0;34m\u001b[0m\u001b[0m\n",
      "\u001b[0;32m/home/kbmod-usr/anaconda2/lib/python2.7/site-packages/IPython/core/interactiveshell.pyc\u001b[0m in \u001b[0;36msystem_piped\u001b[0;34m(self, cmd)\u001b[0m\n\u001b[1;32m   2207\u001b[0m         \u001b[0;31m# a non-None value would trigger :func:`sys.displayhook` calls.\u001b[0m\u001b[0;34m\u001b[0m\u001b[0;34m\u001b[0m\u001b[0m\n\u001b[1;32m   2208\u001b[0m         \u001b[0;31m# Instead, we store the exit_code in user_ns.\u001b[0m\u001b[0;34m\u001b[0m\u001b[0;34m\u001b[0m\u001b[0m\n\u001b[0;32m-> 2209\u001b[0;31m         \u001b[0mself\u001b[0m\u001b[0;34m.\u001b[0m\u001b[0muser_ns\u001b[0m\u001b[0;34m[\u001b[0m\u001b[0;34m'_exit_code'\u001b[0m\u001b[0;34m]\u001b[0m \u001b[0;34m=\u001b[0m \u001b[0msystem\u001b[0m\u001b[0;34m(\u001b[0m\u001b[0mself\u001b[0m\u001b[0;34m.\u001b[0m\u001b[0mvar_expand\u001b[0m\u001b[0;34m(\u001b[0m\u001b[0mcmd\u001b[0m\u001b[0;34m,\u001b[0m \u001b[0mdepth\u001b[0m\u001b[0;34m=\u001b[0m\u001b[0;36m1\u001b[0m\u001b[0;34m)\u001b[0m\u001b[0;34m)\u001b[0m\u001b[0;34m\u001b[0m\u001b[0m\n\u001b[0m\u001b[1;32m   2210\u001b[0m \u001b[0;34m\u001b[0m\u001b[0m\n\u001b[1;32m   2211\u001b[0m     \u001b[0;32mdef\u001b[0m \u001b[0msystem_raw\u001b[0m\u001b[0;34m(\u001b[0m\u001b[0mself\u001b[0m\u001b[0;34m,\u001b[0m \u001b[0mcmd\u001b[0m\u001b[0;34m)\u001b[0m\u001b[0;34m:\u001b[0m\u001b[0;34m\u001b[0m\u001b[0m\n",
      "\u001b[0;32m/home/kbmod-usr/anaconda2/lib/python2.7/site-packages/IPython/utils/_process_posix.pyc\u001b[0m in \u001b[0;36msystem\u001b[0;34m(self, cmd)\u001b[0m\n\u001b[1;32m    155\u001b[0m                 \u001b[0mchild\u001b[0m \u001b[0;34m=\u001b[0m \u001b[0mpexpect\u001b[0m\u001b[0;34m.\u001b[0m\u001b[0mspawnb\u001b[0m\u001b[0;34m(\u001b[0m\u001b[0mself\u001b[0m\u001b[0;34m.\u001b[0m\u001b[0msh\u001b[0m\u001b[0;34m,\u001b[0m \u001b[0margs\u001b[0m\u001b[0;34m=\u001b[0m\u001b[0;34m[\u001b[0m\u001b[0;34m'-c'\u001b[0m\u001b[0;34m,\u001b[0m \u001b[0mcmd\u001b[0m\u001b[0;34m]\u001b[0m\u001b[0;34m)\u001b[0m \u001b[0;31m# Pexpect-U\u001b[0m\u001b[0;34m\u001b[0m\u001b[0m\n\u001b[1;32m    156\u001b[0m             \u001b[0;32melse\u001b[0m\u001b[0;34m:\u001b[0m\u001b[0;34m\u001b[0m\u001b[0m\n\u001b[0;32m--> 157\u001b[0;31m                 \u001b[0mchild\u001b[0m \u001b[0;34m=\u001b[0m \u001b[0mpexpect\u001b[0m\u001b[0;34m.\u001b[0m\u001b[0mspawn\u001b[0m\u001b[0;34m(\u001b[0m\u001b[0mself\u001b[0m\u001b[0;34m.\u001b[0m\u001b[0msh\u001b[0m\u001b[0;34m,\u001b[0m \u001b[0margs\u001b[0m\u001b[0;34m=\u001b[0m\u001b[0;34m[\u001b[0m\u001b[0;34m'-c'\u001b[0m\u001b[0;34m,\u001b[0m \u001b[0mcmd\u001b[0m\u001b[0;34m]\u001b[0m\u001b[0;34m)\u001b[0m  \u001b[0;31m# Vanilla Pexpect\u001b[0m\u001b[0;34m\u001b[0m\u001b[0m\n\u001b[0m\u001b[1;32m    158\u001b[0m             \u001b[0mflush\u001b[0m \u001b[0;34m=\u001b[0m \u001b[0msys\u001b[0m\u001b[0;34m.\u001b[0m\u001b[0mstdout\u001b[0m\u001b[0;34m.\u001b[0m\u001b[0mflush\u001b[0m\u001b[0;34m\u001b[0m\u001b[0m\n\u001b[1;32m    159\u001b[0m             \u001b[0;32mwhile\u001b[0m \u001b[0mTrue\u001b[0m\u001b[0;34m:\u001b[0m\u001b[0;34m\u001b[0m\u001b[0m\n",
      "\u001b[0;32m/home/kbmod-usr/anaconda2/lib/python2.7/site-packages/pexpect/pty_spawn.pyc\u001b[0m in \u001b[0;36m__init__\u001b[0;34m(self, command, args, timeout, maxread, searchwindowsize, logfile, cwd, env, ignore_sighup, echo, preexec_fn, encoding, codec_errors, dimensions)\u001b[0m\n\u001b[1;32m    195\u001b[0m             \u001b[0mself\u001b[0m\u001b[0;34m.\u001b[0m\u001b[0mname\u001b[0m \u001b[0;34m=\u001b[0m \u001b[0;34m'<pexpect factory incomplete>'\u001b[0m\u001b[0;34m\u001b[0m\u001b[0m\n\u001b[1;32m    196\u001b[0m         \u001b[0;32melse\u001b[0m\u001b[0;34m:\u001b[0m\u001b[0;34m\u001b[0m\u001b[0m\n\u001b[0;32m--> 197\u001b[0;31m             \u001b[0mself\u001b[0m\u001b[0;34m.\u001b[0m\u001b[0m_spawn\u001b[0m\u001b[0;34m(\u001b[0m\u001b[0mcommand\u001b[0m\u001b[0;34m,\u001b[0m \u001b[0margs\u001b[0m\u001b[0;34m,\u001b[0m \u001b[0mpreexec_fn\u001b[0m\u001b[0;34m,\u001b[0m \u001b[0mdimensions\u001b[0m\u001b[0;34m)\u001b[0m\u001b[0;34m\u001b[0m\u001b[0m\n\u001b[0m\u001b[1;32m    198\u001b[0m \u001b[0;34m\u001b[0m\u001b[0m\n\u001b[1;32m    199\u001b[0m     \u001b[0;32mdef\u001b[0m \u001b[0m__str__\u001b[0m\u001b[0;34m(\u001b[0m\u001b[0mself\u001b[0m\u001b[0;34m)\u001b[0m\u001b[0;34m:\u001b[0m\u001b[0;34m\u001b[0m\u001b[0m\n",
      "\u001b[0;32m/home/kbmod-usr/anaconda2/lib/python2.7/site-packages/pexpect/pty_spawn.pyc\u001b[0m in \u001b[0;36m_spawn\u001b[0;34m(self, command, args, preexec_fn, dimensions)\u001b[0m\n\u001b[1;32m    295\u001b[0m \u001b[0;34m\u001b[0m\u001b[0m\n\u001b[1;32m    296\u001b[0m         self.ptyproc = self._spawnpty(self.args, env=self.env,\n\u001b[0;32m--> 297\u001b[0;31m                                      cwd=self.cwd, **kwargs)\n\u001b[0m\u001b[1;32m    298\u001b[0m \u001b[0;34m\u001b[0m\u001b[0m\n\u001b[1;32m    299\u001b[0m         \u001b[0mself\u001b[0m\u001b[0;34m.\u001b[0m\u001b[0mpid\u001b[0m \u001b[0;34m=\u001b[0m \u001b[0mself\u001b[0m\u001b[0;34m.\u001b[0m\u001b[0mptyproc\u001b[0m\u001b[0;34m.\u001b[0m\u001b[0mpid\u001b[0m\u001b[0;34m\u001b[0m\u001b[0m\n",
      "\u001b[0;32m/home/kbmod-usr/anaconda2/lib/python2.7/site-packages/pexpect/pty_spawn.pyc\u001b[0m in \u001b[0;36m_spawnpty\u001b[0;34m(self, args, **kwargs)\u001b[0m\n\u001b[1;32m    306\u001b[0m     \u001b[0;32mdef\u001b[0m \u001b[0m_spawnpty\u001b[0m\u001b[0;34m(\u001b[0m\u001b[0mself\u001b[0m\u001b[0;34m,\u001b[0m \u001b[0margs\u001b[0m\u001b[0;34m,\u001b[0m \u001b[0;34m**\u001b[0m\u001b[0mkwargs\u001b[0m\u001b[0;34m)\u001b[0m\u001b[0;34m:\u001b[0m\u001b[0;34m\u001b[0m\u001b[0m\n\u001b[1;32m    307\u001b[0m         \u001b[0;34m'''Spawn a pty and return an instance of PtyProcess.'''\u001b[0m\u001b[0;34m\u001b[0m\u001b[0m\n\u001b[0;32m--> 308\u001b[0;31m         \u001b[0;32mreturn\u001b[0m \u001b[0mptyprocess\u001b[0m\u001b[0;34m.\u001b[0m\u001b[0mPtyProcess\u001b[0m\u001b[0;34m.\u001b[0m\u001b[0mspawn\u001b[0m\u001b[0;34m(\u001b[0m\u001b[0margs\u001b[0m\u001b[0;34m,\u001b[0m \u001b[0;34m**\u001b[0m\u001b[0mkwargs\u001b[0m\u001b[0;34m)\u001b[0m\u001b[0;34m\u001b[0m\u001b[0m\n\u001b[0m\u001b[1;32m    309\u001b[0m \u001b[0;34m\u001b[0m\u001b[0m\n\u001b[1;32m    310\u001b[0m     \u001b[0;32mdef\u001b[0m \u001b[0mclose\u001b[0m\u001b[0;34m(\u001b[0m\u001b[0mself\u001b[0m\u001b[0;34m,\u001b[0m \u001b[0mforce\u001b[0m\u001b[0;34m=\u001b[0m\u001b[0mTrue\u001b[0m\u001b[0;34m)\u001b[0m\u001b[0;34m:\u001b[0m\u001b[0;34m\u001b[0m\u001b[0m\n",
      "\u001b[0;32m/home/kbmod-usr/anaconda2/lib/python2.7/site-packages/ptyprocess/ptyprocess.pyc\u001b[0m in \u001b[0;36mspawn\u001b[0;34m(cls, argv, cwd, env, echo, preexec_fn, dimensions)\u001b[0m\n\u001b[1;32m    218\u001b[0m \u001b[0;34m\u001b[0m\u001b[0m\n\u001b[1;32m    219\u001b[0m         \u001b[0;32mif\u001b[0m \u001b[0muse_native_pty_fork\u001b[0m\u001b[0;34m:\u001b[0m\u001b[0;34m\u001b[0m\u001b[0m\n\u001b[0;32m--> 220\u001b[0;31m             \u001b[0mpid\u001b[0m\u001b[0;34m,\u001b[0m \u001b[0mfd\u001b[0m \u001b[0;34m=\u001b[0m \u001b[0mpty\u001b[0m\u001b[0;34m.\u001b[0m\u001b[0mfork\u001b[0m\u001b[0;34m(\u001b[0m\u001b[0;34m)\u001b[0m\u001b[0;34m\u001b[0m\u001b[0m\n\u001b[0m\u001b[1;32m    221\u001b[0m         \u001b[0;32melse\u001b[0m\u001b[0;34m:\u001b[0m\u001b[0;34m\u001b[0m\u001b[0m\n\u001b[1;32m    222\u001b[0m             \u001b[0;31m# Use internal fork_pty, for Solaris\u001b[0m\u001b[0;34m\u001b[0m\u001b[0;34m\u001b[0m\u001b[0m\n",
      "\u001b[0;32m/home/kbmod-usr/anaconda2/lib/python2.7/pty.pyc\u001b[0m in \u001b[0;36mfork\u001b[0;34m()\u001b[0m\n\u001b[1;32m    106\u001b[0m \u001b[0;34m\u001b[0m\u001b[0m\n\u001b[1;32m    107\u001b[0m     \u001b[0mmaster_fd\u001b[0m\u001b[0;34m,\u001b[0m \u001b[0mslave_fd\u001b[0m \u001b[0;34m=\u001b[0m \u001b[0mopenpty\u001b[0m\u001b[0;34m(\u001b[0m\u001b[0;34m)\u001b[0m\u001b[0;34m\u001b[0m\u001b[0m\n\u001b[0;32m--> 108\u001b[0;31m     \u001b[0mpid\u001b[0m \u001b[0;34m=\u001b[0m \u001b[0mos\u001b[0m\u001b[0;34m.\u001b[0m\u001b[0mfork\u001b[0m\u001b[0;34m(\u001b[0m\u001b[0;34m)\u001b[0m\u001b[0;34m\u001b[0m\u001b[0m\n\u001b[0m\u001b[1;32m    109\u001b[0m     \u001b[0;32mif\u001b[0m \u001b[0mpid\u001b[0m \u001b[0;34m==\u001b[0m \u001b[0mCHILD\u001b[0m\u001b[0;34m:\u001b[0m\u001b[0;34m\u001b[0m\u001b[0m\n\u001b[1;32m    110\u001b[0m         \u001b[0;31m# Establish a new session.\u001b[0m\u001b[0;34m\u001b[0m\u001b[0;34m\u001b[0m\u001b[0m\n",
      "\u001b[0;31mOSError\u001b[0m: [Errno 12] Cannot allocate memory"
     ]
    }
   ],
   "source": [
    "for chip_num in ['01', '03', '04', '05']:\n",
    "    chip_results = []\n",
    "    chip_lc = []\n",
    "    chip_stamps = []\n",
    "    chip_times = []\n",
    "    field_id = []\n",
    "    df = pd.DataFrame(columns=['t0_x', 't0_y', 'theta_par', 'theta_perp', 'v_x', \n",
    "                               'v_y', 'likelihood', 'est_flux', 'field_num'])\n",
    "    for field_num in xrange(1,57):\n",
    "        if field_num < 10:\n",
    "            real_image_path = str(\"../../HITS/trimmed_chip_\" + str(chip_num) + \n",
    "                                  \"/Blind15A_0\" + str(field_num) + \"/search_nights/\")\n",
    "        else:\n",
    "            real_image_path = str(\"../../HITS/trimmed_chip_\" + str(chip_num) + \n",
    "                                  \"/Blind15A_\" + str(field_num) + \"/search_nights/\")\n",
    "        results_name = \"HITS1\"\n",
    "        gpu_code_path = \"../code/gpu/\"\n",
    "        psi_image_path = gpu_code_path+\"output-images/psi\"\n",
    "        phi_image_path = gpu_code_path+\"output-images/phi\"\n",
    "        \n",
    "        write_param_file()\n",
    "        \n",
    "        !cd ~/cuda-workspace/kbmod/code/gpu/debug/; ./clearImages.sh\n",
    "        !cd ~/cuda-workspace/kbmod/code/gpu/debug/; ./CudaTracker\n",
    "        \n",
    "        try:\n",
    "            kept_results, light_curves, stamps, image_times = process_results()\n",
    "            field_df = pd.DataFrame.from_records(kept_results)\n",
    "            field_df['field_num'] = field_num\n",
    "            df = df.append(field_df)\n",
    "            for lc, stamp in zip(light_curves, stamps):\n",
    "                chip_lc.append(lc)\n",
    "                chip_stamps.append(stamp)\n",
    "                chip_times.append(image_times)\n",
    "                field_id.append(field_num)\n",
    "        except:\n",
    "            continue\n",
    "    df.to_csv(str(str(chip_num) + '_results.csv'), index=False)\n",
    "    fig = plt.figure(figsize=(8, 3*len(field_id)))\n",
    "    for lc, stamp, plot_num, image_time_set in zip(chip_lc, chip_stamps, np.arange(len(field_id)), chip_times):\n",
    "        fig.add_subplot(len(field_id),2,2*plot_num + 1)\n",
    "        plt.imshow(stamp, origin='lower', interpolation='None')\n",
    "        plt.title(str(field_id[plot_num]))\n",
    "        fig.add_subplot(len(field_id),2,2*plot_num + 2)\n",
    "        plt.plot(image_time_set, lc)\n",
    "        plt.xlabel('Time (days)')\n",
    "        plt.ylabel('Flux')\n",
    "        plt.tight_layout()\n",
    "    plt.savefig(str(str(chip_num) + '_stamps.png'))"
   ]
  },
  {
   "cell_type": "code",
   "execution_count": null,
   "metadata": {
    "collapsed": true
   },
   "outputs": [],
   "source": []
  }
 ],
 "metadata": {
  "kernelspec": {
   "display_name": "Python 2",
   "language": "python",
   "name": "python2"
  },
  "language_info": {
   "codemirror_mode": {
    "name": "ipython",
    "version": 2
   },
   "file_extension": ".py",
   "mimetype": "text/x-python",
   "name": "python",
   "nbconvert_exporter": "python",
   "pygments_lexer": "ipython2",
   "version": "2.7.13"
  }
 },
 "nbformat": 4,
 "nbformat_minor": 2
}
