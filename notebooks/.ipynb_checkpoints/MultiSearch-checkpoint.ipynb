{
 "cells": [
  {
   "cell_type": "code",
   "execution_count": 2,
   "metadata": {
    "collapsed": false
   },
   "outputs": [],
   "source": [
    "import Search"
   ]
  },
  {
   "cell_type": "code",
   "execution_count": 3,
   "metadata": {
    "collapsed": true
   },
   "outputs": [],
   "source": [
    "images_path = \"../code/gpu/images/chip_1\"\n",
    "name = \"test1\""
   ]
  },
  {
   "cell_type": "code",
   "execution_count": 5,
   "metadata": {
    "collapsed": false
   },
   "outputs": [
    {
     "ename": "IndexError",
     "evalue": "tuple index out of range",
     "output_type": "error",
     "traceback": [
      "\u001b[0;31m---------------------------------------------------------------------------\u001b[0m",
      "\u001b[0;31mIndexError\u001b[0m                                Traceback (most recent call last)",
      "\u001b[0;32m<ipython-input-5-9d1b0e6d9b1d>\u001b[0m in \u001b[0;36m<module>\u001b[0;34m()\u001b[0m\n\u001b[1;32m      3\u001b[0m                   \u001b[0mangles_to_search\u001b[0m\u001b[0;34m=\u001b[0m\u001b[0;36m30\u001b[0m\u001b[0;34m,\u001b[0m\u001b[0;34m\u001b[0m\u001b[0m\n\u001b[1;32m      4\u001b[0m                   \u001b[0mvelocities_to_search\u001b[0m\u001b[0;34m=\u001b[0m\u001b[0;36m15\u001b[0m\u001b[0;34m,\u001b[0m \u001b[0mmin_velocity\u001b[0m\u001b[0;34m=\u001b[0m\u001b[0;36m200.0\u001b[0m\u001b[0;34m,\u001b[0m \u001b[0mmax_velocity\u001b[0m\u001b[0;34m=\u001b[0m\u001b[0;36m500\u001b[0m\u001b[0;34m,\u001b[0m\u001b[0;34m\u001b[0m\u001b[0m\n\u001b[0;32m----> 5\u001b[0;31m                   write_images=0)\n\u001b[0m",
      "\u001b[0;32m/home/kbmod-usr/cuda-workspace/kbmod/notebooks/Search.py\u001b[0m in \u001b[0;36msearch_images\u001b[0;34m(path, run_name, mask_threshold, mask_penalty, psf_sigma, angles_to_search, min_angle, max_angle, velocities_to_search, min_velocity, max_velocity, write_images)\u001b[0m\n\u001b[1;32m     66\u001b[0m               \u001b[0mangle_count\u001b[0m\u001b[0;34m=\u001b[0m\u001b[0mangles_to_search\u001b[0m\u001b[0;34m,\u001b[0m \u001b[0mmin_a\u001b[0m\u001b[0;34m=\u001b[0m\u001b[0mmin_angle\u001b[0m\u001b[0;34m,\u001b[0m \u001b[0mmax_a\u001b[0m\u001b[0;34m=\u001b[0m\u001b[0mmax_angle\u001b[0m\u001b[0;34m,\u001b[0m\u001b[0;34m\u001b[0m\u001b[0m\n\u001b[1;32m     67\u001b[0m               \u001b[0mvel_count\u001b[0m\u001b[0;34m=\u001b[0m\u001b[0mvelocities_to_search\u001b[0m\u001b[0;34m,\u001b[0m \u001b[0mmin_v\u001b[0m\u001b[0;34m=\u001b[0m\u001b[0mmin_velocity\u001b[0m\u001b[0;34m,\u001b[0m \u001b[0mmax_v\u001b[0m\u001b[0;34m=\u001b[0m\u001b[0mmax_velocity\u001b[0m\u001b[0;34m,\u001b[0m\u001b[0;34m\u001b[0m\u001b[0m\n\u001b[0;32m---> 68\u001b[0;31m               write_imgs=write_images, name=run_name)\n\u001b[0m\u001b[1;32m     69\u001b[0m \u001b[0;34m\u001b[0m\u001b[0m\n\u001b[1;32m     70\u001b[0m     \u001b[0mparamsFile\u001b[0m \u001b[0;34m=\u001b[0m \u001b[0mopen\u001b[0m\u001b[0;34m(\u001b[0m\u001b[0;34m'../code/gpu/debug/parameters.config'\u001b[0m\u001b[0;34m,\u001b[0m \u001b[0;34m'w'\u001b[0m\u001b[0;34m)\u001b[0m\u001b[0;34m\u001b[0m\u001b[0m\n",
      "\u001b[0;31mIndexError\u001b[0m: tuple index out of range"
     ]
    }
   ],
   "source": [
    "Search.search_images(images_path, name, \n",
    "                  mask_threshold=0.75, mask_penalty=-0.03,\n",
    "                  angles_to_search=30,  \n",
    "                  velocities_to_search=15, min_velocity=200.0, max_velocity=500,\n",
    "                  write_images=0)"
   ]
  },
  {
   "cell_type": "code",
   "execution_count": null,
   "metadata": {
    "collapsed": true
   },
   "outputs": [],
   "source": []
  }
 ],
 "metadata": {
  "kernelspec": {
   "display_name": "Python 2",
   "language": "python",
   "name": "python2"
  },
  "language_info": {
   "codemirror_mode": {
    "name": "ipython",
    "version": 2
   },
   "file_extension": ".py",
   "mimetype": "text/x-python",
   "name": "python",
   "nbconvert_exporter": "python",
   "pygments_lexer": "ipython2",
   "version": "2.7.13"
  }
 },
 "nbformat": 4,
 "nbformat_minor": 2
}
