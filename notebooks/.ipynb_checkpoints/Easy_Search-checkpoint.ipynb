{
 "cells": [
  {
   "cell_type": "code",
   "execution_count": 6,
   "metadata": {
    "collapsed": true
   },
   "outputs": [],
   "source": [
    "images_path = \"../code/gpu/images/chip_1\"\n",
    "name = \"test1\""
   ]
  },
  {
   "cell_type": "code",
   "execution_count": 7,
   "metadata": {
    "collapsed": true
   },
   "outputs": [],
   "source": [
    "gpu_code_path = \"../code/gpu/\"\n",
    "real_image_name = \"chip_1\"\n",
    "real_image_path = \"../../bryce_samples\" #gpu_code_path+\"images/\"+real_image_name #\n",
    "psi_image_path = gpu_code_path+\"output-images/psi\"\n",
    "phi_image_path = gpu_code_path+\"output-images/phi\""
   ]
  },
  {
   "cell_type": "code",
   "execution_count": 8,
   "metadata": {
    "collapsed": false
   },
   "outputs": [],
   "source": [
    "paramsFile = open('../code/gpu/debug/parameters.config', 'w')\n",
    "paramsFile.write(\n",
    "\"\"\"Debug ................ : 1\n",
    "Image Count .......... : 15\n",
    "Generate Images ...... : 0\n",
    "Image Width .......... : 100\n",
    "Image Height ......... : 100\n",
    "PSF Sigma ............ : 1.0\n",
    "Object Brightness .... : 50.0\n",
    "Object Initial x ..... : 50.0\n",
    "Object Initial y ..... : 58.0\n",
    "Velocity x ........... : -1.33\n",
    "Velocity y ........... : -0.2\n",
    "Background Level ..... : 1024.0\n",
    "Background Sigma ..... : 4.0\n",
    "Mask Threshold ....... : 0.75\n",
    "Mask Penalty ......... : -0.05\n",
    "Angles to Search ..... : 80\n",
    "Minimum Angle ........ : 0.0\n",
    "Maximum Angle ........ : 6.283\n",
    "Velocities to Search . : 35\n",
    "Minimum Velocity ..... : 0.4\n",
    "Maximum Velocity ..... : 5.0\n",
    "Psi/Phi to file ...... : 1\n",
    "Source Images Path ... : ../../{source}/\n",
    "Psi Images Path ...... : ../../{psi}/\n",
    "Phi Images Path....... : ../../{phi}/\n",
    "Results Path ......... : ../../../data/results/test2.txt\n",
    "\"\"\".format( source=real_image_path, psi=psi_image_path, phi=phi_image_path ))\n",
    "paramsFile.close()"
   ]
  },
  {
   "cell_type": "code",
   "execution_count": 9,
   "metadata": {
    "collapsed": false
   },
   "outputs": [
    {
     "name": "stdout",
     "output_type": "stream",
     "text": [
      "rm: cannot remove '../output-images/psi/*.fits': No such file or directory\r\n",
      "rm: cannot remove '../output-images/phi/*.fits': No such file or directory\r\n"
     ]
    }
   ],
   "source": [
    "!cd ~/cuda-workspace/kbmod/code/gpu/debug/; ./clearImages.sh"
   ]
  },
  {
   "cell_type": "code",
   "execution_count": 10,
   "metadata": {
    "collapsed": false
   },
   "outputs": [
    {
     "name": "stdout",
     "output_type": "stream",
     "text": [
      "Image Count ..........  : 15\n",
      "Generate Images ......  : 0\n",
      "Image Width ..........  : 100\n",
      "Image Height .........  : 100\n",
      "PSF Sigma ............  : 1.0\n",
      "Object Brightness ....  : 50.0\n",
      "Object Initial x .....  : 50.0\n",
      "Object Initial y .....  : 58.0\n",
      "Velocity x ...........  : -1.33\n",
      "Velocity y ...........  : -0.2\n",
      "Background Level .....  : 1024.0\n",
      "Background Sigma .....  : 4.0\n",
      "Mask Threshold .......  : 0.75\n",
      "Mask Penalty .........  : -0.05\n",
      "Angles to Search .....  : 80\n",
      "Minimum Angle ........  : 0.0\n",
      "Maximum Angle ........  : 6.283\n",
      "Velocities to Search .  : 35\n",
      "Minimum Velocity .....  : 0.4\n",
      "Maximum Velocity .....  : 5.0\n",
      "Psi/Phi to file ......  : 1\n",
      "Source Images Path ...  : ../../../../bryce_samples/\n",
      "Psi Images Path ......  : ../../../code/gpu/output-images/psi/\n",
      "Phi Images Path.......  : ../../../code/gpu/output-images/phi/\n",
      "Results Path .........  : ../../../data/results/test2.txt\n",
      "Using Kernel Size 5X5\n",
      "| 0.004 | 0.015 | 0.023 | 0.015 | 0.004 | \n",
      " ---------------------------------------\n",
      "| 0.015 | 0.058 | 0.093 | 0.058 | 0.015 | \n",
      " ---------------------------------------\n",
      "| 0.023 | 0.093 | 0.147 | 0.093 | 0.023 | \n",
      " ---------------------------------------\n",
      "| 0.015 | 0.058 | 0.093 | 0.058 | 0.015 | \n",
      " ---------------------------------------\n",
      "| 0.004 | 0.015 | 0.023 | 0.015 | 0.004 | \n",
      " ---------------------------------------\n",
      "97.532% of PSF contained within kernel\n",
      "Reading 15 images from ../../../../bryce_samples/\n",
      "\n",
      "Image times: 0.000 1.000 2.000 3.000 4.000 5.000 6.000 7.000 8.000 9.000 10.000 11.000 12.000 13.000 14.000 \n",
      "Masking images ... Done.\n",
      "Creating Psi and Phi ... Done. Took 24.586 ms per image\n",
      "Creating interleaved psi/phi buffer ... Done.\n",
      "Padding 32 pixels around edges.\n",
      "Searching 2800 possible trajectories starting from 28224 pixels... \n",
      " 1. Likelihood: 89.951 at x: 21, y: 20  and velocity x: 3.987, y: 2.031 Est. Flux: 1267.134\n",
      " 2. Likelihood: 83.003 at x: 20, y: 20  and velocity x: 4.104, y: 2.091 Est. Flux: 1169.254\n",
      " 3. Likelihood: 81.696 at x: 21, y: 21  and velocity x: 3.870, y: 1.972 Est. Flux: 1150.852\n",
      " 4. Likelihood: 79.887 at x: 22, y: 21  and velocity x: 3.870, y: 1.972 Est. Flux: 1125.365\n",
      " 5. Likelihood: 77.146 at x: 19, y: 20  and velocity x: 4.104, y: 2.091 Est. Flux: 1086.745\n",
      " 6. Likelihood: 73.989 at x: 21, y: 19  and velocity x: 3.987, y: 2.031 Est. Flux: 1042.277\n",
      " 7. Likelihood: 73.009 at x: 20, y: 19  and velocity x: 4.104, y: 2.091 Est. Flux: 1028.481\n",
      " 8. Likelihood: 72.747 at x: 22, y: 20  and velocity x: 3.987, y: 2.031 Est. Flux: 1024.785\n",
      " 9. Likelihood: 71.057 at x: 19, y: 19  and velocity x: 4.221, y: 2.151 Est. Flux: 1000.971\n",
      "10. Likelihood: 66.392 at x: 21, y: 22  and velocity x: 3.870, y: 1.972 Est. Flux: 935.263\n",
      "11. Likelihood: 65.426 at x: 20, y: 21  and velocity x: 4.104, y: 2.091 Est. Flux: 921.652\n",
      "12. Likelihood: 65.294 at x: 22, y: 22  and velocity x: 3.870, y: 1.972 Est. Flux: 919.794\n",
      "13. Likelihood: 64.707 at x: 23, y: 21  and velocity x: 3.752, y: 1.912 Est. Flux: 911.529\n",
      "14. Likelihood: 64.508 at x: 20, y: 23  and velocity x: 4.012, y: 1.662 Est. Flux: 908.723\n",
      "15. Likelihood: 64.246 at x: 18, y: 19  and velocity x: 4.221, y: 2.151 Est. Flux: 905.026\n",
      "Took 0.417 seconds to complete search.\n",
      "Writing images to file... Done.\n"
     ]
    }
   ],
   "source": [
    "!cd ~/cuda-workspace/kbmod/code/gpu/debug/; ./CudaTracker"
   ]
  },
  {
   "cell_type": "code",
   "execution_count": null,
   "metadata": {
    "collapsed": true
   },
   "outputs": [],
   "source": []
  }
 ],
 "metadata": {
  "kernelspec": {
   "display_name": "Python 2",
   "language": "python",
   "name": "python2"
  },
  "language_info": {
   "codemirror_mode": {
    "name": "ipython",
    "version": 2
   },
   "file_extension": ".py",
   "mimetype": "text/x-python",
   "name": "python",
   "nbconvert_exporter": "python",
   "pygments_lexer": "ipython2",
   "version": "2.7.13"
  }
 },
 "nbformat": 4,
 "nbformat_minor": 2
}
