{
 "cells": [
  {
   "cell_type": "code",
   "execution_count": 1,
   "metadata": {},
   "outputs": [],
   "source": [
    "import numpy as np\n",
    "import pandas as pd\n",
    "import matplotlib.pyplot as plt\n",
    "import os\n",
    "from ephem_utils import ephem_utils\n",
    "%matplotlib inline\n",
    "%load_ext autoreload\n",
    "%autoreload 2"
   ]
  },
  {
   "cell_type": "code",
   "execution_count": 2,
   "metadata": {},
   "outputs": [],
   "source": [
    "visit_df = pd.read_csv('/epyc/users/smotherh/DECAM_Data_Reduction/loriallen_times.dat', delimiter=' ',\n",
    "                       skiprows=1, names=['visit_num', 'visit_mjd'])"
   ]
  },
  {
   "cell_type": "code",
   "execution_count": 3,
   "metadata": {},
   "outputs": [],
   "source": [
    "results_file = '/epyc/users/smotherh/DECAM_Data_Reduction/kbmod_results/300/22/results_full_lc.txt'\n",
    "\n",
    "image_file = str('/epyc/users/smotherh/DECAM_Data_Reduction/pointing_groups_hyak/'+\n",
    "                 'Pointing_Group_300/processed_data/rerun/rerun_processed_data/0433932/'+\n",
    "                 'calexp/calexp-0433932_22.fits')\n",
    "\n",
    "ep = ephem_utils(results_file, image_file, visit_df['visit_num'].values, visit_df['visit_mjd'].values, [433932, 433936, 433940, 433945, 433949,\n",
    "                                                                                                        434610, 434614, 434622, 434626, 435498,\n",
    "                                                                                                        435502, 435506, 435510])"
   ]
  },
  {
   "cell_type": "code",
   "execution_count": 4,
   "metadata": {},
   "outputs": [
    {
     "data": {
      "text/html": [
       "<div>\n",
       "<style scoped>\n",
       "    .dataframe tbody tr th:only-of-type {\n",
       "        vertical-align: middle;\n",
       "    }\n",
       "\n",
       "    .dataframe tbody tr th {\n",
       "        vertical-align: top;\n",
       "    }\n",
       "\n",
       "    .dataframe thead th {\n",
       "        text-align: right;\n",
       "    }\n",
       "</style>\n",
       "<table border=\"1\" class=\"dataframe\">\n",
       "  <thead>\n",
       "    <tr style=\"text-align: right;\">\n",
       "      <th></th>\n",
       "      <th>lh</th>\n",
       "      <th>flux</th>\n",
       "      <th>x0</th>\n",
       "      <th>y0</th>\n",
       "      <th>x_v</th>\n",
       "      <th>y_v</th>\n",
       "      <th>obs_count</th>\n",
       "    </tr>\n",
       "  </thead>\n",
       "  <tbody>\n",
       "    <tr>\n",
       "      <th>0</th>\n",
       "      <td>51.338379</td>\n",
       "      <td>1167.514038</td>\n",
       "      <td>89.0</td>\n",
       "      <td>4021.0</td>\n",
       "      <td>-58.496994</td>\n",
       "      <td>-207.676514</td>\n",
       "      <td>10.0</td>\n",
       "    </tr>\n",
       "    <tr>\n",
       "      <th>1</th>\n",
       "      <td>52.504288</td>\n",
       "      <td>1115.429565</td>\n",
       "      <td>129.0</td>\n",
       "      <td>2667.0</td>\n",
       "      <td>-96.969185</td>\n",
       "      <td>-188.935974</td>\n",
       "      <td>10.0</td>\n",
       "    </tr>\n",
       "    <tr>\n",
       "      <th>2</th>\n",
       "      <td>49.810539</td>\n",
       "      <td>1063.618896</td>\n",
       "      <td>76.0</td>\n",
       "      <td>2698.0</td>\n",
       "      <td>-43.673504</td>\n",
       "      <td>-219.940170</td>\n",
       "      <td>10.0</td>\n",
       "    </tr>\n",
       "    <tr>\n",
       "      <th>3</th>\n",
       "      <td>49.793983</td>\n",
       "      <td>1077.010132</td>\n",
       "      <td>181.0</td>\n",
       "      <td>2743.0</td>\n",
       "      <td>-148.411545</td>\n",
       "      <td>-265.212677</td>\n",
       "      <td>10.0</td>\n",
       "    </tr>\n",
       "    <tr>\n",
       "      <th>4</th>\n",
       "      <td>57.040955</td>\n",
       "      <td>1245.665527</td>\n",
       "      <td>63.0</td>\n",
       "      <td>2597.0</td>\n",
       "      <td>-30.895140</td>\n",
       "      <td>-118.556183</td>\n",
       "      <td>10.0</td>\n",
       "    </tr>\n",
       "  </tbody>\n",
       "</table>\n",
       "</div>"
      ],
      "text/plain": [
       "          lh         flux     x0      y0         x_v         y_v  obs_count\n",
       "0  51.338379  1167.514038   89.0  4021.0  -58.496994 -207.676514       10.0\n",
       "1  52.504288  1115.429565  129.0  2667.0  -96.969185 -188.935974       10.0\n",
       "2  49.810539  1063.618896   76.0  2698.0  -43.673504 -219.940170       10.0\n",
       "3  49.793983  1077.010132  181.0  2743.0 -148.411545 -265.212677       10.0\n",
       "4  57.040955  1245.665527   63.0  2597.0  -30.895140 -118.556183       10.0"
      ]
     },
     "execution_count": 4,
     "metadata": {},
     "output_type": "execute_result"
    }
   ],
   "source": [
    "ep.results_df.head()"
   ]
  },
  {
   "cell_type": "code",
   "execution_count": 5,
   "metadata": {},
   "outputs": [],
   "source": [
    "ep.get_searched_radec(0)"
   ]
  },
  {
   "cell_type": "code",
   "execution_count": null,
   "metadata": {},
   "outputs": [],
   "source": [
    "ep.format_results_mpc()"
   ]
  },
  {
   "cell_type": "code",
   "execution_count": null,
   "metadata": {},
   "outputs": [],
   "source": [
    "ep.coords, ep.mjd_0"
   ]
  },
  {
   "cell_type": "code",
   "execution_count": null,
   "metadata": {},
   "outputs": [],
   "source": [
    "ep.mjd_0"
   ]
  },
  {
   "cell_type": "code",
   "execution_count": null,
   "metadata": {},
   "outputs": [],
   "source": [
    "date_range = np.arange(ep.mjd_0-50., ep.mjd_0+50., 0.5)\n",
    "pred_ra, pred_dec = ep.predict_ephemeris(date_range)"
   ]
  },
  {
   "cell_type": "code",
   "execution_count": null,
   "metadata": {},
   "outputs": [],
   "source": [
    "fig = ep.plot_predictions(date_range)"
   ]
  },
  {
   "cell_type": "code",
   "execution_count": null,
   "metadata": {},
   "outputs": [],
   "source": [
    "ep.predict_pixels(image_file, np.arange(ep.mjd_0, ep.mjd_0+2, 0.2))"
   ]
  },
  {
   "cell_type": "code",
   "execution_count": null,
   "metadata": {},
   "outputs": [],
   "source": [
    "el, err, o = ep.predict_elements()"
   ]
  },
  {
   "cell_type": "code",
   "execution_count": null,
   "metadata": {},
   "outputs": [],
   "source": [
    "el, err"
   ]
  },
  {
   "cell_type": "code",
   "execution_count": null,
   "metadata": {},
   "outputs": [],
   "source": []
  }
 ],
 "metadata": {
  "kernelspec": {
   "display_name": "kbmod",
   "language": "python",
   "name": "kbmod"
  },
  "language_info": {
   "codemirror_mode": {
    "name": "ipython",
    "version": 3
   },
   "file_extension": ".py",
   "mimetype": "text/x-python",
   "name": "python",
   "nbconvert_exporter": "python",
   "pygments_lexer": "ipython3",
   "version": "3.6.8"
  }
 },
 "nbformat": 4,
 "nbformat_minor": 2
}
