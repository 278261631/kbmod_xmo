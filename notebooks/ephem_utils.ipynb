{
 "cells": [
  {
   "cell_type": "code",
   "execution_count": 1,
   "metadata": {},
   "outputs": [],
   "source": [
    "! export PYORBFIT_HOME=/phys/users/brycek/epyc/users/brycek/pyOrbfit #/Users/gerdes/TNO/pyOrbfit\n",
    "\n",
    "! export LD_LIBRARY_PATH=$LD_LIBRARY_PATH:$PYORBFIT_HOME\n",
    "! export C_INCLUDE_PATH=$C_INCLUDE_PATH:$PYORBFIT_HOME\n",
    "! export PATH=$PATH:$PYORBFIT_HOME\n",
    "! export PYTHONPATH=$PYTHONPATH:$PYORBFIT_HOME\n",
    "\n",
    "! export ORBIT_EPHEMERIS=$PYORBFIT_HOME/binEphem.423\n",
    "! export ORBIT_OBSERVATORIES=$PYORBFIT_HOME/observatories.dat"
   ]
  },
  {
   "cell_type": "code",
   "execution_count": 2,
   "metadata": {},
   "outputs": [],
   "source": [
    "import numpy as np\n",
    "import pandas as pd\n",
    "import matplotlib.pyplot as plt\n",
    "import os\n",
    "from ephem_utils import ephem_utils\n",
    "%matplotlib inline\n",
    "%load_ext autoreload\n",
    "%autoreload 2"
   ]
  },
  {
   "cell_type": "code",
   "execution_count": 3,
   "metadata": {},
   "outputs": [],
   "source": [
    "convertfunc_1 = lambda x: x[1:]\n",
    "convertfunc_2 = lambda x: x[:-1]\n",
    "results = pd.DataFrame(np.genfromtxt('found_objects.csv', delimiter=',', \n",
    "                        usecols=(0,1,2,3,4,5,6), names=True,\n",
    "                        dtype=['i8', 'U8', 'U8', 'i8', 'i8', 'f8', 'f8'],\n",
    "                        converters={1: convertfunc_1, 2: convertfunc_2}))"
   ]
  },
  {
   "cell_type": "code",
   "execution_count": 4,
   "metadata": {},
   "outputs": [],
   "source": [
    "#os.environ['ORBIT_EPHEMERIS'] = '../analysis/pyOrbfit/binEphem.423'\n",
    "#os.environ['ORBIT_EPHEMERIS'] = 'asc_cat.405'\n",
    "#os.environ['ORBIT_OBSERVATORIES'] = '../analysis/pyOrbfit/observatories.dat'"
   ]
  },
  {
   "cell_type": "code",
   "execution_count": 5,
   "metadata": {},
   "outputs": [
    {
     "data": {
      "text/html": [
       "<div>\n",
       "<style scoped>\n",
       "    .dataframe tbody tr th:only-of-type {\n",
       "        vertical-align: middle;\n",
       "    }\n",
       "\n",
       "    .dataframe tbody tr th {\n",
       "        vertical-align: top;\n",
       "    }\n",
       "\n",
       "    .dataframe thead th {\n",
       "        text-align: right;\n",
       "    }\n",
       "</style>\n",
       "<table border=\"1\" class=\"dataframe\">\n",
       "  <thead>\n",
       "    <tr style=\"text-align: right;\">\n",
       "      <th></th>\n",
       "      <th>tract</th>\n",
       "      <th>patch_horizontal</th>\n",
       "      <th>patch_vertical</th>\n",
       "      <th>x0</th>\n",
       "      <th>y0</th>\n",
       "      <th>x_vel</th>\n",
       "      <th>y_vel</th>\n",
       "    </tr>\n",
       "  </thead>\n",
       "  <tbody>\n",
       "    <tr>\n",
       "      <th>0</th>\n",
       "      <td>0</td>\n",
       "      <td>2</td>\n",
       "      <td>4</td>\n",
       "      <td>1622</td>\n",
       "      <td>1500</td>\n",
       "      <td>214.204620</td>\n",
       "      <td>81.383980</td>\n",
       "    </tr>\n",
       "    <tr>\n",
       "      <th>1</th>\n",
       "      <td>3</td>\n",
       "      <td>4</td>\n",
       "      <td>4</td>\n",
       "      <td>987</td>\n",
       "      <td>1135</td>\n",
       "      <td>472.435577</td>\n",
       "      <td>223.248917</td>\n",
       "    </tr>\n",
       "    <tr>\n",
       "      <th>2</th>\n",
       "      <td>5</td>\n",
       "      <td>5</td>\n",
       "      <td>3</td>\n",
       "      <td>3496</td>\n",
       "      <td>1607</td>\n",
       "      <td>216.298416</td>\n",
       "      <td>94.617867</td>\n",
       "    </tr>\n",
       "    <tr>\n",
       "      <th>3</th>\n",
       "      <td>7</td>\n",
       "      <td>4</td>\n",
       "      <td>6</td>\n",
       "      <td>1243</td>\n",
       "      <td>1021</td>\n",
       "      <td>238.136871</td>\n",
       "      <td>76.018631</td>\n",
       "    </tr>\n",
       "    <tr>\n",
       "      <th>4</th>\n",
       "      <td>7</td>\n",
       "      <td>4</td>\n",
       "      <td>6</td>\n",
       "      <td>3047</td>\n",
       "      <td>3182</td>\n",
       "      <td>226.968872</td>\n",
       "      <td>100.539658</td>\n",
       "    </tr>\n",
       "  </tbody>\n",
       "</table>\n",
       "</div>"
      ],
      "text/plain": [
       "   tract patch_horizontal patch_vertical    x0    y0       x_vel       y_vel\n",
       "0      0                2              4  1622  1500  214.204620   81.383980\n",
       "1      3                4              4   987  1135  472.435577  223.248917\n",
       "2      5                5              3  3496  1607  216.298416   94.617867\n",
       "3      7                4              6  1243  1021  238.136871   76.018631\n",
       "4      7                4              6  3047  3182  226.968872  100.539658"
      ]
     },
     "execution_count": 5,
     "metadata": {},
     "output_type": "execute_result"
    }
   ],
   "source": [
    "results.head()"
   ]
  },
  {
   "cell_type": "code",
   "execution_count": 6,
   "metadata": {},
   "outputs": [],
   "source": [
    "ep = ephem_utils(results.iloc[0])"
   ]
  },
  {
   "cell_type": "code",
   "execution_count": 7,
   "metadata": {},
   "outputs": [],
   "source": [
    "ep.get_searched_radec('v410908-fg.fits')"
   ]
  },
  {
   "cell_type": "code",
   "execution_count": 8,
   "metadata": {},
   "outputs": [
    {
     "name": "stdout",
     "output_type": "stream",
     "text": [
      "     c111112  c2015 02 17.13129 09 39 43.811-04 34 59.54                     807\n",
      "     c111112  c2015 02 17.21672 09 39 43.403-04 34 57.24                     807\n",
      "     c111112  c2015 02 17.28545 09 39 43.075-04 34 55.38                     807\n",
      "     c111112  c2015 02 17.33246 09 39 42.851-04 34 54.11                     807\n",
      "     c111112  c2015 02 18.06011 09 39 39.378-04 34 34.46                     807\n",
      "     c111112  c2015 02 18.12787 09 39 39.055-04 34 32.63                     807\n",
      "     c111112  c2015 02 18.19553 09 39 38.732-04 34 30.80                     807\n",
      "     c111112  c2015 02 18.26566 09 39 38.397-04 34 28.91                     807\n",
      "     c111112  c2015 02 18.33465 09 39 38.068-04 34 27.04                     807\n",
      "     c111112  c2015 02 19.05684 09 39 34.621-04 34 07.54                     807\n",
      "     c111112  c2015 02 19.19379 09 39 33.967-04 34 03.84                     807\n",
      "     c111112  c2015 02 19.26247 09 39 33.640-04 34 01.99                     807\n",
      "     c111112  c2015 02 19.33164 09 39 33.310-04 34 00.12                     807\n"
     ]
    }
   ],
   "source": [
    "ep.format_results_mpc()"
   ]
  },
  {
   "cell_type": "code",
   "execution_count": 9,
   "metadata": {},
   "outputs": [
    {
     "data": {
      "text/plain": [
       "(<SkyCoord (ICRS): (ra, dec) in deg\n",
       "     [(144.93254492, -4.58320627), (144.93084609, -4.58256544),\n",
       "      (144.92947944, -4.58204992), (144.92854456, -4.58169726),\n",
       "      (144.91407473, -4.57623873), (144.91272722, -4.57573038),\n",
       "      (144.91138173, -4.57522279), (144.90998711, -4.57469666),\n",
       "      (144.90861531, -4.57417914), (144.89425425, -4.56876112),\n",
       "      (144.89153095, -4.56773366), (144.89016535, -4.56721843),\n",
       "      (144.88878989, -4.56669948)]>, 57070.131292699996)"
      ]
     },
     "execution_count": 9,
     "metadata": {},
     "output_type": "execute_result"
    }
   ],
   "source": [
    "ep.coords, ep.mjd_0"
   ]
  },
  {
   "cell_type": "code",
   "execution_count": null,
   "metadata": {},
   "outputs": [],
   "source": [
    "date_range = np.arange(ep.mjd_0-100., ep.mjd_0+100., 1.0)\n",
    "pred_ra, pred_dec = ep.predict_ephemeris(date_range)"
   ]
  },
  {
   "cell_type": "code",
   "execution_count": 44,
   "metadata": {},
   "outputs": [
    {
     "data": {
      "image/png": "[encoded data removed]",
      "text/plain": [
       "<Figure size 432x288 with 2 Axes>"
      ]
     },
     "metadata": {},
     "output_type": "display_data"
    }
   ],
   "source": [
    "fig = ep.plot_predictions(date_range)"
   ]
  },
  {
   "cell_type": "code",
   "execution_count": 45,
   "metadata": {},
   "outputs": [
    {
     "data": {
      "text/plain": [
       "[array([1621.75449862, 1665.33472159, 1708.28542919, 1750.55071621,\n",
       "        1793.0023074 , 1836.22805049, 1879.71460852, 1922.55930613,\n",
       "        1964.72263465, 2007.08211544]),\n",
       " array([1500.5134307 , 1516.53621881, 1532.65285142, 1548.78841077,\n",
       "        1564.91683423, 1581.09670646, 1597.38952937, 1613.77399229,\n",
       "        1630.1752466 , 1646.56847296])]"
      ]
     },
     "execution_count": 45,
     "metadata": {},
     "output_type": "execute_result"
    }
   ],
   "source": [
    "ep.predict_pixels('v410908-fg.fits', np.arange(ep.mjd_0, ep.mjd_0+2, 0.2))"
   ]
  },
  {
   "cell_type": "code",
   "execution_count": 46,
   "metadata": {},
   "outputs": [],
   "source": [
    "el, err, o = ep.predict_elements()"
   ]
  },
  {
   "cell_type": "code",
   "execution_count": 47,
   "metadata": {},
   "outputs": [
    {
     "data": {
      "text/plain": [
       "({'a': 39.15670620914564,\n",
       "  'aop': 107.02532968774781,\n",
       "  'e': 0.045121746837225314,\n",
       "  'i': 17.887022180244585,\n",
       "  'lan': 221.31291844418956,\n",
       "  'top': 2412443.5156715363},\n",
       " {'a': 19.50200034494426,\n",
       "  'aop': 723.5156519930802,\n",
       "  'e': 0.5814316452720948,\n",
       "  'i': 0.6249671695544053,\n",
       "  'lan': 6.5208070690083,\n",
       "  'top': 179749.6170584311})"
      ]
     },
     "execution_count": 47,
     "metadata": {},
     "output_type": "execute_result"
    }
   ],
   "source": [
    "el, err"
   ]
  },
  {
   "cell_type": "code",
   "execution_count": null,
   "metadata": {},
   "outputs": [],
   "source": []
  }
 ],
 "metadata": {
  "kernelspec": {
   "display_name": "kbmod",
   "language": "python",
   "name": "kbmod"
  },
  "language_info": {
   "codemirror_mode": {
    "name": "ipython",
    "version": 3
   },
   "file_extension": ".py",
   "mimetype": "text/x-python",
   "name": "python",
   "nbconvert_exporter": "python",
   "pygments_lexer": "ipython3",
   "version": "3.6.8"
  }
 },
 "nbformat": 4,
 "nbformat_minor": 2
}
